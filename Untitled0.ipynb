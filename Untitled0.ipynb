{
  "nbformat": 4,
  "nbformat_minor": 0,
  "metadata": {
    "colab": {
      "name": "Untitled0.ipynb",
      "provenance": [],
      "authorship_tag": "ABX9TyOhr1yf8Gp7Sk7dIYbZ2DZU",
      "include_colab_link": true
    },
    "kernelspec": {
      "name": "python3",
      "display_name": "Python 3"
    },
    "language_info": {
      "name": "python"
    }
  },
  "cells": [
    {
      "cell_type": "markdown",
      "metadata": {
        "id": "view-in-github",
        "colab_type": "text"
      },
      "source": [
        "<a href=\"https://colab.research.google.com/github/june050312/2021_SummerStudy_Python-DeepLearning/blob/main/Untitled0.ipynb\" target=\"_parent\"><img src=\"https://colab.research.google.com/assets/colab-badge.svg\" alt=\"Open In Colab\"/></a>"
      ]
    },
    {
      "cell_type": "code",
      "metadata": {
        "colab": {
          "base_uri": "https://localhost:8080/"
        },
        "id": "uQgKrQU00qWk",
        "outputId": "04e8f9e2-2509-4ab0-d1bd-4da5dafc7c69"
      },
      "source": [
        "print('this is cell')"
      ],
      "execution_count": 7,
      "outputs": [
        {
          "output_type": "stream",
          "text": [
            "this is cell\n"
          ],
          "name": "stdout"
        }
      ]
    },
    {
      "cell_type": "code",
      "metadata": {
        "colab": {
          "base_uri": "https://localhost:8080/"
        },
        "id": "A9uxwp5s1y1h",
        "outputId": "d2fef1eb-73a5-45f4-95f8-b9eeaa12fd64"
      },
      "source": [
        "1+1"
      ],
      "execution_count": 9,
      "outputs": [
        {
          "output_type": "execute_result",
          "data": {
            "text/plain": [
              "2"
            ]
          },
          "metadata": {
            "tags": []
          },
          "execution_count": 9
        }
      ]
    },
    {
      "cell_type": "markdown",
      "metadata": {
        "id": "VDgpxuF31R2w"
      },
      "source": [
        "입력"
      ]
    },
    {
      "cell_type": "code",
      "metadata": {
        "colab": {
          "base_uri": "https://localhost:8080/"
        },
        "id": "DwJe0sN62CZ4",
        "outputId": "83089fc5-d56d-4d1e-a756-a7dcf02f6a8f"
      },
      "source": [
        "print('''\n",
        "Ctrl + Enter = 해당 셀 실행 -> 커서 해당 셀\n",
        "Shift + Enter = 해당 셀 실행 -> 커서 다음 셀\n",
        "Alt + Enter = 해당 셀 실행 -> 셀 추가 -> 커서 추가 셀\n",
        "''')"
      ],
      "execution_count": 10,
      "outputs": [
        {
          "output_type": "stream",
          "text": [
            "\n",
            "Ctrl + Enter = 해당 셀 실행 -> 커서 해당 셀\n",
            "Shift + Enter = 해당 셀 실행 -> 커서 다음 셀\n",
            "Alt + Enter = 해당 셀 실행 -> 셀 추가 -> 커서 추가 셀\n",
            "\n"
          ],
          "name": "stdout"
        }
      ]
    },
    {
      "cell_type": "code",
      "metadata": {
        "colab": {
          "base_uri": "https://localhost:8080/"
        },
        "id": "4TkD8HD42qVF",
        "outputId": "ee0d83eb-51d6-486f-9cb3-c031a9076349"
      },
      "source": [
        "print('''\n",
        "Ctrl + M + A = 코드 셀 위에 삽입\n",
        "Ctrl + M + B = 코드 셀 아래 삽입\n",
        "Ctrl + M + D = 셀 지우기\n",
        "Ctrl + M + Y = 코드 셀로 변경\n",
        "Ctrl + M + M = 마크다운 셀로 변경\n",
        "Ctrl + M + Z = 실행 취소\n",
        "''')"
      ],
      "execution_count": 11,
      "outputs": [
        {
          "output_type": "stream",
          "text": [
            "\n",
            "Ctrl + M + A = 코드 셀 위에 삽입\n",
            "Ctrl + M + B = 코드 셀 아래 삽입\n",
            "Ctrl + M + D = 셀 지우기\n",
            "Ctrl + M + Y = 코드 셀로 변경\n",
            "Ctrl + M + M = 마크다운 셀로 변경\n",
            "Ctrl + M + Z = 실행 취소\n",
            "\n"
          ],
          "name": "stdout"
        }
      ]
    },
    {
      "cell_type": "markdown",
      "metadata": {
        "id": "2NDKvWg93jVg"
      },
      "source": [
        "#대제목\n",
        "##중제목\n",
        "###소제목\n",
        "\n",
        "**진하게**\n",
        "\n",
        "# **대대제목**"
      ]
    }
  ]
}