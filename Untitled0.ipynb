{
  "nbformat": 4,
  "nbformat_minor": 0,
  "metadata": {
    "colab": {
      "name": "Untitled0.ipynb",
      "provenance": [],
      "authorship_tag": "ABX9TyOjTk/PzkCj8CmDNpue/W47",
      "include_colab_link": true
    },
    "kernelspec": {
      "name": "python3",
      "display_name": "Python 3"
    },
    "language_info": {
      "name": "python"
    }
  },
  "cells": [
    {
      "cell_type": "markdown",
      "metadata": {
        "id": "view-in-github",
        "colab_type": "text"
      },
      "source": [
        "<a href=\"https://colab.research.google.com/github/june050312/2021_SummerStudy_Python-DeepLearning/blob/main/Untitled0.ipynb\" target=\"_parent\"><img src=\"https://colab.research.google.com/assets/colab-badge.svg\" alt=\"Open In Colab\"/></a>"
      ]
    },
    {
      "cell_type": "markdown",
      "metadata": {
        "id": "F3YWK3JudiHd"
      },
      "source": [
        "#내장함수(built-in function)"
      ]
    },
    {
      "cell_type": "markdown",
      "metadata": {
        "id": "RVdJwihKdkTk"
      },
      "source": [
        "- 파이썬에는 이미 만들어진 내장함수가 존재합니다.\n",
        "- 이미 사용하고 있는 print(), type()이 파이썬의 대표적인 내장함수입니다.\n",
        "- 이 밖에도 유용한 몇 가지 내장함수를 알아 보겠습니다."
      ]
    },
    {
      "cell_type": "markdown",
      "metadata": {
        "id": "ODU4S1DcdpWb"
      },
      "source": [
        "##map"
      ]
    },
    {
      "cell_type": "markdown",
      "metadata": {
        "id": "_3-Vc8t2dtG7"
      },
      "source": [
        "- 문법: map(function, iterable)\n",
        "- map은 함수(f)와 순회 가능한(iterable) 자료형을 입력으로 받습니다.\n",
        "- map은 입력받은 자료형의 각 요소를 함수(function)가 수행한 결과를 묶어서 돌려줍니다."
      ]
    },
    {
      "cell_type": "code",
      "metadata": {
        "id": "D80xFCfrdxdD"
      },
      "source": [
        "sample_data = [1, 2, 3, 4, 5, 6, 7, 8, 9, 10]"
      ],
      "execution_count": 1,
      "outputs": []
    },
    {
      "cell_type": "markdown",
      "metadata": {
        "id": "50gp4hovdzMy"
      },
      "source": [
        "map만 실행시 요소의 내용이 바로 출력되지 않습니다."
      ]
    },
    {
      "cell_type": "code",
      "metadata": {
        "colab": {
          "base_uri": "https://localhost:8080/"
        },
        "id": "nOSZ_9Hmd16c",
        "outputId": "5f60652e-ef12-4d49-8c58-d361e8bff571"
      },
      "source": [
        "map(str, sample_data)"
      ],
      "execution_count": 3,
      "outputs": [
        {
          "output_type": "execute_result",
          "data": {
            "text/plain": [
              "<map at 0x7f8e54be35d0>"
            ]
          },
          "metadata": {
            "tags": []
          },
          "execution_count": 3
        }
      ]
    },
    {
      "cell_type": "markdown",
      "metadata": {
        "id": "kxtEVSiUd6KE"
      },
      "source": [
        "list()로 타입 변환하여 요소를 출력합니다."
      ]
    },
    {
      "cell_type": "code",
      "metadata": {
        "colab": {
          "base_uri": "https://localhost:8080/"
        },
        "id": "gVtG2hoieAHM",
        "outputId": "715fdd53-dac9-4872-c37c-5aef8fc4b4f7"
      },
      "source": [
        "list(map(str, sample_data))"
      ],
      "execution_count": 4,
      "outputs": [
        {
          "output_type": "execute_result",
          "data": {
            "text/plain": [
              "['1', '2', '3', '4', '5', '6', '7', '8', '9', '10']"
            ]
          },
          "metadata": {
            "tags": []
          },
          "execution_count": 4
        }
      ]
    },
    {
      "cell_type": "markdown",
      "metadata": {
        "id": "d_7Ady_feByk"
      },
      "source": [
        "###map에 lambda 함수 적용"
      ]
    },
    {
      "cell_type": "code",
      "metadata": {
        "colab": {
          "base_uri": "https://localhost:8080/"
        },
        "id": "WzbXheM3eFF0",
        "outputId": "c8819874-a850-4f5f-9357-2f29d73adebb"
      },
      "source": [
        "result = map(lambda x: x*2, sample_data)\n",
        "list(result)"
      ],
      "execution_count": 6,
      "outputs": [
        {
          "output_type": "execute_result",
          "data": {
            "text/plain": [
              "[2, 4, 6, 8, 10, 12, 14, 16, 18, 20]"
            ]
          },
          "metadata": {
            "tags": []
          },
          "execution_count": 6
        }
      ]
    },
    {
      "cell_type": "markdown",
      "metadata": {
        "id": "3T5t_a0WeIMV"
      },
      "source": [
        "###map에 다중 인수를 지정"
      ]
    },
    {
      "cell_type": "code",
      "metadata": {
        "colab": {
          "base_uri": "https://localhost:8080/"
        },
        "id": "fIRSyCHueUwc",
        "outputId": "1e4e458a-72dc-493d-b96b-d04c6c478664"
      },
      "source": [
        "sample_data = [1, 2, 3, 4, 5, 6, 7, 8, 9, 10]\n",
        "sample_data_2 = [0, 1, 2, 3, 5, 8, 13, 21, 34, 55]\n",
        "list(map(lambda x, y: x+y, sample_data, sample_data_2))"
      ],
      "execution_count": 7,
      "outputs": [
        {
          "output_type": "execute_result",
          "data": {
            "text/plain": [
              "[1, 3, 5, 7, 10, 14, 20, 29, 43, 65]"
            ]
          },
          "metadata": {
            "tags": []
          },
          "execution_count": 7
        }
      ]
    },
    {
      "cell_type": "markdown",
      "metadata": {
        "id": "-JZVCHRmeWMc"
      },
      "source": [
        "###list의 size가 다른 경우, 작은 size에 맞춰 생성"
      ]
    },
    {
      "cell_type": "code",
      "metadata": {
        "id": "FrZwy2EMejpU"
      },
      "source": [
        "sample_data = [1, 2, 3, 4, 5, 6, 7, 8, 9, 10]\n",
        "sample_data_2 = [1, 1, 1, 10, 100]"
      ],
      "execution_count": 8,
      "outputs": []
    },
    {
      "cell_type": "code",
      "metadata": {
        "colab": {
          "base_uri": "https://localhost:8080/"
        },
        "id": "sAq_mZW0elh8",
        "outputId": "cffa27ee-98ae-4d64-c407-ce6e2fb0ca47"
      },
      "source": [
        "list(map(lambda x, y: x+y, sample_data, sample_data_2))"
      ],
      "execution_count": 9,
      "outputs": [
        {
          "output_type": "execute_result",
          "data": {
            "text/plain": [
              "[2, 3, 4, 14, 105]"
            ]
          },
          "metadata": {
            "tags": []
          },
          "execution_count": 9
        }
      ]
    },
    {
      "cell_type": "markdown",
      "metadata": {
        "id": "268Nf5S3em_k"
      },
      "source": [
        "##fIlter"
      ]
    },
    {
      "cell_type": "markdown",
      "metadata": {
        "id": "VwnMnKpHep9E"
      },
      "source": [
        "- 문법: fIlter(function, iterable)\n",
        "- filter 내장함수는 값을 filter 할 때 사용합니다.\n",
        "- True인 값을 가지는 요소만 filter 합니다."
      ]
    },
    {
      "cell_type": "code",
      "metadata": {
        "id": "qZxVbIGOe92j"
      },
      "source": [
        "sample_data = [1, 2, 3, 4, 5, 6, 7, 8, 9, 10]"
      ],
      "execution_count": 10,
      "outputs": []
    },
    {
      "cell_type": "code",
      "metadata": {
        "colab": {
          "base_uri": "https://localhost:8080/"
        },
        "id": "oPSameKke_QT",
        "outputId": "08b2de92-a4ea-4f43-c69e-df8202d4e518"
      },
      "source": [
        "result = filter(lambda x: True if (x % 2 == 1) else False, sample_data)\n",
        "list(result)"
      ],
      "execution_count": 11,
      "outputs": [
        {
          "output_type": "execute_result",
          "data": {
            "text/plain": [
              "[1, 3, 5, 7, 9]"
            ]
          },
          "metadata": {
            "tags": []
          },
          "execution_count": 11
        }
      ]
    },
    {
      "cell_type": "markdown",
      "metadata": {
        "id": "ey9Qiyy_fLzU"
      },
      "source": [
        "함수를 선언하여 함수명으로 지정한 경우"
      ]
    },
    {
      "cell_type": "code",
      "metadata": {
        "id": "afkAIx3xfOqc"
      },
      "source": [
        "def three_multiple(x):\n",
        "    if x % 3 == 0:\n",
        "        return True\n",
        "    else:\n",
        "        return False"
      ],
      "execution_count": 12,
      "outputs": []
    },
    {
      "cell_type": "code",
      "metadata": {
        "colab": {
          "base_uri": "https://localhost:8080/"
        },
        "id": "YO_Iz6IsfQyk",
        "outputId": "9754d9ea-ebc3-44c9-b18e-2f70d010e868"
      },
      "source": [
        "# 함수의 이름만 입력\n",
        "result = filter(three_multiple, sample_data)\n",
        "list(result)"
      ],
      "execution_count": 13,
      "outputs": [
        {
          "output_type": "execute_result",
          "data": {
            "text/plain": [
              "[3, 6, 9]"
            ]
          },
          "metadata": {
            "tags": []
          },
          "execution_count": 13
        }
      ]
    },
    {
      "cell_type": "markdown",
      "metadata": {
        "id": "EoPkoZQIfaLc"
      },
      "source": [
        "##zip"
      ]
    },
    {
      "cell_type": "markdown",
      "metadata": {
        "id": "Lbb3YrCJfv88"
      },
      "source": [
        "- 문법: zip(*iterable)\n",
        "- 동일한 개수로 이루어진 자료형을 묶어 주는 역할을 합니다."
      ]
    },
    {
      "cell_type": "code",
      "metadata": {
        "id": "NUd3TAMkf00s"
      },
      "source": [
        "sample_data1 = [1, 2, 3, 4, 5, 6, 7, 8, 9, 10]\n",
        "sample_data2 = [0, 1, 2, 3, 5, 8, 13, 21, 34, 55]\n",
        "sample_data3 = [5, 6, 7]"
      ],
      "execution_count": 14,
      "outputs": []
    },
    {
      "cell_type": "markdown",
      "metadata": {
        "id": "WCwOVIQof2xs"
      },
      "source": [
        "sample_data1, sample_data2을 zip으로 묶어준 경우"
      ]
    },
    {
      "cell_type": "code",
      "metadata": {
        "colab": {
          "base_uri": "https://localhost:8080/"
        },
        "id": "0uSf6BA5f-mU",
        "outputId": "3ce3fabb-eb1f-4fa3-a170-ab371006edfd"
      },
      "source": [
        "result = zip(sample_data1, sample_data2)\n",
        "list(result)"
      ],
      "execution_count": 15,
      "outputs": [
        {
          "output_type": "execute_result",
          "data": {
            "text/plain": [
              "[(1, 0),\n",
              " (2, 1),\n",
              " (3, 2),\n",
              " (4, 3),\n",
              " (5, 5),\n",
              " (6, 8),\n",
              " (7, 13),\n",
              " (8, 21),\n",
              " (9, 34),\n",
              " (10, 55)]"
            ]
          },
          "metadata": {
            "tags": []
          },
          "execution_count": 15
        }
      ]
    },
    {
      "cell_type": "markdown",
      "metadata": {
        "id": "CdjhBtBIgBpc"
      },
      "source": [
        "sample_data1, sample_data2, sample_data3을 zip으로 묶어준 경우"
      ]
    },
    {
      "cell_type": "markdown",
      "metadata": {
        "id": "kDnbE1ilgJvT"
      },
      "source": [
        "* 작은 size를 가지는 리스트(list)에 맞춰 생성합니다."
      ]
    },
    {
      "cell_type": "code",
      "metadata": {
        "colab": {
          "base_uri": "https://localhost:8080/"
        },
        "id": "y--2f8XagLoU",
        "outputId": "ac87bbaa-af54-4c35-b71d-13e6181c2e55"
      },
      "source": [
        "list(zip(sample_data1, sample_data2, sample_data3))"
      ],
      "execution_count": 17,
      "outputs": [
        {
          "output_type": "execute_result",
          "data": {
            "text/plain": [
              "[(1, 0, 5), (2, 1, 6), (3, 2, 7)]"
            ]
          },
          "metadata": {
            "tags": []
          },
          "execution_count": 17
        }
      ]
    },
    {
      "cell_type": "markdown",
      "metadata": {
        "id": "sfHbI-zmgOz0"
      },
      "source": [
        "###zip의 응용"
      ]
    },
    {
      "cell_type": "code",
      "metadata": {
        "id": "IKjuWkySgRd8"
      },
      "source": [
        "number = [1, 2, 3, 4]\n",
        "name = ['홍길동','김철수','John','Paul']"
      ],
      "execution_count": 18,
      "outputs": []
    },
    {
      "cell_type": "code",
      "metadata": {
        "colab": {
          "base_uri": "https://localhost:8080/"
        },
        "id": "2leF58ZcgRfM",
        "outputId": "adcdb2f9-faa8-4fbf-d92a-36cf8aaf6d97"
      },
      "source": [
        "number_name = list(zip(number,name))\n",
        "number_name"
      ],
      "execution_count": 19,
      "outputs": [
        {
          "output_type": "execute_result",
          "data": {
            "text/plain": [
              "[(1, '홍길동'), (2, '김철수'), (3, 'John'), (4, 'Paul')]"
            ]
          },
          "metadata": {
            "tags": []
          },
          "execution_count": 19
        }
      ]
    },
    {
      "cell_type": "markdown",
      "metadata": {
        "id": "n3J3ucYfgVVM"
      },
      "source": [
        "###zip을 활용한 dict 만들기"
      ]
    },
    {
      "cell_type": "code",
      "metadata": {
        "id": "-OWsQyvmgaVs"
      },
      "source": [
        "number = [1, 2, 3, 4]\n",
        "name = ['홍길동','김철수','John','Paul']\n",
        "dic = {}\n",
        "\n",
        "for number, name in zip(number,name): \n",
        "    dic[number] = name"
      ],
      "execution_count": 20,
      "outputs": []
    },
    {
      "cell_type": "code",
      "metadata": {
        "colab": {
          "base_uri": "https://localhost:8080/"
        },
        "id": "tO5tEQXRgcYL",
        "outputId": "aeb6e3a3-3d6f-4a3f-e3b6-08de1c47810b"
      },
      "source": [
        "dic"
      ],
      "execution_count": 21,
      "outputs": [
        {
          "output_type": "execute_result",
          "data": {
            "text/plain": [
              "{1: '홍길동', 2: '김철수', 3: 'John', 4: 'Paul'}"
            ]
          },
          "metadata": {
            "tags": []
          },
          "execution_count": 21
        }
      ]
    },
    {
      "cell_type": "markdown",
      "metadata": {
        "id": "In5kSP5QgdoE"
      },
      "source": [
        "##enumerate"
      ]
    },
    {
      "cell_type": "markdown",
      "metadata": {
        "id": "U7oPhbRRgmk8"
      },
      "source": [
        "* [문법]: enumerate(iterable, start=0)\n",
        "* 순서가 있는 자료형을 입력 받아 index를 포함하는 객체로 return 합니다."
      ]
    },
    {
      "cell_type": "markdown",
      "metadata": {
        "id": "A6V5Hx6CgqDE"
      },
      "source": [
        "일반 range() 함수를 사용한 경우"
      ]
    },
    {
      "cell_type": "code",
      "metadata": {
        "colab": {
          "base_uri": "https://localhost:8080/"
        },
        "id": "VINGGsRqgtXk",
        "outputId": "1f731a55-c53c-43ee-ada2-797ce137933a"
      },
      "source": [
        "for value in range(1, 10, 2):\n",
        "    print(value)"
      ],
      "execution_count": 23,
      "outputs": [
        {
          "output_type": "stream",
          "text": [
            "1\n",
            "3\n",
            "5\n",
            "7\n",
            "9\n"
          ],
          "name": "stdout"
        }
      ]
    },
    {
      "cell_type": "markdown",
      "metadata": {
        "id": "Xz81R_URgvhE"
      },
      "source": [
        "enumerate() 함수를 사용하여 index를 return 받은 경우"
      ]
    },
    {
      "cell_type": "code",
      "metadata": {
        "colab": {
          "base_uri": "https://localhost:8080/"
        },
        "id": "9R5QYd7LhJib",
        "outputId": "15b82e12-3368-4616-e58c-072217355cd9"
      },
      "source": [
        "for idx, value in enumerate(range(1, 10, 2)):\n",
        "    print(f'index: {idx}, value: {value}')"
      ],
      "execution_count": 24,
      "outputs": [
        {
          "output_type": "stream",
          "text": [
            "index: 0, value: 1\n",
            "index: 1, value: 3\n",
            "index: 2, value: 5\n",
            "index: 3, value: 7\n",
            "index: 4, value: 9\n"
          ],
          "name": "stdout"
        }
      ]
    }
  ]
}