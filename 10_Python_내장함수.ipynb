{
  "nbformat": 4,
  "nbformat_minor": 0,
  "metadata": {
    "colab": {
      "name": "10-Python-내장함수.ipynb",
      "provenance": [],
      "authorship_tag": "ABX9TyN3KMDX9tVHvPHhxW8eXvNS",
      "include_colab_link": true
    },
    "kernelspec": {
      "name": "python3",
      "display_name": "Python 3"
    },
    "language_info": {
      "name": "python"
    }
  },
  "cells": [
    {
      "cell_type": "markdown",
      "metadata": {
        "id": "view-in-github",
        "colab_type": "text"
      },
      "source": [
        "<a href=\"https://colab.research.google.com/github/june050312/2021_SummerStudy_Python-DeepLearning/blob/main/10_Python_%EB%82%B4%EC%9E%A5%ED%95%A8%EC%88%98.ipynb\" target=\"_parent\"><img src=\"https://colab.research.google.com/assets/colab-badge.svg\" alt=\"Open In Colab\"/></a>"
      ]
    },
    {
      "cell_type": "markdown",
      "metadata": {
        "id": "Z496Ygq2UcZ7"
      },
      "source": [
        "#내장함수"
      ]
    },
    {
      "cell_type": "markdown",
      "metadata": {
        "id": "CCz13KxMUrML"
      },
      "source": [
        "- 파이썬에는 이미 만들어진 내장함수 존재\n",
        "- 사용하고 있는 print(), type()이 파이선의 대표적인 내장함수"
      ]
    },
    {
      "cell_type": "markdown",
      "metadata": {
        "id": "jdj85JpeU1dQ"
      },
      "source": [
        "##map"
      ]
    },
    {
      "cell_type": "markdown",
      "metadata": {
        "id": "brHPOmERU2bQ"
      },
      "source": [
        "- 문법:map(function, iterabel)\n",
        "- map은 함수(f)와 순회 가능한(iterable) 자료형을 입력받음\n",
        "- map은 입력받은 자료형의 각 요소를 함수(function)가 수행한 결과를 묶어서 반환"
      ]
    },
    {
      "cell_type": "code",
      "metadata": {
        "id": "2LmgSmw_VJrz"
      },
      "source": [
        "sample_data=[1, 2, 3, 4, 5, 6, 7, 8, 9, 10]"
      ],
      "execution_count": 1,
      "outputs": []
    },
    {
      "cell_type": "markdown",
      "metadata": {
        "id": "FTfmXjCtVMyn"
      },
      "source": [
        "map만 실행시 요소의 내용이 바로 출력 X"
      ]
    },
    {
      "cell_type": "code",
      "metadata": {
        "colab": {
          "base_uri": "https://localhost:8080/"
        },
        "id": "tS33xmAdVQbz",
        "outputId": "00c7c01a-be5d-45b4-8748-f0d1bf9c2978"
      },
      "source": [
        "map(str,sample_data)"
      ],
      "execution_count": 2,
      "outputs": [
        {
          "output_type": "execute_result",
          "data": {
            "text/plain": [
              "<map at 0x7f5b31925c10>"
            ]
          },
          "metadata": {},
          "execution_count": 2
        }
      ]
    },
    {
      "cell_type": "markdown",
      "metadata": {
        "id": "oYahlBzNVSYj"
      },
      "source": [
        "###list()로 타입 변환"
      ]
    },
    {
      "cell_type": "code",
      "metadata": {
        "colab": {
          "base_uri": "https://localhost:8080/"
        },
        "id": "SQ1lUxY2VVhq",
        "outputId": "b6c16894-e652-429d-b5ea-bb064b84103e"
      },
      "source": [
        "list(map(str,sample_data))"
      ],
      "execution_count": 4,
      "outputs": [
        {
          "output_type": "execute_result",
          "data": {
            "text/plain": [
              "['1', '2', '3', '4', '5', '6', '7', '8', '9', '10']"
            ]
          },
          "metadata": {},
          "execution_count": 4
        }
      ]
    },
    {
      "cell_type": "markdown",
      "metadata": {
        "id": "dTp7gyOGVZVJ"
      },
      "source": [
        "###map에 lambda 함수 적용"
      ]
    },
    {
      "cell_type": "code",
      "metadata": {
        "colab": {
          "base_uri": "https://localhost:8080/"
        },
        "id": "AquCJF66VhQI",
        "outputId": "d7fbdbfe-a8ef-4cb9-913e-5299db847823"
      },
      "source": [
        "result=map(lambda x:x*2,sample_data)\n",
        "list(result)"
      ],
      "execution_count": 5,
      "outputs": [
        {
          "output_type": "execute_result",
          "data": {
            "text/plain": [
              "[2, 4, 6, 8, 10, 12, 14, 16, 18, 20]"
            ]
          },
          "metadata": {},
          "execution_count": 5
        }
      ]
    },
    {
      "cell_type": "markdown",
      "metadata": {
        "id": "JK7TuO1KVr6C"
      },
      "source": [
        "###map에 다중 인수를 지정"
      ]
    },
    {
      "cell_type": "code",
      "metadata": {
        "colab": {
          "base_uri": "https://localhost:8080/"
        },
        "id": "skFrlWxDVu2a",
        "outputId": "edaf2869-f7e7-46ad-fdcf-f2bd6e9a5469"
      },
      "source": [
        "sample_data=[1, 2, 3, 4, 5, 6, 7, 8, 9, 10]\n",
        "sample_data_2=[0, 1, 2, 3, 5, 8, 13, 21, 34, 55]\n",
        "list(map(lambda x,y:x+y,sample_data,sample_data_2))"
      ],
      "execution_count": 7,
      "outputs": [
        {
          "output_type": "execute_result",
          "data": {
            "text/plain": [
              "[1, 3, 5, 7, 10, 14, 20, 29, 43, 65]"
            ]
          },
          "metadata": {},
          "execution_count": 7
        }
      ]
    },
    {
      "cell_type": "markdown",
      "metadata": {
        "id": "V30bb2LdV7nF"
      },
      "source": [
        "###list의 size가 다른 경우, 작은 size에 맞춰 생성"
      ]
    },
    {
      "cell_type": "code",
      "metadata": {
        "id": "bZi26_9vWBn_"
      },
      "source": [
        "sample_data=[1, 2, 3, 4, 5, 6, 7, 8, 9, 10]"
      ],
      "execution_count": 8,
      "outputs": []
    },
    {
      "cell_type": "markdown",
      "metadata": {
        "id": "ZLLRpxLsWTwM"
      },
      "source": [
        "##filter"
      ]
    },
    {
      "cell_type": "markdown",
      "metadata": {
        "id": "msat00koWVF4"
      },
      "source": [
        "- 문법:filter(function,iterable)\n",
        "- filter 내장함수는 값을 filter 할 때 사용\n",
        "- Ture인 값을 가지는 요소만 filter"
      ]
    },
    {
      "cell_type": "code",
      "metadata": {
        "id": "1CCkoflHWbR3"
      },
      "source": [
        "sample_data=[1, 2, 3, 4, 5, 6, 7, 8, 9, 10]"
      ],
      "execution_count": 9,
      "outputs": []
    },
    {
      "cell_type": "markdown",
      "metadata": {
        "id": "t5XfXRwiWnxN"
      },
      "source": [
        "###lambda 함수를 지정한 경우"
      ]
    },
    {
      "cell_type": "code",
      "metadata": {
        "colab": {
          "base_uri": "https://localhost:8080/"
        },
        "id": "gXU2UffuWrHm",
        "outputId": "2af72c18-93de-4426-e50b-308abd16fcb7"
      },
      "source": [
        "result=filter(lambda x:True if(x%2==1) else False, sample_data)\n",
        "list(result)"
      ],
      "execution_count": 12,
      "outputs": [
        {
          "output_type": "execute_result",
          "data": {
            "text/plain": [
              "[1, 3, 5, 7, 9]"
            ]
          },
          "metadata": {},
          "execution_count": 12
        }
      ]
    },
    {
      "cell_type": "markdown",
      "metadata": {
        "id": "Th7tAzlhW1HD"
      },
      "source": [
        "###함수를 선언하여 함수명으로 지정"
      ]
    },
    {
      "cell_type": "code",
      "metadata": {
        "id": "Fkxe3sshW57J"
      },
      "source": [
        "def three_multiple(x):\n",
        "  if x%3==0:\n",
        "    return True\n",
        "  else:\n",
        "    return False"
      ],
      "execution_count": 14,
      "outputs": []
    },
    {
      "cell_type": "code",
      "metadata": {
        "id": "lMbic0yHXCV7",
        "colab": {
          "base_uri": "https://localhost:8080/"
        },
        "outputId": "9a7103c9-cb08-4795-f292-e92bc8073c87"
      },
      "source": [
        "#함수의 이름만 입력\n",
        "result=filter(three_multiple,sample_data)\n",
        "list(result)"
      ],
      "execution_count": 15,
      "outputs": [
        {
          "output_type": "execute_result",
          "data": {
            "text/plain": [
              "[3, 6, 9]"
            ]
          },
          "metadata": {},
          "execution_count": 15
        }
      ]
    },
    {
      "cell_type": "markdown",
      "metadata": {
        "id": "JEH10IrVXLmL"
      },
      "source": [
        "##zip"
      ]
    },
    {
      "cell_type": "markdown",
      "metadata": {
        "id": "wiNO0O__XOji"
      },
      "source": [
        "- 문법:zip(*iterable)\n",
        "- 동일한 개수로 이루어진 자료형을 묶어 주는 역할"
      ]
    },
    {
      "cell_type": "code",
      "metadata": {
        "id": "E_x5UCdrXdiw"
      },
      "source": [
        "sample_data1=[1, 2, 3, 4, 5, 6, 7, 8, 9, 10]\n",
        "sample_data2=[0, 1, 2, 3, 5, 8, 13, 21, 34, 55]\n",
        "sample_data3=[5, 6, 7]"
      ],
      "execution_count": 17,
      "outputs": []
    },
    {
      "cell_type": "markdown",
      "metadata": {
        "id": "nZM7KYY2XkSX"
      },
      "source": [
        "sample_data1,sample_data2을 zip으로 묶음"
      ]
    },
    {
      "cell_type": "code",
      "metadata": {
        "colab": {
          "base_uri": "https://localhost:8080/"
        },
        "id": "raVSZRtbXosO",
        "outputId": "e51e2176-4ea7-4d68-fc81-be8dab1d1ff6"
      },
      "source": [
        "result=zip(sample_data1,sample_data2)\n",
        "list(result)"
      ],
      "execution_count": 18,
      "outputs": [
        {
          "output_type": "execute_result",
          "data": {
            "text/plain": [
              "[(1, 0),\n",
              " (2, 1),\n",
              " (3, 2),\n",
              " (4, 3),\n",
              " (5, 5),\n",
              " (6, 8),\n",
              " (7, 13),\n",
              " (8, 21),\n",
              " (9, 34),\n",
              " (10, 55)]"
            ]
          },
          "metadata": {},
          "execution_count": 18
        }
      ]
    },
    {
      "cell_type": "markdown",
      "metadata": {
        "id": "TRGiKsKQXtKJ"
      },
      "source": [
        "sample_data1,sample_data2,sample_data3을 zip으로 묶어준 경우"
      ]
    },
    {
      "cell_type": "markdown",
      "metadata": {
        "id": "t9726_ZlXxyA"
      },
      "source": [
        "- 작은 size를 가지는 리스트(list)에 맞춰 생성"
      ]
    },
    {
      "cell_type": "code",
      "metadata": {
        "colab": {
          "base_uri": "https://localhost:8080/"
        },
        "id": "BWrbXdtOX1h5",
        "outputId": "fd6ed005-f5cd-4de1-b1b4-a0d90b771d1a"
      },
      "source": [
        "list(zip(sample_data1,sample_data2,sample_data3))"
      ],
      "execution_count": 19,
      "outputs": [
        {
          "output_type": "execute_result",
          "data": {
            "text/plain": [
              "[(1, 0, 5), (2, 1, 6), (3, 2, 7)]"
            ]
          },
          "metadata": {},
          "execution_count": 19
        }
      ]
    },
    {
      "cell_type": "markdown",
      "metadata": {
        "id": "AAdOJ4n_X5c6"
      },
      "source": [
        "###zip의 응용"
      ]
    },
    {
      "cell_type": "code",
      "metadata": {
        "id": "npxkX_RXX73M"
      },
      "source": [
        "number=[1,2,3,4]\n",
        "name=['홍길동','김철수','John','Paul']\n",
        "dic={}\n",
        "\n",
        "for number,name in zip(number,name):\n",
        "  dic[number]=name"
      ],
      "execution_count": 21,
      "outputs": []
    },
    {
      "cell_type": "code",
      "metadata": {
        "colab": {
          "base_uri": "https://localhost:8080/"
        },
        "id": "WISR4vDwYAzL",
        "outputId": "7f28f92a-0572-49e9-8f6f-bd28fe5ac54b"
      },
      "source": [
        "dic"
      ],
      "execution_count": 22,
      "outputs": [
        {
          "output_type": "execute_result",
          "data": {
            "text/plain": [
              "{1: '홍길동', 2: '김철수', 3: 'John', 4: 'Paul'}"
            ]
          },
          "metadata": {},
          "execution_count": 22
        }
      ]
    },
    {
      "cell_type": "markdown",
      "metadata": {
        "id": "4BBzaqMHYUoQ"
      },
      "source": [
        "##enumerate"
      ]
    },
    {
      "cell_type": "markdown",
      "metadata": {
        "id": "5yLk798wYYzV"
      },
      "source": [
        "- 문법:enumerate(iterable,start=0)\n",
        "- 순서가 있는 자료형을 입력 받아 index를 포함하는 객체로 return"
      ]
    },
    {
      "cell_type": "markdown",
      "metadata": {
        "id": "3K1mY2ocYl6u"
      },
      "source": [
        "일반 range() 함수를 사용한 경우"
      ]
    },
    {
      "cell_type": "code",
      "metadata": {
        "colab": {
          "base_uri": "https://localhost:8080/"
        },
        "id": "DxpxvJT5Yp14",
        "outputId": "36b2140d-20c1-4f6c-e28b-33640528dfea"
      },
      "source": [
        "for value in range(1,10,2):\n",
        "  print(value)"
      ],
      "execution_count": 24,
      "outputs": [
        {
          "output_type": "stream",
          "name": "stdout",
          "text": [
            "1\n",
            "3\n",
            "5\n",
            "7\n",
            "9\n"
          ]
        }
      ]
    },
    {
      "cell_type": "markdown",
      "metadata": {
        "id": "juOXyx98YtXy"
      },
      "source": [
        "enumerate() 함수를 사용하여 index를 return 받은 경우"
      ]
    },
    {
      "cell_type": "code",
      "metadata": {
        "colab": {
          "base_uri": "https://localhost:8080/"
        },
        "id": "jOGQ7fp9Yyag",
        "outputId": "2282d1ce-3e05-4e9a-ede5-4e85c44fe155"
      },
      "source": [
        "for idx,value in enumerate(range(1,10,2)):\n",
        "  print(f'index:{idx},value:{value}')"
      ],
      "execution_count": 25,
      "outputs": [
        {
          "output_type": "stream",
          "name": "stdout",
          "text": [
            "index:0,value:1\n",
            "index:1,value:3\n",
            "index:2,value:5\n",
            "index:3,value:7\n",
            "index:4,value:9\n"
          ]
        }
      ]
    }
  ]
}