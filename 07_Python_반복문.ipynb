{
  "nbformat": 4,
  "nbformat_minor": 0,
  "metadata": {
    "colab": {
      "name": "07-Python-반복문.ipynb",
      "provenance": [],
      "authorship_tag": "ABX9TyMC9865N01gj4E8M5E8vUj3",
      "include_colab_link": true
    },
    "kernelspec": {
      "name": "python3",
      "display_name": "Python 3"
    },
    "language_info": {
      "name": "python"
    }
  },
  "cells": [
    {
      "cell_type": "markdown",
      "metadata": {
        "id": "view-in-github",
        "colab_type": "text"
      },
      "source": [
        "<a href=\"https://colab.research.google.com/github/june050312/2021_SummerStudy_Python-DeepLearning/blob/main/07_Python_%EB%B0%98%EB%B3%B5%EB%AC%B8.ipynb\" target=\"_parent\"><img src=\"https://colab.research.google.com/assets/colab-badge.svg\" alt=\"Open In Colab\"/></a>"
      ]
    },
    {
      "cell_type": "markdown",
      "metadata": {
        "id": "URCusx64hAjJ"
      },
      "source": [
        "#반복문"
      ]
    },
    {
      "cell_type": "markdown",
      "metadata": {
        "id": "4tm30dzJhLju"
      },
      "source": [
        "- 1회 이상 반복해서 수행하는 일을 반복문으로 해결 가능\n",
        "- 반드시 list, tuple, dict, set 등 집합에 대한 순회를 돌며 일을 처리할 때 사용\n",
        "- list, tuple, dict, set, 문자열까지 모두 순회가능한(iterable) 객체\n",
        "- 순회가능한(iterable) 객체는 반복문을 통해 순회"
      ]
    },
    {
      "cell_type": "code",
      "metadata": {
        "id": "yWKNbZuBhuN4"
      },
      "source": [
        "mylist = [1, 2, 3, 4, 5, 6, 7, 8, 9, 10]"
      ],
      "execution_count": 1,
      "outputs": []
    },
    {
      "cell_type": "markdown",
      "metadata": {
        "id": "ulz9W8DVh4O0"
      },
      "source": [
        "mylist에 들어 있는 모든 값들을 출력"
      ]
    },
    {
      "cell_type": "code",
      "metadata": {
        "colab": {
          "base_uri": "https://localhost:8080/"
        },
        "id": "FJxlbxA1h8-v",
        "outputId": "aefb2f7d-69de-454d-d9ba-a85353c20eaf"
      },
      "source": [
        "print(mylist[0])\n",
        "print(mylist[1])\n",
        "print(mylist[2])\n",
        "print('...')\n",
        "print(mylist[8])\n",
        "print(mylist[9])"
      ],
      "execution_count": 2,
      "outputs": [
        {
          "output_type": "stream",
          "name": "stdout",
          "text": [
            "1\n",
            "2\n",
            "3\n",
            "...\n",
            "9\n",
            "10\n"
          ]
        }
      ]
    },
    {
      "cell_type": "markdown",
      "metadata": {
        "id": "LeW1_8LBh_EM"
      },
      "source": [
        "반복을 획기적으로 줄여주는 방법"
      ]
    },
    {
      "cell_type": "markdown",
      "metadata": {
        "id": "OYSfo8WmiCHZ"
      },
      "source": [
        "##for 와 in 구문 (반복문)"
      ]
    },
    {
      "cell_type": "markdown",
      "metadata": {
        "id": "OhnCejKGiEXy"
      },
      "source": [
        "[기본 문법]"
      ]
    },
    {
      "cell_type": "markdown",
      "metadata": {
        "id": "U6Q2MjuuiIXh"
      },
      "source": [
        "for 하나씩 꺼내올 때 변수 in [꺼내올 집합]:\n",
        "\n",
        "(indent)"
      ]
    },
    {
      "cell_type": "markdown",
      "metadata": {
        "id": "CPMRbl8liOqg"
      },
      "source": [
        "- list, tuple, set, dictionary, 문자열 형태 모두 가능\n",
        "- range와 결합하여 사용 가능"
      ]
    },
    {
      "cell_type": "markdown",
      "metadata": {
        "id": "s0xt1787iZ7N"
      },
      "source": [
        "###리스트(list)"
      ]
    },
    {
      "cell_type": "code",
      "metadata": {
        "id": "wpZZXklUictc"
      },
      "source": [
        "mylist = [1, 2, 3, 4, 5]"
      ],
      "execution_count": 3,
      "outputs": []
    },
    {
      "cell_type": "code",
      "metadata": {
        "colab": {
          "base_uri": "https://localhost:8080/"
        },
        "id": "I99F2yg4igdE",
        "outputId": "a9a87511-c8d2-476a-fb20-3d7ba993a8e1"
      },
      "source": [
        "for i in mylist:\n",
        "  print(i)"
      ],
      "execution_count": 4,
      "outputs": [
        {
          "output_type": "stream",
          "name": "stdout",
          "text": [
            "1\n",
            "2\n",
            "3\n",
            "4\n",
            "5\n"
          ]
        }
      ]
    },
    {
      "cell_type": "markdown",
      "metadata": {
        "id": "bVI-N_gUijO_"
      },
      "source": [
        "###튜플(tuple)"
      ]
    },
    {
      "cell_type": "code",
      "metadata": {
        "colab": {
          "base_uri": "https://localhost:8080/"
        },
        "id": "rE_ql9dSimHy",
        "outputId": "4f386017-11e5-499c-873a-58d7fa37b243"
      },
      "source": [
        "for i in (1, 2, 3, 4, 5):\n",
        "  print(i)"
      ],
      "execution_count": 5,
      "outputs": [
        {
          "output_type": "stream",
          "name": "stdout",
          "text": [
            "1\n",
            "2\n",
            "3\n",
            "4\n",
            "5\n"
          ]
        }
      ]
    },
    {
      "cell_type": "markdown",
      "metadata": {
        "id": "9dMW0EGRiqBf"
      },
      "source": [
        "###tuple+list"
      ]
    },
    {
      "cell_type": "markdown",
      "metadata": {
        "id": "NH2ZxFiQisF4"
      },
      "source": [
        "tuple을 전체로 받아주는 경우"
      ]
    },
    {
      "cell_type": "code",
      "metadata": {
        "colab": {
          "base_uri": "https://localhost:8080/"
        },
        "id": "sdvtwz62iuCQ",
        "outputId": "08903611-d5c5-4361-9537-899a29173f0b"
      },
      "source": [
        "person=('제이콥스',10)\n",
        "print(person)\n",
        "print(person[0])\n",
        "print(person[1])"
      ],
      "execution_count": 6,
      "outputs": [
        {
          "output_type": "stream",
          "name": "stdout",
          "text": [
            "('제이콥스', 10)\n",
            "제이콥스\n",
            "10\n"
          ]
        }
      ]
    },
    {
      "cell_type": "markdown",
      "metadata": {
        "id": "g9TNjqf9i5O2"
      },
      "source": [
        "tuple의 요소를 개별로 받아주는 경우"
      ]
    },
    {
      "cell_type": "code",
      "metadata": {
        "colab": {
          "base_uri": "https://localhost:8080/"
        },
        "id": "c-8_N57zi-O3",
        "outputId": "f392a64e-8f83-40d7-ef34-588a2ac9d9f5"
      },
      "source": [
        "name,age=('제이콥스',10)\n",
        "print(name)\n",
        "print(age)"
      ],
      "execution_count": 7,
      "outputs": [
        {
          "output_type": "stream",
          "name": "stdout",
          "text": [
            "제이콥스\n",
            "10\n"
          ]
        }
      ]
    },
    {
      "cell_type": "markdown",
      "metadata": {
        "id": "h3G_5pVqjEH2"
      },
      "source": [
        "반복문에서의 응용"
      ]
    },
    {
      "cell_type": "code",
      "metadata": {
        "colab": {
          "base_uri": "https://localhost:8080/"
        },
        "id": "7xi7th_UjF5H",
        "outputId": "243d1d02-4905-4aa0-a9b1-dd35fdea8d1d"
      },
      "source": [
        "mytuplelist=[('제이콥스',10),('피터',20),('타이거',30)]\n",
        "\n",
        "for mytuple in mytuplelist:\n",
        "  print(mytuple[0],mytuple[1])"
      ],
      "execution_count": 8,
      "outputs": [
        {
          "output_type": "stream",
          "name": "stdout",
          "text": [
            "제이콥스 10\n",
            "피터 20\n",
            "타이거 30\n"
          ]
        }
      ]
    },
    {
      "cell_type": "code",
      "metadata": {
        "colab": {
          "base_uri": "https://localhost:8080/"
        },
        "id": "DgoS-MpVjXue",
        "outputId": "686e034d-8278-4926-9425-51ed9bc57618"
      },
      "source": [
        "mytuplelist = [('제이콥스', 10), ('피터', 20), ('타이거', 30)]\n",
        "\n",
        "for name, age in mytuplelist:\n",
        "    print(name, age)"
      ],
      "execution_count": 9,
      "outputs": [
        {
          "output_type": "stream",
          "name": "stdout",
          "text": [
            "제이콥스 10\n",
            "피터 20\n",
            "타이거 30\n"
          ]
        }
      ]
    },
    {
      "cell_type": "markdown",
      "metadata": {
        "id": "xlDziSCljyXs"
      },
      "source": [
        "###딕셔너리(dictionary)"
      ]
    },
    {
      "cell_type": "code",
      "metadata": {
        "id": "EtDjQOcgj1Vh"
      },
      "source": [
        "mydict = {'헐크': 50, '아이언맨': 60, '펭수': 70}"
      ],
      "execution_count": 10,
      "outputs": []
    },
    {
      "cell_type": "code",
      "metadata": {
        "colab": {
          "base_uri": "https://localhost:8080/"
        },
        "id": "MPL2BUyVj276",
        "outputId": "8b7defb2-fd77-4541-d383-4e6631fd3a64"
      },
      "source": [
        "for key in mydict.keys():\n",
        "    print(key)"
      ],
      "execution_count": 11,
      "outputs": [
        {
          "output_type": "stream",
          "name": "stdout",
          "text": [
            "헐크\n",
            "아이언맨\n",
            "펭수\n"
          ]
        }
      ]
    },
    {
      "cell_type": "code",
      "metadata": {
        "colab": {
          "base_uri": "https://localhost:8080/"
        },
        "id": "wcPdUmD9j3xb",
        "outputId": "4cd52dea-ac10-41cb-8ff5-ed5426f04d71"
      },
      "source": [
        "for value in mydict.values():\n",
        "    print(value)"
      ],
      "execution_count": 13,
      "outputs": [
        {
          "output_type": "stream",
          "name": "stdout",
          "text": [
            "50\n",
            "60\n",
            "70\n"
          ]
        }
      ]
    },
    {
      "cell_type": "code",
      "metadata": {
        "colab": {
          "base_uri": "https://localhost:8080/"
        },
        "id": "0KFCnmTkj4up",
        "outputId": "1f3f2bba-8fb5-4703-9031-3691f046d29d"
      },
      "source": [
        "for name, age in mydict.items():\n",
        "    print(name, age)"
      ],
      "execution_count": 14,
      "outputs": [
        {
          "output_type": "stream",
          "name": "stdout",
          "text": [
            "헐크 50\n",
            "아이언맨 60\n",
            "펭수 70\n"
          ]
        }
      ]
    },
    {
      "cell_type": "markdown",
      "metadata": {
        "id": "9e201tIVj7Nr"
      },
      "source": [
        "###문자열(str)"
      ]
    },
    {
      "cell_type": "code",
      "metadata": {
        "colab": {
          "base_uri": "https://localhost:8080/"
        },
        "id": "jP-On5KBj9yU",
        "outputId": "2d6690f0-7a70-4e35-e90b-17a8197df430"
      },
      "source": [
        "for c in \"Hello\":\n",
        "    print(c)"
      ],
      "execution_count": 15,
      "outputs": [
        {
          "output_type": "stream",
          "name": "stdout",
          "text": [
            "H\n",
            "e\n",
            "l\n",
            "l\n",
            "o\n"
          ]
        }
      ]
    },
    {
      "cell_type": "markdown",
      "metadata": {
        "id": "1UCFsf0Nj-7w"
      },
      "source": [
        "###range()"
      ]
    },
    {
      "cell_type": "markdown",
      "metadata": {
        "id": "iTI4z6xgkGZM"
      },
      "source": [
        "- range() 함수는 별도의 list, tuple 생성 없이 range()에서 정의한 범위를 반복\n",
        "- range(start,stop,step) 형식 사용"
      ]
    },
    {
      "cell_type": "markdown",
      "metadata": {
        "id": "_FIyK-F2kR1m"
      },
      "source": [
        "####stop : 단일 값을 지정하는 경우"
      ]
    },
    {
      "cell_type": "code",
      "metadata": {
        "colab": {
          "base_uri": "https://localhost:8080/"
        },
        "id": "_uALeEhrkVkO",
        "outputId": "aa2e4b5b-8594-4ae3-f44f-ea66e9f881bd"
      },
      "source": [
        "for i in range(10):\n",
        "    print(i)"
      ],
      "execution_count": 16,
      "outputs": [
        {
          "output_type": "stream",
          "name": "stdout",
          "text": [
            "0\n",
            "1\n",
            "2\n",
            "3\n",
            "4\n",
            "5\n",
            "6\n",
            "7\n",
            "8\n",
            "9\n"
          ]
        }
      ]
    },
    {
      "cell_type": "markdown",
      "metadata": {
        "id": "SwPoo1EEkWhJ"
      },
      "source": [
        "####start,stop : 두 개의 값을 지정한 경우"
      ]
    },
    {
      "cell_type": "code",
      "metadata": {
        "colab": {
          "base_uri": "https://localhost:8080/"
        },
        "id": "SFmaNkYrkbUr",
        "outputId": "3a62cb1c-0a09-4edb-c7d7-9629eb242f69"
      },
      "source": [
        "for i in range(2, 9):\n",
        "    print(i)"
      ],
      "execution_count": 17,
      "outputs": [
        {
          "output_type": "stream",
          "name": "stdout",
          "text": [
            "2\n",
            "3\n",
            "4\n",
            "5\n",
            "6\n",
            "7\n",
            "8\n"
          ]
        }
      ]
    },
    {
      "cell_type": "markdown",
      "metadata": {
        "id": "ooTlpEp0kdNR"
      },
      "source": [
        "####start,stop,step : 세 개의 값을 지정한 경우"
      ]
    },
    {
      "cell_type": "code",
      "metadata": {
        "colab": {
          "base_uri": "https://localhost:8080/"
        },
        "id": "2pZS5O-jkiG0",
        "outputId": "d3632dea-9010-4640-9b84-a578f332751e"
      },
      "source": [
        "for i in range(1, 10, 2):\n",
        "    print(i)"
      ],
      "execution_count": 18,
      "outputs": [
        {
          "output_type": "stream",
          "name": "stdout",
          "text": [
            "1\n",
            "3\n",
            "5\n",
            "7\n",
            "9\n"
          ]
        }
      ]
    },
    {
      "cell_type": "markdown",
      "metadata": {
        "id": "eu24dKICkjTF"
      },
      "source": [
        "##반복문의 중첩"
      ]
    },
    {
      "cell_type": "code",
      "metadata": {
        "colab": {
          "base_uri": "https://localhost:8080/"
        },
        "id": "3lG9nS3akwg5",
        "outputId": "108ee619-d1e3-49f3-800e-9bac34fd8540"
      },
      "source": [
        "for i in range(1, 4):\n",
        "    for j in range(1, 4):\n",
        "        print(f'(i={i}) + (j={j}) = {i * j}')\n",
        "    print('===')"
      ],
      "execution_count": 19,
      "outputs": [
        {
          "output_type": "stream",
          "name": "stdout",
          "text": [
            "(i=1) + (j=1) = 1\n",
            "(i=1) + (j=2) = 2\n",
            "(i=1) + (j=3) = 3\n",
            "===\n",
            "(i=2) + (j=1) = 2\n",
            "(i=2) + (j=2) = 4\n",
            "(i=2) + (j=3) = 6\n",
            "===\n",
            "(i=3) + (j=1) = 3\n",
            "(i=3) + (j=2) = 6\n",
            "(i=3) + (j=3) = 9\n",
            "===\n"
          ]
        }
      ]
    },
    {
      "cell_type": "markdown",
      "metadata": {
        "id": "LGxXwlETkykI"
      },
      "source": [
        "##제어문"
      ]
    },
    {
      "cell_type": "markdown",
      "metadata": {
        "id": "OUOw9kMQk0LE"
      },
      "source": [
        "###continue"
      ]
    },
    {
      "cell_type": "markdown",
      "metadata": {
        "id": "n6YeJxsrk3zs"
      },
      "source": [
        "- 반복문 내부에서 continue구문은 해당 루프(loop)를 건너뜀\n",
        "- continue라는 구문을 만나면, 반복문에서 continue 아래 작성된 코드는 실행되지 않고 건너뜀"
      ]
    },
    {
      "cell_type": "code",
      "metadata": {
        "id": "xwhJ1X_nlEUl"
      },
      "source": [
        "mylist = [1, 2, 3, 4, 5, 6, 7, 8, 9, 10]"
      ],
      "execution_count": 20,
      "outputs": []
    },
    {
      "cell_type": "markdown",
      "metadata": {
        "id": "ELqTmFdLlFwF"
      },
      "source": [
        "짝수만 출력"
      ]
    },
    {
      "cell_type": "code",
      "metadata": {
        "colab": {
          "base_uri": "https://localhost:8080/"
        },
        "id": "G4l_h8SplImB",
        "outputId": "1b3e083e-67db-4d91-f933-a686024b1234"
      },
      "source": [
        "for i in mylist:\n",
        "    if i % 2 == 1:\n",
        "        continue\n",
        "    print(i)"
      ],
      "execution_count": 21,
      "outputs": [
        {
          "output_type": "stream",
          "name": "stdout",
          "text": [
            "2\n",
            "4\n",
            "6\n",
            "8\n",
            "10\n"
          ]
        }
      ]
    },
    {
      "cell_type": "markdown",
      "metadata": {
        "id": "sNaxj37rlKrZ"
      },
      "source": [
        "###break"
      ]
    },
    {
      "cell_type": "markdown",
      "metadata": {
        "id": "S_AqQsoxlOaA"
      },
      "source": [
        "- break 구문을 만나면, 반복 루프(loop)는 즉시 종료"
      ]
    },
    {
      "cell_type": "code",
      "metadata": {
        "id": "WgZF6Dm7lUSl"
      },
      "source": [
        "mylist = [1, 2, 3, 4, 5, 6, 7, 8, 9, 10]"
      ],
      "execution_count": 22,
      "outputs": []
    },
    {
      "cell_type": "markdown",
      "metadata": {
        "id": "93HGcwAjlWMb"
      },
      "source": [
        "i가 6 이상이면 멈춤"
      ]
    },
    {
      "cell_type": "code",
      "metadata": {
        "colab": {
          "base_uri": "https://localhost:8080/"
        },
        "id": "s8qx6knDlZaM",
        "outputId": "00fc5fa8-36d0-47df-e537-b5eaf148f3d3"
      },
      "source": [
        "for i in mylist:\n",
        "    if i >= 6:\n",
        "        break\n",
        "    print(i)"
      ],
      "execution_count": 23,
      "outputs": [
        {
          "output_type": "stream",
          "name": "stdout",
          "text": [
            "1\n",
            "2\n",
            "3\n",
            "4\n",
            "5\n"
          ]
        }
      ]
    },
    {
      "cell_type": "markdown",
      "metadata": {
        "id": "ZwbZ4keslah-"
      },
      "source": [
        "###break, continue 차이"
      ]
    },
    {
      "cell_type": "code",
      "metadata": {
        "colab": {
          "base_uri": "https://localhost:8080/"
        },
        "id": "4K1FPTN8lcsG",
        "outputId": "ea69cb3a-10ea-4658-c10b-b44b2f8f0b12"
      },
      "source": [
        "for i in range(10):\n",
        "    if i == 5:\n",
        "        break\n",
        "    print(i)"
      ],
      "execution_count": 25,
      "outputs": [
        {
          "output_type": "stream",
          "name": "stdout",
          "text": [
            "0\n",
            "1\n",
            "2\n",
            "3\n",
            "4\n"
          ]
        }
      ]
    },
    {
      "cell_type": "code",
      "metadata": {
        "colab": {
          "base_uri": "https://localhost:8080/"
        },
        "id": "qCnyYWvjlhaL",
        "outputId": "fc89bb66-00ca-42d7-f27f-3dbe25cd0432"
      },
      "source": [
        "for i in range(10):\n",
        "    if i == 5:\n",
        "        continue\n",
        "    print(i)"
      ],
      "execution_count": 26,
      "outputs": [
        {
          "output_type": "stream",
          "name": "stdout",
          "text": [
            "0\n",
            "1\n",
            "2\n",
            "3\n",
            "4\n",
            "6\n",
            "7\n",
            "8\n",
            "9\n"
          ]
        }
      ]
    },
    {
      "cell_type": "markdown",
      "metadata": {
        "id": "zl89fCNBljo7"
      },
      "source": [
        "##While"
      ]
    },
    {
      "cell_type": "markdown",
      "metadata": {
        "id": "UbZMCRVslmwn"
      },
      "source": [
        "- while문은 while문과 함께 정의한 조건이 참이 될 때까지 반복 루프 수행"
      ]
    },
    {
      "cell_type": "code",
      "metadata": {
        "colab": {
          "base_uri": "https://localhost:8080/"
        },
        "id": "U_d0pKwdlta5",
        "outputId": "c6427c3c-4014-4afd-eb61-212a70ce3f11"
      },
      "source": [
        "count = 5\n",
        "\n",
        "while count > 0:\n",
        "    print(count)\n",
        "    count -= 1"
      ],
      "execution_count": 27,
      "outputs": [
        {
          "output_type": "stream",
          "name": "stdout",
          "text": [
            "5\n",
            "4\n",
            "3\n",
            "2\n",
            "1\n"
          ]
        }
      ]
    },
    {
      "cell_type": "markdown",
      "metadata": {
        "id": "6evU6xRqluzJ"
      },
      "source": [
        "while True로 지정하여 무한 루프 생성 후, 탈출 구문 루프 내에서 설정"
      ]
    },
    {
      "cell_type": "code",
      "metadata": {
        "colab": {
          "base_uri": "https://localhost:8080/"
        },
        "id": "JjHnyk6fl4hi",
        "outputId": "b1208225-20c1-4850-d304-16ce3c2dbf2f"
      },
      "source": [
        "count = 1\n",
        "\n",
        "while True:\n",
        "    print(count)\n",
        "    count += 1\n",
        "    # 탈출 구문(break)\n",
        "    if count > 5:\n",
        "        break"
      ],
      "execution_count": 28,
      "outputs": [
        {
          "output_type": "stream",
          "name": "stdout",
          "text": [
            "1\n",
            "2\n",
            "3\n",
            "4\n",
            "5\n"
          ]
        }
      ]
    }
  ]
}