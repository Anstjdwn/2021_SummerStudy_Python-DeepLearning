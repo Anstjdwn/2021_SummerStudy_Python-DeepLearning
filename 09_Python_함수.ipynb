{
  "nbformat": 4,
  "nbformat_minor": 0,
  "metadata": {
    "colab": {
      "name": "09-Python-함수.ipynb",
      "provenance": [],
      "authorship_tag": "ABX9TyN4e/teQsBo/AfunJ2BE2D9",
      "include_colab_link": true
    },
    "kernelspec": {
      "name": "python3",
      "display_name": "Python 3"
    },
    "language_info": {
      "name": "python"
    }
  },
  "cells": [
    {
      "cell_type": "markdown",
      "metadata": {
        "id": "view-in-github",
        "colab_type": "text"
      },
      "source": [
        "<a href=\"https://colab.research.google.com/github/june050312/2021_SummerStudy_Python-DeepLearning/blob/main/09_Python_%ED%95%A8%EC%88%98.ipynb\" target=\"_parent\"><img src=\"https://colab.research.google.com/assets/colab-badge.svg\" alt=\"Open In Colab\"/></a>"
      ]
    },
    {
      "cell_type": "markdown",
      "metadata": {
        "id": "moohjwcaMFKw"
      },
      "source": [
        "#함수(function)"
      ]
    },
    {
      "cell_type": "markdown",
      "metadata": {
        "id": "IbLRPgohMRvp"
      },
      "source": [
        "* 자주 사용되는 코드 및 반복되는 코드를 모아 하나의 기능으로 만들고 이름을 붙인 것입니다.\n",
        "* 즉, 함수의 가장 중요한 기능은 바로 코드의 재사용성입니다."
      ]
    },
    {
      "cell_type": "markdown",
      "metadata": {
        "id": "MRClE-vrNW7E"
      },
      "source": [
        "## 함수의 기본 구조"
      ]
    },
    {
      "cell_type": "markdown",
      "metadata": {
        "id": "fW0Bt5Q-NdSq"
      },
      "source": [
        "* def 키워드로 시작합니다.\n",
        "* 함수명을 기입합니다.\n",
        "* () 안에 매개변수를 지정할 수 있고, 생략도 가능합니다.\n",
        "* 끝에는 :으로 끝납니다.\n",
        "* 함수의 범위 안에서는 들여쓰기를 합니다. 들여쓰기가 끝난 지점이 함수의 범위가 끝나는 지점입니다."
      ]
    },
    {
      "cell_type": "markdown",
      "metadata": {
        "id": "jTmkmhsiNjza"
      },
      "source": [
        "(예시)"
      ]
    },
    {
      "cell_type": "code",
      "metadata": {
        "id": "qkoS0yI-Nl-C"
      },
      "source": [
        "def add_function(a, b):\n",
        "    result = a + b\n",
        "    return result"
      ],
      "execution_count": 1,
      "outputs": []
    },
    {
      "cell_type": "markdown",
      "metadata": {
        "id": "q8uvT4ruNnhh"
      },
      "source": [
        "##함수의 다양한 형태"
      ]
    },
    {
      "cell_type": "markdown",
      "metadata": {
        "id": "vMHvfNlGNsia"
      },
      "source": [
        "###일반 형태"
      ]
    },
    {
      "cell_type": "markdown",
      "metadata": {
        "id": "IfiSyWN9NvMC"
      },
      "source": [
        "* 입력 매개변수: O\n",
        "* return: O"
      ]
    },
    {
      "cell_type": "code",
      "metadata": {
        "id": "ZyJiuaZ4Ny36"
      },
      "source": [
        "def sample_function(a, b):\n",
        "    result = a + b\n",
        "    return result"
      ],
      "execution_count": 2,
      "outputs": []
    },
    {
      "cell_type": "markdown",
      "metadata": {
        "id": "jDW7QF67N0ba"
      },
      "source": [
        "###입력 매개변수가 없는 형태"
      ]
    },
    {
      "cell_type": "code",
      "metadata": {
        "id": "FhLegjN7N41i"
      },
      "source": [
        "def sample_function():\n",
        "    a = 1\n",
        "    b = 2\n",
        "    result = a + b\n",
        "    return result"
      ],
      "execution_count": 3,
      "outputs": []
    },
    {
      "cell_type": "markdown",
      "metadata": {
        "id": "cYp8B-lKN6d6"
      },
      "source": [
        "###return 이 없는 형태"
      ]
    },
    {
      "cell_type": "code",
      "metadata": {
        "id": "jXdPXSMtN_PC"
      },
      "source": [
        "def sample_function(a, b):\n",
        "    result = a + b\n",
        "    print(f'result: {result}')"
      ],
      "execution_count": 4,
      "outputs": []
    },
    {
      "cell_type": "markdown",
      "metadata": {
        "id": "SpPkvu7UOBIq"
      },
      "source": [
        "###입력 매개변수, return 모두 없는 형태"
      ]
    },
    {
      "cell_type": "code",
      "metadata": {
        "id": "6kMMDjGYOD9q"
      },
      "source": [
        "def sample_function():\n",
        "    print('Hello, World!')"
      ],
      "execution_count": 6,
      "outputs": []
    },
    {
      "cell_type": "markdown",
      "metadata": {
        "id": "Wjq-vvYcOFyS"
      },
      "source": [
        "##함수의 이름 및 호출"
      ]
    },
    {
      "cell_type": "markdown",
      "metadata": {
        "id": "yUnUz9SaOR_a"
      },
      "source": [
        "* 함수의 이름은 알파벳이나 _로 시작해야 합니다.\n",
        "* 함수의 지정된 이름과 () 로 호출 할 수 있습니다."
      ]
    },
    {
      "cell_type": "code",
      "metadata": {
        "id": "sPYki9RWOYEa"
      },
      "source": [
        "def sample_function():\n",
        "    print('함수가 호출 되었습니다!')"
      ],
      "execution_count": 7,
      "outputs": []
    },
    {
      "cell_type": "markdown",
      "metadata": {
        "id": "GRfF1d4HOaYy"
      },
      "source": [
        "함수의 이름만 출력시"
      ]
    },
    {
      "cell_type": "code",
      "metadata": {
        "colab": {
          "base_uri": "https://localhost:8080/"
        },
        "id": "vHrM3EuiOrUK",
        "outputId": "6ed84567-1182-4b67-cdca-7d87b39a81a5"
      },
      "source": [
        "sample_function"
      ],
      "execution_count": 8,
      "outputs": [
        {
          "output_type": "execute_result",
          "data": {
            "text/plain": [
              "<function __main__.sample_function>"
            ]
          },
          "metadata": {
            "tags": []
          },
          "execution_count": 8
        }
      ]
    },
    {
      "cell_type": "markdown",
      "metadata": {
        "id": "3frJoFCUOu16"
      },
      "source": [
        "호출(call): 함수의 이름과 함께 ()를 같이 실행"
      ]
    },
    {
      "cell_type": "code",
      "metadata": {
        "colab": {
          "base_uri": "https://localhost:8080/"
        },
        "id": "Jt4_3B1LOyQC",
        "outputId": "4c3b34cc-1129-4863-b8f9-ceb303c543c5"
      },
      "source": [
        "sample_function()"
      ],
      "execution_count": 9,
      "outputs": [
        {
          "output_type": "stream",
          "text": [
            "함수가 호출 되었습니다!\n"
          ],
          "name": "stdout"
        }
      ]
    },
    {
      "cell_type": "markdown",
      "metadata": {
        "id": "h2vwvkjYO2Cy"
      },
      "source": [
        "함수의 이름을 별도의 변수에 대입한 후 변수에 ()를 같이 실행한 경우"
      ]
    },
    {
      "cell_type": "code",
      "metadata": {
        "colab": {
          "base_uri": "https://localhost:8080/"
        },
        "id": "8tlzJ3MFO53K",
        "outputId": "a635480f-b2b3-4213-eff2-3fd2b54e1888"
      },
      "source": [
        "a = sample_function\n",
        "a()"
      ],
      "execution_count": 10,
      "outputs": [
        {
          "output_type": "stream",
          "text": [
            "함수가 호출 되었습니다!\n"
          ],
          "name": "stdout"
        }
      ]
    },
    {
      "cell_type": "code",
      "metadata": {
        "id": "-fMywI17O7WS"
      },
      "source": [
        "# return 이 존재하는 경우\n",
        "def sample_function():\n",
        "    print('함수가 호출 되었습니다!')\n",
        "    return 123"
      ],
      "execution_count": 11,
      "outputs": []
    },
    {
      "cell_type": "markdown",
      "metadata": {
        "id": "ZBy_n7VQO-9K"
      },
      "source": [
        "return 값이 존재하는 경우 함수는 결과 값을 반환 하며 반환된 결과를 변수에 대입할 수 있습니다."
      ]
    },
    {
      "cell_type": "code",
      "metadata": {
        "colab": {
          "base_uri": "https://localhost:8080/"
        },
        "id": "8sDSh8txPDSq",
        "outputId": "7feae054-cb58-4108-a66f-158cea7c1c8a"
      },
      "source": [
        "result = sample_function()"
      ],
      "execution_count": 12,
      "outputs": [
        {
          "output_type": "stream",
          "text": [
            "함수가 호출 되었습니다!\n"
          ],
          "name": "stdout"
        }
      ]
    },
    {
      "cell_type": "code",
      "metadata": {
        "colab": {
          "base_uri": "https://localhost:8080/"
        },
        "id": "NT5zhjiQPFFa",
        "outputId": "f53b74fa-7020-489a-b5e0-67482a18001f"
      },
      "source": [
        "result"
      ],
      "execution_count": 13,
      "outputs": [
        {
          "output_type": "execute_result",
          "data": {
            "text/plain": [
              "123"
            ]
          },
          "metadata": {
            "tags": []
          },
          "execution_count": 13
        }
      ]
    },
    {
      "cell_type": "markdown",
      "metadata": {
        "id": "ciG4D3YAPb3S"
      },
      "source": [
        "하지만, 함수가 아무런 결과 값을 반환하지 않는다면 함수로부터 반환된 결과는 None입니다."
      ]
    },
    {
      "cell_type": "code",
      "metadata": {
        "id": "-YAdQ4IlPfxy"
      },
      "source": [
        "# return 이 없는 경우\n",
        "def sample_function():\n",
        "    print('함수가 호출 되었습니다!')"
      ],
      "execution_count": 14,
      "outputs": []
    },
    {
      "cell_type": "code",
      "metadata": {
        "colab": {
          "base_uri": "https://localhost:8080/"
        },
        "id": "5KsWbeyFPhnq",
        "outputId": "d69ee701-0375-4b0e-bbfa-75c798ae0c7d"
      },
      "source": [
        "result = sample_function()"
      ],
      "execution_count": 15,
      "outputs": [
        {
          "output_type": "stream",
          "text": [
            "함수가 호출 되었습니다!\n"
          ],
          "name": "stdout"
        }
      ]
    },
    {
      "cell_type": "code",
      "metadata": {
        "colab": {
          "base_uri": "https://localhost:8080/"
        },
        "id": "uIGFCyfHPjWB",
        "outputId": "01d5832b-6783-456e-827f-abe61fa6c2a5"
      },
      "source": [
        "print(result)"
      ],
      "execution_count": 16,
      "outputs": [
        {
          "output_type": "stream",
          "text": [
            "None\n"
          ],
          "name": "stdout"
        }
      ]
    },
    {
      "cell_type": "markdown",
      "metadata": {
        "id": "kp6lq-AOPlCS"
      },
      "source": [
        "###docstring"
      ]
    },
    {
      "cell_type": "markdown",
      "metadata": {
        "id": "L3nEU__oPuKC"
      },
      "source": [
        "* 함수에 대한 설명을 기록"
      ]
    },
    {
      "cell_type": "code",
      "metadata": {
        "id": "Kot2F2JVPx8y"
      },
      "source": [
        "def sample_function():\n",
        "    \"\"\"\n",
        "    함수에 대한 설명을 기록합니다.\n",
        "    sample_function은 함수를 설명하기 위한 예제 함수 입니다.\n",
        "    \n",
        "    (예시)\n",
        "    호출의 예.\n",
        "    sample_function()\n",
        "    \"\"\"\n",
        "    print('함수가 호출 되었습니다.')"
      ],
      "execution_count": 17,
      "outputs": []
    },
    {
      "cell_type": "code",
      "metadata": {
        "colab": {
          "base_uri": "https://localhost:8080/"
        },
        "id": "C4G_b-urP5li",
        "outputId": "1f16a84b-a63a-4ac4-fc6e-911b9490e138"
      },
      "source": [
        "sample_function()"
      ],
      "execution_count": 18,
      "outputs": [
        {
          "output_type": "stream",
          "text": [
            "함수가 호출 되었습니다.\n"
          ],
          "name": "stdout"
        }
      ]
    },
    {
      "cell_type": "markdown",
      "metadata": {
        "id": "ULhOtyKRP8Oa"
      },
      "source": [
        "함수명.`__doc__`로 docstring을 출력할 수 있습니다."
      ]
    },
    {
      "cell_type": "code",
      "metadata": {
        "colab": {
          "base_uri": "https://localhost:8080/"
        },
        "id": "xiU0Ggt5Q38q",
        "outputId": "29a5d5e9-c6c5-4587-9eb9-bb2f79100a1f"
      },
      "source": [
        "print(sample_function.__doc__)"
      ],
      "execution_count": 19,
      "outputs": [
        {
          "output_type": "stream",
          "text": [
            "\n",
            "    함수에 대한 설명을 기록합니다.\n",
            "    sample_function은 함수를 설명하기 위한 예제 함수 입니다.\n",
            "    \n",
            "    (예시)\n",
            "    호출의 예.\n",
            "    sample_function()\n",
            "    \n"
          ],
          "name": "stdout"
        }
      ]
    },
    {
      "cell_type": "markdown",
      "metadata": {
        "id": "daEts2iuQ_Wq"
      },
      "source": [
        "##함수의 인수(매개변수)"
      ]
    },
    {
      "cell_type": "markdown",
      "metadata": {
        "id": "y0a_afj9RPJK"
      },
      "source": [
        "[참고]"
      ]
    },
    {
      "cell_type": "markdown",
      "metadata": {
        "id": "OdkXCWtpRQ-K"
      },
      "source": [
        "- 인수(argument): 값, 변수, 참조 등 전달되는 값\n",
        "- 매개변수(parameter): 함수 등에서 사용되는 전달된 값을 받는 변수"
      ]
    },
    {
      "cell_type": "markdown",
      "metadata": {
        "id": "a6RveUxuRVki"
      },
      "source": [
        "- 10, 20 이라는 값은 인수(argument)\n",
        "- a, b는 매개변수(parameter)"
      ]
    },
    {
      "cell_type": "code",
      "metadata": {
        "colab": {
          "base_uri": "https://localhost:8080/"
        },
        "id": "Qy-zO0DYRiEC",
        "outputId": "dc7c003d-35c9-4017-fe50-e7f026bcd159"
      },
      "source": [
        "def some_function(a, b):\n",
        "    result = a + b\n",
        "    return result\n",
        "\n",
        "some_function(10, 20)"
      ],
      "execution_count": 21,
      "outputs": [
        {
          "output_type": "execute_result",
          "data": {
            "text/plain": [
              "30"
            ]
          },
          "metadata": {
            "tags": []
          },
          "execution_count": 21
        }
      ]
    },
    {
      "cell_type": "markdown",
      "metadata": {
        "id": "K7DvQshURj7K"
      },
      "source": [
        "###위치 인수(positional arguments)"
      ]
    },
    {
      "cell_type": "markdown",
      "metadata": {
        "id": "Q1HJNtU3RpG6"
      },
      "source": [
        "- 가장 보편적인 인수입니다.\n",
        "- 변수명을 인수로 지정합니다.\n",
        "- 위치가 중요합니다."
      ]
    },
    {
      "cell_type": "markdown",
      "metadata": {
        "id": "CmRwAsNFRvOi"
      },
      "source": [
        "a, b, c를 위치인수로 지정한 경우"
      ]
    },
    {
      "cell_type": "code",
      "metadata": {
        "id": "u0ojcrGbSTKS"
      },
      "source": [
        "def add_function(a, b, c):\n",
        "    result = a + b + c\n",
        "    print(f'a: {a}, b: {b}, c: {c}')\n",
        "    print(f'sum: {result}')\n",
        "    return result"
      ],
      "execution_count": 22,
      "outputs": []
    },
    {
      "cell_type": "code",
      "metadata": {
        "colab": {
          "base_uri": "https://localhost:8080/"
        },
        "id": "_3KjNsfrSUAo",
        "outputId": "054813e7-ae5a-490c-dbbb-f4feb96c02bb"
      },
      "source": [
        "add_function(1, 3, 5)"
      ],
      "execution_count": 23,
      "outputs": [
        {
          "output_type": "stream",
          "text": [
            "a: 1, b: 3, c: 5\n",
            "sum: 9\n"
          ],
          "name": "stdout"
        },
        {
          "output_type": "execute_result",
          "data": {
            "text/plain": [
              "9"
            ]
          },
          "metadata": {
            "tags": []
          },
          "execution_count": 23
        }
      ]
    },
    {
      "cell_type": "markdown",
      "metadata": {
        "id": "N7a5bn_wScHq"
      },
      "source": [
        "###키워드 인수(keyword arguments)"
      ]
    },
    {
      "cell_type": "markdown",
      "metadata": {
        "id": "XylWZeBRS01i"
      },
      "source": [
        "- 위치 인수의 위치를 정확히 기억 하지 못하고 혼란을 야기할 수 있기 때문에 인수명에 값을 직접 지정합니다."
      ]
    },
    {
      "cell_type": "code",
      "metadata": {
        "id": "pyzLmzpyS8xa"
      },
      "source": [
        "def add_function(a, b, c):\n",
        "    result = a + b + c\n",
        "    print(f'a: {a}, b: {b}, c: {c}')\n",
        "    print(f'sum: {result}')\n",
        "    return result"
      ],
      "execution_count": 25,
      "outputs": []
    },
    {
      "cell_type": "markdown",
      "metadata": {
        "id": "pC_5zrQbTKnp"
      },
      "source": [
        "아래의 예제는 키워드로 매개변수에 대한 값을 지정하는 예시입니다."
      ]
    },
    {
      "cell_type": "code",
      "metadata": {
        "colab": {
          "base_uri": "https://localhost:8080/"
        },
        "id": "Z4RTxxMcTNyJ",
        "outputId": "e0d995a5-eba3-4050-f38e-ad3a91ac96b1"
      },
      "source": [
        "add_function(b=3, c=1, a=5)"
      ],
      "execution_count": 26,
      "outputs": [
        {
          "output_type": "stream",
          "text": [
            "a: 5, b: 3, c: 1\n",
            "sum: 9\n"
          ],
          "name": "stdout"
        },
        {
          "output_type": "execute_result",
          "data": {
            "text/plain": [
              "9"
            ]
          },
          "metadata": {
            "tags": []
          },
          "execution_count": 26
        }
      ]
    },
    {
      "cell_type": "markdown",
      "metadata": {
        "id": "lxKQx1dqTOGC"
      },
      "source": [
        "###기본 매개변수(default parameter)"
      ]
    },
    {
      "cell_type": "markdown",
      "metadata": {
        "id": "2qhCjRlHTTDR"
      },
      "source": [
        "- 매개변수에 기본 값을 지정할 수 있습니다.\n",
        "- 기본 값을 지정시 인수에 값을 생략 가능합니다.\n",
        "- 단, 기본 값이 지정된 인수는 위치 인수보다 다음에 위치해야 합니다."
      ]
    },
    {
      "cell_type": "code",
      "metadata": {
        "id": "j67Sfk8QTYBJ"
      },
      "source": [
        "def add_function(a, b=0, c=0):\n",
        "    result = a + b + c\n",
        "    print(f'a: {a}, b: {b}, c: {c}')\n",
        "    print(f'sum: {result}')\n",
        "    return result"
      ],
      "execution_count": 28,
      "outputs": []
    },
    {
      "cell_type": "code",
      "metadata": {
        "colab": {
          "base_uri": "https://localhost:8080/"
        },
        "id": "oFRVLtTrTgsK",
        "outputId": "f0a469ea-4469-47c7-ca4d-61c7f0ad69cf"
      },
      "source": [
        "add_function(1)"
      ],
      "execution_count": 29,
      "outputs": [
        {
          "output_type": "stream",
          "text": [
            "a: 1, b: 0, c: 0\n",
            "sum: 1\n"
          ],
          "name": "stdout"
        },
        {
          "output_type": "execute_result",
          "data": {
            "text/plain": [
              "1"
            ]
          },
          "metadata": {
            "tags": []
          },
          "execution_count": 29
        }
      ]
    },
    {
      "cell_type": "code",
      "metadata": {
        "colab": {
          "base_uri": "https://localhost:8080/"
        },
        "id": "RMvH6VrNTijq",
        "outputId": "768d6bc0-9fc3-4b3d-c393-a9cc682344a3"
      },
      "source": [
        "add_function(1, 3)"
      ],
      "execution_count": 30,
      "outputs": [
        {
          "output_type": "stream",
          "text": [
            "a: 1, b: 3, c: 0\n",
            "sum: 4\n"
          ],
          "name": "stdout"
        },
        {
          "output_type": "execute_result",
          "data": {
            "text/plain": [
              "4"
            ]
          },
          "metadata": {
            "tags": []
          },
          "execution_count": 30
        }
      ]
    },
    {
      "cell_type": "code",
      "metadata": {
        "colab": {
          "base_uri": "https://localhost:8080/"
        },
        "id": "FEIULh_ITk6i",
        "outputId": "a468d949-32cf-4224-83ea-10160808e09e"
      },
      "source": [
        "add_function(1, 3, 5)"
      ],
      "execution_count": 31,
      "outputs": [
        {
          "output_type": "stream",
          "text": [
            "a: 1, b: 3, c: 5\n",
            "sum: 9\n"
          ],
          "name": "stdout"
        },
        {
          "output_type": "execute_result",
          "data": {
            "text/plain": [
              "9"
            ]
          },
          "metadata": {
            "tags": []
          },
          "execution_count": 31
        }
      ]
    },
    {
      "cell_type": "code",
      "metadata": {
        "colab": {
          "base_uri": "https://localhost:8080/"
        },
        "id": "M3hQ3YtrTmZK",
        "outputId": "c3cdfdb9-0034-463d-a7e3-28cbcb6456b4"
      },
      "source": [
        "add_function(c=5, b=3, a=1)"
      ],
      "execution_count": 32,
      "outputs": [
        {
          "output_type": "stream",
          "text": [
            "a: 1, b: 3, c: 5\n",
            "sum: 9\n"
          ],
          "name": "stdout"
        },
        {
          "output_type": "execute_result",
          "data": {
            "text/plain": [
              "9"
            ]
          },
          "metadata": {
            "tags": []
          },
          "execution_count": 32
        }
      ]
    },
    {
      "cell_type": "markdown",
      "metadata": {
        "id": "i8OoY0WzTob6"
      },
      "source": [
        "기본 매개변수가 위치 인수보다 앞 쪽에 위치한 경우 Error가 발생합니다."
      ]
    },
    {
      "cell_type": "code",
      "metadata": {
        "colab": {
          "base_uri": "https://localhost:8080/",
          "height": 136
        },
        "id": "J9PjtvzwTsIC",
        "outputId": "54c7ba65-1004-4f7c-ac55-74d08c6f7c69"
      },
      "source": [
        "def add_function(a=0, b, c):\n",
        "    result = a + b + c\n",
        "    print(f'a: {a}, b: {b}, c: {c}')\n",
        "    print(f'sum: {result}')\n",
        "    return result"
      ],
      "execution_count": 33,
      "outputs": [
        {
          "output_type": "error",
          "ename": "SyntaxError",
          "evalue": "ignored",
          "traceback": [
            "\u001b[0;36m  File \u001b[0;32m\"<ipython-input-33-8487cf0d9f78>\"\u001b[0;36m, line \u001b[0;32m1\u001b[0m\n\u001b[0;31m    def add_function(a=0, b, c):\u001b[0m\n\u001b[0m                    ^\u001b[0m\n\u001b[0;31mSyntaxError\u001b[0m\u001b[0;31m:\u001b[0m non-default argument follows default argument\n"
          ]
        }
      ]
    },
    {
      "cell_type": "markdown",
      "metadata": {
        "id": "TmoS5U1DTtry"
      },
      "source": [
        "###*tuple 인수"
      ]
    },
    {
      "cell_type": "markdown",
      "metadata": {
        "id": "_eMcy3CkUsIB"
      },
      "source": [
        "- 여러 개의 인수를 전달 받을 수 있습니다.\n",
        "- 여러 개의 인수를 전달 받은 *args에는 튜플(tuple) 형식으로 데이터가 저장됩니다.\n",
        "- *args로 받은 인수는 반복문으로 처리하는 것이 일반 적입니다.\n",
        "- 대체적으로 *args 변수가 많이 사용됩니다."
      ]
    },
    {
      "cell_type": "code",
      "metadata": {
        "id": "rvgnz55EUwqy"
      },
      "source": [
        "def add_function(*args):\n",
        "    result = 0\n",
        "    print(f'args의 타입: {type(args)}')\n",
        "    for arg in args:\n",
        "        print(arg)\n",
        "        result += arg\n",
        "    print('==='* 5)\n",
        "    print(f'sum: {result}')"
      ],
      "execution_count": 35,
      "outputs": []
    },
    {
      "cell_type": "markdown",
      "metadata": {
        "id": "X7xGabdJU0FZ"
      },
      "source": [
        "아무런 값을 전달하지 않은 경우(생략 가능)"
      ]
    },
    {
      "cell_type": "code",
      "metadata": {
        "colab": {
          "base_uri": "https://localhost:8080/"
        },
        "id": "a01Wn3XrVvnC",
        "outputId": "bad56f1d-3eae-4e77-8e34-caff7392501c"
      },
      "source": [
        "add_function()"
      ],
      "execution_count": 36,
      "outputs": [
        {
          "output_type": "stream",
          "text": [
            "args의 타입: <class 'tuple'>\n",
            "===============\n",
            "sum: 0\n"
          ],
          "name": "stdout"
        }
      ]
    },
    {
      "cell_type": "code",
      "metadata": {
        "colab": {
          "base_uri": "https://localhost:8080/"
        },
        "id": "vFPorASuVxO6",
        "outputId": "edfffd77-fcbe-49fa-e398-d8a1195236d6"
      },
      "source": [
        "add_function(1)"
      ],
      "execution_count": 37,
      "outputs": [
        {
          "output_type": "stream",
          "text": [
            "args의 타입: <class 'tuple'>\n",
            "1\n",
            "===============\n",
            "sum: 1\n"
          ],
          "name": "stdout"
        }
      ]
    },
    {
      "cell_type": "code",
      "metadata": {
        "colab": {
          "base_uri": "https://localhost:8080/"
        },
        "id": "ykF68QImVzOG",
        "outputId": "29f759fe-9de1-4acb-81b2-a5256b3e4278"
      },
      "source": [
        "add_function(1, 2, 3, 4, 5)"
      ],
      "execution_count": 38,
      "outputs": [
        {
          "output_type": "stream",
          "text": [
            "args의 타입: <class 'tuple'>\n",
            "1\n",
            "2\n",
            "3\n",
            "4\n",
            "5\n",
            "===============\n",
            "sum: 15\n"
          ],
          "name": "stdout"
        }
      ]
    },
    {
      "cell_type": "markdown",
      "metadata": {
        "id": "LkvQCVXxV5Gy"
      },
      "source": [
        "###위치 매개변수와 *tuple 매개변수의 혼용"
      ]
    },
    {
      "cell_type": "markdown",
      "metadata": {
        "id": "ZwzQ7z3gWLTR"
      },
      "source": [
        "- *tuple 매개변수는 위치 매개변수의 뒤에 위치해야 합니다."
      ]
    },
    {
      "cell_type": "code",
      "metadata": {
        "id": "ptqJve_0WNTZ"
      },
      "source": [
        "def add_function(a, *args):\n",
        "    print(f'a: {a}')\n",
        "    print('==='* 5)\n",
        "    result = 0\n",
        "    for arg in args:\n",
        "        print(arg)\n",
        "        result += arg\n",
        "    print('==='* 5)\n",
        "    print(f'sum: {result}')"
      ],
      "execution_count": 39,
      "outputs": []
    },
    {
      "cell_type": "markdown",
      "metadata": {
        "id": "Zs46EaMdWP4p"
      },
      "source": [
        "아무런 값을 지정하지 않은 경우"
      ]
    },
    {
      "cell_type": "markdown",
      "metadata": {
        "id": "gKBU80GRWXkB"
      },
      "source": [
        "- 위치 매개변수 미지정으로 인한 Error 발생"
      ]
    },
    {
      "cell_type": "code",
      "metadata": {
        "colab": {
          "base_uri": "https://localhost:8080/",
          "height": 172
        },
        "id": "iZxlsRDTWZfh",
        "outputId": "be8dfe03-a5da-4381-9c83-68886f25e330"
      },
      "source": [
        "add_function()"
      ],
      "execution_count": 41,
      "outputs": [
        {
          "output_type": "error",
          "ename": "TypeError",
          "evalue": "ignored",
          "traceback": [
            "\u001b[0;31m---------------------------------------------------------------------------\u001b[0m",
            "\u001b[0;31mTypeError\u001b[0m                                 Traceback (most recent call last)",
            "\u001b[0;32m<ipython-input-41-1553848aed78>\u001b[0m in \u001b[0;36m<module>\u001b[0;34m()\u001b[0m\n\u001b[0;32m----> 1\u001b[0;31m \u001b[0madd_function\u001b[0m\u001b[0;34m(\u001b[0m\u001b[0;34m)\u001b[0m\u001b[0;34m\u001b[0m\u001b[0;34m\u001b[0m\u001b[0m\n\u001b[0m",
            "\u001b[0;31mTypeError\u001b[0m: add_function() missing 1 required positional argument: 'a'"
          ]
        }
      ]
    },
    {
      "cell_type": "code",
      "metadata": {
        "colab": {
          "base_uri": "https://localhost:8080/"
        },
        "id": "t_vVSMiEWcqh",
        "outputId": "3f83cb7f-1625-4f37-d619-c39586fdb662"
      },
      "source": [
        "add_function(1)"
      ],
      "execution_count": 42,
      "outputs": [
        {
          "output_type": "stream",
          "text": [
            "a: 1\n",
            "===============\n",
            "===============\n",
            "sum: 0\n"
          ],
          "name": "stdout"
        }
      ]
    },
    {
      "cell_type": "markdown",
      "metadata": {
        "id": "e1tOBKvcWk4K"
      },
      "source": [
        "복수의 값을 지정한 경우"
      ]
    },
    {
      "cell_type": "code",
      "metadata": {
        "colab": {
          "base_uri": "https://localhost:8080/"
        },
        "id": "7TSpi4KaWvth",
        "outputId": "b9f7b457-5d5a-4e7d-8044-c2a8a955ce83"
      },
      "source": [
        "add_function(1, 2, 3, 4, 5)"
      ],
      "execution_count": 43,
      "outputs": [
        {
          "output_type": "stream",
          "text": [
            "a: 1\n",
            "===============\n",
            "2\n",
            "3\n",
            "4\n",
            "5\n",
            "===============\n",
            "sum: 14\n"
          ],
          "name": "stdout"
        }
      ]
    },
    {
      "cell_type": "markdown",
      "metadata": {
        "id": "66n8Lf1uWxJJ"
      },
      "source": [
        "###**dict 인수"
      ]
    },
    {
      "cell_type": "markdown",
      "metadata": {
        "id": "NJv_9l84XaR5"
      },
      "source": [
        "- 여러 개의 인수를 전달 받을 수 있습니다.\n",
        "- 여러 개의 인수를 전달 받은 **kwargs에는 딕셔너리(dict) 형식으로 데이터가 저장됩니다.\n",
        "- **kwargs로 받은 인수 역시 반복문으로 처리하는 것이 일반 적입니다.\n",
        "- 대체적으로 **kwargs 변수가 많이 사용됩니다."
      ]
    },
    {
      "cell_type": "code",
      "metadata": {
        "id": "oZgJd_62XjXh"
      },
      "source": [
        "def add_function(**kwargs):\n",
        "    total_age = 0\n",
        "    for name, age in kwargs.items():\n",
        "        print(f'이름: {name}, 나이: {age}')\n",
        "        total_age += age\n",
        "    print('==='* 5)\n",
        "    print(f'전체 나이의 합계: {total_age}')"
      ],
      "execution_count": 44,
      "outputs": []
    },
    {
      "cell_type": "markdown",
      "metadata": {
        "id": "-hjT3LRUXkHq"
      },
      "source": [
        "아무런 값을 지정하지 않은 경우\n"
      ]
    },
    {
      "cell_type": "code",
      "metadata": {
        "colab": {
          "base_uri": "https://localhost:8080/"
        },
        "id": "LTYt06ITXsuJ",
        "outputId": "a2cdd5cb-7739-4f73-b68b-f4b08d085c6c"
      },
      "source": [
        "add_function()"
      ],
      "execution_count": 45,
      "outputs": [
        {
          "output_type": "stream",
          "text": [
            "===============\n",
            "전체 나이의 합계: 0\n"
          ],
          "name": "stdout"
        }
      ]
    },
    {
      "cell_type": "markdown",
      "metadata": {
        "id": "yyc5HWrvYj3X"
      },
      "source": [
        "단일 값을 지정한 경우"
      ]
    },
    {
      "cell_type": "code",
      "metadata": {
        "colab": {
          "base_uri": "https://localhost:8080/"
        },
        "id": "3Wf-0xwmY245",
        "outputId": "3b8df2c2-1df8-4c55-d398-8446398fb7f8"
      },
      "source": [
        "add_function(lee=5)"
      ],
      "execution_count": 46,
      "outputs": [
        {
          "output_type": "stream",
          "text": [
            "이름: lee, 나이: 5\n",
            "===============\n",
            "전체 나이의 합계: 5\n"
          ],
          "name": "stdout"
        }
      ]
    },
    {
      "cell_type": "code",
      "metadata": {
        "colab": {
          "base_uri": "https://localhost:8080/"
        },
        "id": "TS10YtBxY4gx",
        "outputId": "1585c338-33cd-4ad7-bc47-344270f9a997"
      },
      "source": [
        "add_function(john=10, peter=12, lee=5)"
      ],
      "execution_count": 47,
      "outputs": [
        {
          "output_type": "stream",
          "text": [
            "이름: john, 나이: 10\n",
            "이름: peter, 나이: 12\n",
            "이름: lee, 나이: 5\n",
            "===============\n",
            "전체 나이의 합계: 27\n"
          ],
          "name": "stdout"
        }
      ]
    },
    {
      "cell_type": "markdown",
      "metadata": {
        "id": "4AVvAU1jY6-J"
      },
      "source": [
        "딕셔너리(dictionary)를 인수로 지정하는 경우 **를 앞에 붙혀 줍니다."
      ]
    },
    {
      "cell_type": "code",
      "metadata": {
        "colab": {
          "base_uri": "https://localhost:8080/"
        },
        "id": "eH0xtNmbZA2W",
        "outputId": "b1eca2c7-1dfe-4499-9fdb-d32ff8b45cf2"
      },
      "source": [
        "person = {'john': 10, 'peter': 12, 'lee': 5}\n",
        "person"
      ],
      "execution_count": 48,
      "outputs": [
        {
          "output_type": "execute_result",
          "data": {
            "text/plain": [
              "{'john': 10, 'lee': 5, 'peter': 12}"
            ]
          },
          "metadata": {
            "tags": []
          },
          "execution_count": 48
        }
      ]
    },
    {
      "cell_type": "code",
      "metadata": {
        "colab": {
          "base_uri": "https://localhost:8080/"
        },
        "id": "vUmUoZZSZCCe",
        "outputId": "2c27e95a-4065-47c4-8b54-69bed008366a"
      },
      "source": [
        "add_function(**person)"
      ],
      "execution_count": 49,
      "outputs": [
        {
          "output_type": "stream",
          "text": [
            "이름: john, 나이: 10\n",
            "이름: peter, 나이: 12\n",
            "이름: lee, 나이: 5\n",
            "===============\n",
            "전체 나이의 합계: 27\n"
          ],
          "name": "stdout"
        }
      ]
    },
    {
      "cell_type": "markdown",
      "metadata": {
        "id": "YIqwWV8sZFq_"
      },
      "source": [
        "###lambda : 익명 함수(annonymous function)"
      ]
    },
    {
      "cell_type": "markdown",
      "metadata": {
        "id": "w4vdtxazZYLx"
      },
      "source": [
        "- 이름 없이 정의된 함수 입니다.\n",
        "- 단일 문장(1줄)의 코드로 작성되어야 합니다.\n",
        "- 함수 내부에서는 return문이 포함하지 않지만 값을 반환합니다."
      ]
    },
    {
      "cell_type": "markdown",
      "metadata": {
        "id": "5fOifgqJZe0Z"
      },
      "source": [
        "단일 인수를 가지는 lambda 함수"
      ]
    },
    {
      "cell_type": "code",
      "metadata": {
        "id": "L-XjeLzEZgtJ"
      },
      "source": [
        "a = lambda x: x * 2"
      ],
      "execution_count": 50,
      "outputs": []
    },
    {
      "cell_type": "code",
      "metadata": {
        "colab": {
          "base_uri": "https://localhost:8080/"
        },
        "id": "y5kFJFKYZiGX",
        "outputId": "f12d3186-7391-4acb-f9bb-8626c7ba72d2"
      },
      "source": [
        "a(4)"
      ],
      "execution_count": 51,
      "outputs": [
        {
          "output_type": "execute_result",
          "data": {
            "text/plain": [
              "8"
            ]
          },
          "metadata": {
            "tags": []
          },
          "execution_count": 51
        }
      ]
    },
    {
      "cell_type": "markdown",
      "metadata": {
        "id": "dEK1_eyhZjhp"
      },
      "source": [
        "2개의 인수를 가지는 lambda 함수"
      ]
    },
    {
      "cell_type": "code",
      "metadata": {
        "id": "sv3uNdA8ZofR"
      },
      "source": [
        "a = lambda x, y: x * y"
      ],
      "execution_count": 52,
      "outputs": []
    },
    {
      "cell_type": "code",
      "metadata": {
        "colab": {
          "base_uri": "https://localhost:8080/"
        },
        "id": "bs0olEeEZqgJ",
        "outputId": "3a6d635d-ef74-4cc8-a1de-c5cd4459973e"
      },
      "source": [
        "a(4, 8)"
      ],
      "execution_count": 53,
      "outputs": [
        {
          "output_type": "execute_result",
          "data": {
            "text/plain": [
              "32"
            ]
          },
          "metadata": {
            "tags": []
          },
          "execution_count": 53
        }
      ]
    },
    {
      "cell_type": "markdown",
      "metadata": {
        "id": "yUE4RuWkZt2J"
      },
      "source": [
        "기본 값이 지정된 인수를 가지는 lambda 함수"
      ]
    },
    {
      "cell_type": "code",
      "metadata": {
        "id": "Ip0GHosHZ6na"
      },
      "source": [
        "a = lambda x, y=10: x * y"
      ],
      "execution_count": 54,
      "outputs": []
    },
    {
      "cell_type": "code",
      "metadata": {
        "colab": {
          "base_uri": "https://localhost:8080/"
        },
        "id": "I85oJAEEZ8RX",
        "outputId": "a5264b94-365f-4b26-c65c-08e92eeb6fb1"
      },
      "source": [
        "a(3)"
      ],
      "execution_count": 55,
      "outputs": [
        {
          "output_type": "execute_result",
          "data": {
            "text/plain": [
              "30"
            ]
          },
          "metadata": {
            "tags": []
          },
          "execution_count": 55
        }
      ]
    },
    {
      "cell_type": "markdown",
      "metadata": {
        "id": "vFs3sVS2Z-Hp"
      },
      "source": [
        "키워드 인수를 지정하는 lambda 함수"
      ]
    },
    {
      "cell_type": "code",
      "metadata": {
        "colab": {
          "base_uri": "https://localhost:8080/"
        },
        "id": "WiuF_PwKaBAR",
        "outputId": "b7418809-9d9b-4a82-c454-93f026f178b0"
      },
      "source": [
        "a(y=5, x=3)"
      ],
      "execution_count": 56,
      "outputs": [
        {
          "output_type": "execute_result",
          "data": {
            "text/plain": [
              "15"
            ]
          },
          "metadata": {
            "tags": []
          },
          "execution_count": 56
        }
      ]
    },
    {
      "cell_type": "markdown",
      "metadata": {
        "id": "ZQM8EJnWaCyh"
      },
      "source": [
        "lambda 함수 내부에서 조건문 사용"
      ]
    },
    {
      "cell_type": "code",
      "metadata": {
        "id": "ogH0cB6GaFG5"
      },
      "source": [
        "a = lambda x, y: x * y if x > 0 else x/y"
      ],
      "execution_count": 60,
      "outputs": []
    },
    {
      "cell_type": "code",
      "metadata": {
        "colab": {
          "base_uri": "https://localhost:8080/"
        },
        "id": "bJBQWBT2aGuZ",
        "outputId": "c0ff4faf-2e94-47a5-ae2c-ddcd8d76b43f"
      },
      "source": [
        "a(4, 8)"
      ],
      "execution_count": 61,
      "outputs": [
        {
          "output_type": "execute_result",
          "data": {
            "text/plain": [
              "32"
            ]
          },
          "metadata": {
            "tags": []
          },
          "execution_count": 61
        }
      ]
    },
    {
      "cell_type": "code",
      "metadata": {
        "colab": {
          "base_uri": "https://localhost:8080/"
        },
        "id": "dLmE7BhgaIrx",
        "outputId": "7213dfa5-19d3-482f-f56a-033a73824a27"
      },
      "source": [
        "a(-1, 8)"
      ],
      "execution_count": 62,
      "outputs": [
        {
          "output_type": "execute_result",
          "data": {
            "text/plain": [
              "-0.125"
            ]
          },
          "metadata": {
            "tags": []
          },
          "execution_count": 62
        }
      ]
    },
    {
      "cell_type": "markdown",
      "metadata": {
        "id": "1Py3bxe6aM3Z"
      },
      "source": [
        "다음과 같이 elif 구문을 억지로 생성할 수 있습니다."
      ]
    },
    {
      "cell_type": "markdown",
      "metadata": {
        "id": "SEZUwqwtanOp"
      },
      "source": [
        "하지만, 복잡한 조건문을 사용하기 위해서는 일반적인 함수 사용을 권장합니다. (코드의 가독성이 떨어집니다.)"
      ]
    },
    {
      "cell_type": "code",
      "metadata": {
        "id": "8jyEArl6an6Z"
      },
      "source": [
        "a = lambda x: x * 10 if x < 2 else (x**2 if x < 4 else x + 10)"
      ],
      "execution_count": 63,
      "outputs": []
    },
    {
      "cell_type": "code",
      "metadata": {
        "colab": {
          "base_uri": "https://localhost:8080/"
        },
        "id": "1GA-fUoJapoh",
        "outputId": "d94320e5-1e7e-467b-d62d-464f2d854a17"
      },
      "source": [
        "a(1)"
      ],
      "execution_count": 64,
      "outputs": [
        {
          "output_type": "execute_result",
          "data": {
            "text/plain": [
              "10"
            ]
          },
          "metadata": {
            "tags": []
          },
          "execution_count": 64
        }
      ]
    },
    {
      "cell_type": "code",
      "metadata": {
        "colab": {
          "base_uri": "https://localhost:8080/"
        },
        "id": "vM4DKAKhar_4",
        "outputId": "f6718dbb-d575-4320-d199-d71d08e0f8ad"
      },
      "source": [
        "a(3)"
      ],
      "execution_count": 65,
      "outputs": [
        {
          "output_type": "execute_result",
          "data": {
            "text/plain": [
              "9"
            ]
          },
          "metadata": {
            "tags": []
          },
          "execution_count": 65
        }
      ]
    },
    {
      "cell_type": "code",
      "metadata": {
        "colab": {
          "base_uri": "https://localhost:8080/"
        },
        "id": "T_7iKOzaaucA",
        "outputId": "1b0ddbcf-5dbc-4611-a51d-a6433719916e"
      },
      "source": [
        "a(4)"
      ],
      "execution_count": 66,
      "outputs": [
        {
          "output_type": "execute_result",
          "data": {
            "text/plain": [
              "14"
            ]
          },
          "metadata": {
            "tags": []
          },
          "execution_count": 66
        }
      ]
    }
  ]
}