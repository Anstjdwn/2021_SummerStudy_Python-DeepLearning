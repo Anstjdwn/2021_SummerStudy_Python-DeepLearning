{
  "nbformat": 4,
  "nbformat_minor": 0,
  "metadata": {
    "colab": {
      "name": "05-Python-연산.ipynb",
      "provenance": [],
      "authorship_tag": "ABX9TyO3X+H/OEa/siEB7PSwG5jY",
      "include_colab_link": true
    },
    "kernelspec": {
      "name": "python3",
      "display_name": "Python 3"
    },
    "language_info": {
      "name": "python"
    }
  },
  "cells": [
    {
      "cell_type": "markdown",
      "metadata": {
        "id": "view-in-github",
        "colab_type": "text"
      },
      "source": [
        "<a href=\"https://colab.research.google.com/github/june050312/2021_SummerStudy_Python-DeepLearning/blob/main/05_Python_%EC%97%B0%EC%82%B0.ipynb\" target=\"_parent\"><img src=\"https://colab.research.google.com/assets/colab-badge.svg\" alt=\"Open In Colab\"/></a>"
      ]
    },
    {
      "cell_type": "markdown",
      "metadata": {
        "id": "PdvQF4FcjxlB"
      },
      "source": [
        "#연산"
      ]
    },
    {
      "cell_type": "markdown",
      "metadata": {
        "id": "SOiFHauLkThj"
      },
      "source": [
        "Excel에서도 sum이나 +,- 기호로 셀과 셀 단위, 열과 열 단위, 행과 행 단위로 연산이 가능합니다."
      ]
    },
    {
      "cell_type": "markdown",
      "metadata": {
        "id": "l2GAb0XqkcvR"
      },
      "source": [
        "Python에서도 마찬가지로 사칙 연산 외 통계 연산 기능을 기본으로 제조해줍니다.\n",
        "(사용법도 물론 매우 쉽습니다)"
      ]
    },
    {
      "cell_type": "markdown",
      "metadata": {
        "id": "eDzJmonOknEn"
      },
      "source": [
        "##사칙연산(+,-,/,*)"
      ]
    },
    {
      "cell_type": "markdown",
      "metadata": {
        "id": "hCykfopGks9C"
      },
      "source": [
        "- 더하기 (+)\n",
        "- 빼기 (-)\n",
        "- 나누기 (*)\n",
        "- 곱하기 (*)"
      ]
    },
    {
      "cell_type": "code",
      "metadata": {
        "id": "1LP8_tSCk23I"
      },
      "source": [
        "a=10\n",
        "b=3"
      ],
      "execution_count": 1,
      "outputs": []
    },
    {
      "cell_type": "markdown",
      "metadata": {
        "id": "bjHYO5fwk5BC"
      },
      "source": [
        "###+:덧셈"
      ]
    },
    {
      "cell_type": "code",
      "metadata": {
        "colab": {
          "base_uri": "https://localhost:8080/"
        },
        "id": "RjzdEzhhk-ln",
        "outputId": "bdefcfa2-ec90-4dad-b3c2-6e5e0090d87d"
      },
      "source": [
        "a+b"
      ],
      "execution_count": 2,
      "outputs": [
        {
          "output_type": "execute_result",
          "data": {
            "text/plain": [
              "13"
            ]
          },
          "metadata": {},
          "execution_count": 2
        }
      ]
    },
    {
      "cell_type": "code",
      "metadata": {
        "colab": {
          "base_uri": "https://localhost:8080/"
        },
        "id": "0qtykdWJk_-_",
        "outputId": "19937917-adfe-4d46-a0ac-bb61288b05de"
      },
      "source": [
        "10+234"
      ],
      "execution_count": 3,
      "outputs": [
        {
          "output_type": "execute_result",
          "data": {
            "text/plain": [
              "244"
            ]
          },
          "metadata": {},
          "execution_count": 3
        }
      ]
    },
    {
      "cell_type": "markdown",
      "metadata": {
        "id": "Y-PUsNSGlBQx"
      },
      "source": [
        "+=기호는 +(덧셈) 한 뒤 자기 자신의 변수에 재할당합니다."
      ]
    },
    {
      "cell_type": "markdown",
      "metadata": {
        "id": "Ao3uPWR0lHRS"
      },
      "source": [
        "(예시)a+=3은 a=a+3과 같습니다."
      ]
    },
    {
      "cell_type": "code",
      "metadata": {
        "colab": {
          "base_uri": "https://localhost:8080/"
        },
        "id": "IYLaP_celNGR",
        "outputId": "4da15ec9-f9d0-4ae2-97c7-37eda15a3eba"
      },
      "source": [
        "s=10\n",
        "s+=5\n",
        "print(s)"
      ],
      "execution_count": 5,
      "outputs": [
        {
          "output_type": "stream",
          "text": [
            "15\n"
          ],
          "name": "stdout"
        }
      ]
    },
    {
      "cell_type": "markdown",
      "metadata": {
        "id": "0rnQ5TDTlPoo"
      },
      "source": [
        "###-:뺄셈"
      ]
    },
    {
      "cell_type": "code",
      "metadata": {
        "colab": {
          "base_uri": "https://localhost:8080/"
        },
        "id": "Z4crZD7RlvAA",
        "outputId": "1374676e-23da-4aa0-a4e2-9c612359afff"
      },
      "source": [
        "a-b"
      ],
      "execution_count": 6,
      "outputs": [
        {
          "output_type": "execute_result",
          "data": {
            "text/plain": [
              "7"
            ]
          },
          "metadata": {},
          "execution_count": 6
        }
      ]
    },
    {
      "cell_type": "code",
      "metadata": {
        "colab": {
          "base_uri": "https://localhost:8080/"
        },
        "id": "FYyTfulhlwob",
        "outputId": "82e6492e-965e-4b90-cd7b-39292f2a0ccd"
      },
      "source": [
        "10-9"
      ],
      "execution_count": 7,
      "outputs": [
        {
          "output_type": "execute_result",
          "data": {
            "text/plain": [
              "1"
            ]
          },
          "metadata": {},
          "execution_count": 7
        }
      ]
    },
    {
      "cell_type": "code",
      "metadata": {
        "colab": {
          "base_uri": "https://localhost:8080/"
        },
        "id": "gXk4pkFclxpm",
        "outputId": "f0107d85-6f0f-4674-bda8-e8bf2d452e71"
      },
      "source": [
        "s=10\n",
        "s-=3\n",
        "print(s)"
      ],
      "execution_count": 8,
      "outputs": [
        {
          "output_type": "stream",
          "text": [
            "7\n"
          ],
          "name": "stdout"
        }
      ]
    },
    {
      "cell_type": "markdown",
      "metadata": {
        "id": "Tf4n_1Wkl1Hz"
      },
      "source": [
        "###/:나눗셈"
      ]
    },
    {
      "cell_type": "code",
      "metadata": {
        "colab": {
          "base_uri": "https://localhost:8080/"
        },
        "id": "jmDTTfAHl4Xc",
        "outputId": "02d85959-e030-4a83-8fcf-9764348a92fa"
      },
      "source": [
        "a/b"
      ],
      "execution_count": 9,
      "outputs": [
        {
          "output_type": "execute_result",
          "data": {
            "text/plain": [
              "3.3333333333333335"
            ]
          },
          "metadata": {},
          "execution_count": 9
        }
      ]
    },
    {
      "cell_type": "code",
      "metadata": {
        "colab": {
          "base_uri": "https://localhost:8080/"
        },
        "id": "g_LMsznLl6C5",
        "outputId": "19f5a7f5-ce07-4359-d372-785f9c414c30"
      },
      "source": [
        "10.7/7"
      ],
      "execution_count": 10,
      "outputs": [
        {
          "output_type": "execute_result",
          "data": {
            "text/plain": [
              "1.5285714285714285"
            ]
          },
          "metadata": {},
          "execution_count": 10
        }
      ]
    },
    {
      "cell_type": "code",
      "metadata": {
        "colab": {
          "base_uri": "https://localhost:8080/"
        },
        "id": "NY7j4l1il765",
        "outputId": "5ca39ff7-fb8d-4f30-dd6b-eb6eb17b890c"
      },
      "source": [
        "s=10\n",
        "s/=2\n",
        "print(s)"
      ],
      "execution_count": 12,
      "outputs": [
        {
          "output_type": "stream",
          "text": [
            "5.0\n"
          ],
          "name": "stdout"
        }
      ]
    },
    {
      "cell_type": "markdown",
      "metadata": {
        "id": "LuFJYogRl-U3"
      },
      "source": [
        "###*:곱셈"
      ]
    },
    {
      "cell_type": "code",
      "metadata": {
        "colab": {
          "base_uri": "https://localhost:8080/"
        },
        "id": "26pVLujMmCvn",
        "outputId": "b27d00a0-0063-44e5-ffa3-b066119f9b0b"
      },
      "source": [
        "a*b"
      ],
      "execution_count": 13,
      "outputs": [
        {
          "output_type": "execute_result",
          "data": {
            "text/plain": [
              "30"
            ]
          },
          "metadata": {},
          "execution_count": 13
        }
      ]
    },
    {
      "cell_type": "code",
      "metadata": {
        "colab": {
          "base_uri": "https://localhost:8080/"
        },
        "id": "Rc_bEuNJmEFM",
        "outputId": "8c3e0620-b290-4454-ab24-758e95280d1c"
      },
      "source": [
        "a*10"
      ],
      "execution_count": 14,
      "outputs": [
        {
          "output_type": "execute_result",
          "data": {
            "text/plain": [
              "100"
            ]
          },
          "metadata": {},
          "execution_count": 14
        }
      ]
    },
    {
      "cell_type": "code",
      "metadata": {
        "colab": {
          "base_uri": "https://localhost:8080/"
        },
        "id": "cdUEbhvXmFE7",
        "outputId": "6dfad844-07f0-4a89-a7c2-fc1b492d88cf"
      },
      "source": [
        "s=20\n",
        "s*=3\n",
        "print(s)"
      ],
      "execution_count": 15,
      "outputs": [
        {
          "output_type": "stream",
          "text": [
            "60\n"
          ],
          "name": "stdout"
        }
      ]
    },
    {
      "cell_type": "markdown",
      "metadata": {
        "id": "I6JW5SaomIkh"
      },
      "source": [
        "##조금 생소할 수 있는 연산자(%,//,**)"
      ]
    },
    {
      "cell_type": "markdown",
      "metadata": {
        "id": "aUI6BN1dmOBH"
      },
      "source": [
        "- //:floor division 연산자. 나눗셈에 대한 몫을 정수형으로 구함\n",
        "- %:modulus 연산자. 목을 나눈 나머지를 구함\n",
        "- **:제곱 연산"
      ]
    },
    {
      "cell_type": "markdown",
      "metadata": {
        "id": "b161dAwOmcy9"
      },
      "source": [
        "### //:Floor Division"
      ]
    },
    {
      "cell_type": "markdown",
      "metadata": {
        "id": "EkXMFQlAmfs_"
      },
      "source": [
        "- 나눗셈에 대한 몫을 정수형으로 구함"
      ]
    },
    {
      "cell_type": "code",
      "metadata": {
        "id": "2vdffwTKmi8S"
      },
      "source": [
        "a=10\n",
        "b=3"
      ],
      "execution_count": 16,
      "outputs": []
    },
    {
      "cell_type": "markdown",
      "metadata": {
        "id": "IMHRQ0Oamkvs"
      },
      "source": [
        "일반 나눗셈 연산 결과"
      ]
    },
    {
      "cell_type": "code",
      "metadata": {
        "colab": {
          "base_uri": "https://localhost:8080/"
        },
        "id": "mmMNgHsLmnIV",
        "outputId": "91490d87-0f77-4fd5-c5a8-6386878922b4"
      },
      "source": [
        "a/b"
      ],
      "execution_count": 17,
      "outputs": [
        {
          "output_type": "execute_result",
          "data": {
            "text/plain": [
              "3.3333333333333335"
            ]
          },
          "metadata": {},
          "execution_count": 17
        }
      ]
    },
    {
      "cell_type": "markdown",
      "metadata": {
        "id": "32kVA4CbmpDg"
      },
      "source": [
        "//연산결과"
      ]
    },
    {
      "cell_type": "code",
      "metadata": {
        "colab": {
          "base_uri": "https://localhost:8080/"
        },
        "id": "0JqyH_dHmqij",
        "outputId": "c87fb797-57aa-4b9e-f7e9-13930b043416"
      },
      "source": [
        "a//b"
      ],
      "execution_count": 18,
      "outputs": [
        {
          "output_type": "execute_result",
          "data": {
            "text/plain": [
              "3"
            ]
          },
          "metadata": {},
          "execution_count": 18
        }
      ]
    },
    {
      "cell_type": "markdown",
      "metadata": {
        "id": "sLDyNkC1msTL"
      },
      "source": [
        "###%:modulus"
      ]
    },
    {
      "cell_type": "markdown",
      "metadata": {
        "id": "tV1XGpx_mwVB"
      },
      "source": [
        "- 몫을 나눈 나머지를 구함"
      ]
    },
    {
      "cell_type": "code",
      "metadata": {
        "id": "TCSB-MgGm3wv"
      },
      "source": [
        "a=10\n",
        "b=3"
      ],
      "execution_count": 19,
      "outputs": []
    },
    {
      "cell_type": "code",
      "metadata": {
        "colab": {
          "base_uri": "https://localhost:8080/"
        },
        "id": "7Cc4ObgSm48B",
        "outputId": "fd218b45-855b-4a82-f0f1-2d661e390a0a"
      },
      "source": [
        "a%b"
      ],
      "execution_count": 20,
      "outputs": [
        {
          "output_type": "execute_result",
          "data": {
            "text/plain": [
              "1"
            ]
          },
          "metadata": {},
          "execution_count": 20
        }
      ]
    },
    {
      "cell_type": "markdown",
      "metadata": {
        "id": "SyLtvIVUm6IP"
      },
      "source": [
        "###**:제곱연산"
      ]
    },
    {
      "cell_type": "markdown",
      "metadata": {
        "id": "GSL8i8BboM0e"
      },
      "source": [
        "- 제곱 연산 수행"
      ]
    },
    {
      "cell_type": "code",
      "metadata": {
        "id": "8B2e-1d-oP5x"
      },
      "source": [
        "a=10\n",
        "b=3"
      ],
      "execution_count": 21,
      "outputs": []
    },
    {
      "cell_type": "code",
      "metadata": {
        "colab": {
          "base_uri": "https://localhost:8080/"
        },
        "id": "95luEaJ2oRMv",
        "outputId": "2aaeb0ce-8e81-4a57-bb0f-32225ba0ebd5"
      },
      "source": [
        "a**b"
      ],
      "execution_count": 22,
      "outputs": [
        {
          "output_type": "execute_result",
          "data": {
            "text/plain": [
              "1000"
            ]
          },
          "metadata": {},
          "execution_count": 22
        }
      ]
    },
    {
      "cell_type": "code",
      "metadata": {
        "id": "g8BMjhTMoR-o",
        "colab": {
          "base_uri": "https://localhost:8080/"
        },
        "outputId": "99588db4-e647-40b4-d8d5-446343a70399"
      },
      "source": [
        "2**10"
      ],
      "execution_count": 23,
      "outputs": [
        {
          "output_type": "execute_result",
          "data": {
            "text/plain": [
              "1024"
            ]
          },
          "metadata": {},
          "execution_count": 23
        }
      ]
    },
    {
      "cell_type": "markdown",
      "metadata": {
        "id": "uHJAHtrioUWW"
      },
      "source": [
        "###괄호 ()의 활용"
      ]
    },
    {
      "cell_type": "markdown",
      "metadata": {
        "id": "Q0VWIR-NoYLx"
      },
      "source": [
        "- 수학 연산할 때와 마찬기지로 *,/ 를 먼저 계산, 괄호()를 사용하여 우선순위 지정 가능"
      ]
    },
    {
      "cell_type": "code",
      "metadata": {
        "colab": {
          "base_uri": "https://localhost:8080/"
        },
        "id": "1x7eoRDFohAF",
        "outputId": "07a0fb6f-76bd-43f9-8c6b-d024d4500fee"
      },
      "source": [
        "10+2*5"
      ],
      "execution_count": 24,
      "outputs": [
        {
          "output_type": "execute_result",
          "data": {
            "text/plain": [
              "20"
            ]
          },
          "metadata": {},
          "execution_count": 24
        }
      ]
    },
    {
      "cell_type": "code",
      "metadata": {
        "id": "kbUriRZ9ojiF",
        "colab": {
          "base_uri": "https://localhost:8080/"
        },
        "outputId": "220200c5-8b24-4a49-ccef-aed3b1403b19"
      },
      "source": [
        "(10+2)*5"
      ],
      "execution_count": 25,
      "outputs": [
        {
          "output_type": "execute_result",
          "data": {
            "text/plain": [
              "60"
            ]
          },
          "metadata": {},
          "execution_count": 25
        }
      ]
    },
    {
      "cell_type": "markdown",
      "metadata": {
        "id": "SfiFo5WiomiT"
      },
      "source": [
        "문자열로 선언한 경우"
      ]
    },
    {
      "cell_type": "code",
      "metadata": {
        "id": "_YGy7Gt-o_ek"
      },
      "source": [
        "a='10'\n",
        "b='20'"
      ],
      "execution_count": 26,
      "outputs": []
    },
    {
      "cell_type": "code",
      "metadata": {
        "colab": {
          "base_uri": "https://localhost:8080/",
          "height": 34
        },
        "id": "o_r3laCqpB38",
        "outputId": "6f1d0b3e-a0d0-4cc0-8319-d29be0e0b9ab"
      },
      "source": [
        "a+b"
      ],
      "execution_count": 27,
      "outputs": [
        {
          "output_type": "execute_result",
          "data": {
            "application/vnd.google.colaboratory.intrinsic+json": {
              "type": "string"
            },
            "text/plain": [
              "'1020'"
            ]
          },
          "metadata": {},
          "execution_count": 27
        }
      ]
    },
    {
      "cell_type": "markdown",
      "metadata": {
        "id": "T-XqbFQJpCVS"
      },
      "source": [
        "연산시 타입(type)이 다르면 에러 발생"
      ]
    },
    {
      "cell_type": "code",
      "metadata": {
        "id": "Zw2eQu6YpUeL"
      },
      "source": [
        "a='10'\n",
        "b=20"
      ],
      "execution_count": 28,
      "outputs": []
    },
    {
      "cell_type": "code",
      "metadata": {
        "colab": {
          "base_uri": "https://localhost:8080/",
          "height": 170
        },
        "id": "HsfIbrnupWbE",
        "outputId": "e9e3c049-33c7-4dcb-e5c8-13d8a783729e"
      },
      "source": [
        "a+b"
      ],
      "execution_count": 29,
      "outputs": [
        {
          "output_type": "error",
          "ename": "TypeError",
          "evalue": "ignored",
          "traceback": [
            "\u001b[0;31m---------------------------------------------------------------------------\u001b[0m",
            "\u001b[0;31mTypeError\u001b[0m                                 Traceback (most recent call last)",
            "\u001b[0;32m<ipython-input-29-ca730b97bf8a>\u001b[0m in \u001b[0;36m<module>\u001b[0;34m()\u001b[0m\n\u001b[0;32m----> 1\u001b[0;31m \u001b[0ma\u001b[0m\u001b[0;34m+\u001b[0m\u001b[0mb\u001b[0m\u001b[0;34m\u001b[0m\u001b[0;34m\u001b[0m\u001b[0m\n\u001b[0m",
            "\u001b[0;31mTypeError\u001b[0m: can only concatenate str (not \"int\") to str"
          ]
        }
      ]
    }
  ]
}
