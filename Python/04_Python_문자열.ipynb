{
  "nbformat": 4,
  "nbformat_minor": 0,
  "metadata": {
    "colab": {
      "name": "04-Python-문자열.ipynb",
      "provenance": [],
      "authorship_tag": "ABX9TyOVcy/rnGm/vHD2/NllbY0k",
      "include_colab_link": true
    },
    "kernelspec": {
      "name": "python3",
      "display_name": "Python 3"
    },
    "language_info": {
      "name": "python"
    }
  },
  "cells": [
    {
      "cell_type": "markdown",
      "metadata": {
        "id": "view-in-github",
        "colab_type": "text"
      },
      "source": [
        "<a href=\"https://colab.research.google.com/github/june050312/2021_SummerStudy_Python-DeepLearning/blob/main/04_Python_%EB%AC%B8%EC%9E%90%EC%97%B4.ipynb\" target=\"_parent\"><img src=\"https://colab.research.google.com/assets/colab-badge.svg\" alt=\"Open In Colab\"/></a>"
      ]
    },
    {
      "cell_type": "markdown",
      "metadata": {
        "id": "A7yBOEE7w-c-"
      },
      "source": [
        "#문자열"
      ]
    },
    {
      "cell_type": "markdown",
      "metadata": {
        "id": "-c0KUMOpxBpR"
      },
      "source": [
        "데이터 분석에 있어서 문자열(텍스트) 데이터의 중요성"
      ]
    },
    {
      "cell_type": "markdown",
      "metadata": {
        "id": "BDmYcPj0xDCe"
      },
      "source": [
        "- 자연어처리 데이터는 대부분이 텍스트 데이터로 이루어져 있습니다.\n",
        "- 우리가 흔히 접하는 Excel 혹은 Table 데이터안에도 수많은 텍스트 데이터가 존재합니다.\n",
        "- 게다가 우리나라는 영어와 더불어 한글까지 추가로 처리 할 수 있어야 합니다!!"
      ]
    },
    {
      "cell_type": "markdown",
      "metadata": {
        "id": "hQFufpHVxIJL"
      },
      "source": [
        "##특성"
      ]
    },
    {
      "cell_type": "markdown",
      "metadata": {
        "id": "m9pbpWR0xKGf"
      },
      "source": [
        "- 문자열 역시 리스트(list), 튜플(tuple)과 마찬가지로 sequence 형 자료구조를 가집니다.\n",
        "- 문자열은 불변(immutable) 객체입니다."
      ]
    },
    {
      "cell_type": "markdown",
      "metadata": {
        "id": "84LS4KryxNnL"
      },
      "source": [
        "##문자열의 생성"
      ]
    },
    {
      "cell_type": "markdown",
      "metadata": {
        "id": "3QSTl0ZuxP7j"
      },
      "source": [
        "파이썬의 문자열은 작은 따옴표(') 나 큰 따옴표(\") 모두 구분없이 사용하여 문자열을 생성할 수 있습니다."
      ]
    },
    {
      "cell_type": "markdown",
      "metadata": {
        "id": "Mh3RtWEExRnd"
      },
      "source": [
        "작은 따옴표(') 사용"
      ]
    },
    {
      "cell_type": "code",
      "metadata": {
        "colab": {
          "base_uri": "https://localhost:8080/",
          "height": 34
        },
        "id": "RjK8UteExUpr",
        "outputId": "1798e383-252f-483e-cd69-695eb71822c5"
      },
      "source": [
        "'안녕하세요? 반갑습니다.'"
      ],
      "execution_count": 1,
      "outputs": [
        {
          "output_type": "execute_result",
          "data": {
            "application/vnd.google.colaboratory.intrinsic+json": {
              "type": "string"
            },
            "text/plain": [
              "'안녕하세요? 반갑습니다.'"
            ]
          },
          "metadata": {
            "tags": []
          },
          "execution_count": 1
        }
      ]
    },
    {
      "cell_type": "markdown",
      "metadata": {
        "id": "huIg5KZZxWFH"
      },
      "source": [
        "큰 따옴표(\") 사용"
      ]
    },
    {
      "cell_type": "code",
      "metadata": {
        "colab": {
          "base_uri": "https://localhost:8080/",
          "height": 34
        },
        "id": "DwCl0EfUxX10",
        "outputId": "0c3c1f9c-0ce6-4640-efb1-8f420bf9b17e"
      },
      "source": [
        "\"안녕하세요? 반갑습니다.\""
      ],
      "execution_count": 3,
      "outputs": [
        {
          "output_type": "execute_result",
          "data": {
            "application/vnd.google.colaboratory.intrinsic+json": {
              "type": "string"
            },
            "text/plain": [
              "'안녕하세요? 반갑습니다.'"
            ]
          },
          "metadata": {
            "tags": []
          },
          "execution_count": 3
        }
      ]
    },
    {
      "cell_type": "markdown",
      "metadata": {
        "id": "mbA6II6MxaE1"
      },
      "source": [
        "작은 따옴표 3개 혹은 큰 따옴표 3개를 써서 여러 줄의 문자열을 생성할 수 있습니다."
      ]
    },
    {
      "cell_type": "code",
      "metadata": {
        "colab": {
          "base_uri": "https://localhost:8080/"
        },
        "id": "_gwuhTUAxcEp",
        "outputId": "8e07d14d-5cde-4bc5-a14d-2d95a200aa21"
      },
      "source": [
        "sample = '''안녕하세요? \n",
        "반가워요\n",
        "내이름은 \n",
        "파이썬 입니다.'''\n",
        "\n",
        "print(sample)"
      ],
      "execution_count": 4,
      "outputs": [
        {
          "output_type": "stream",
          "text": [
            "안녕하세요? \n",
            "반가워요\n",
            "내이름은 \n",
            "파이썬 입니다.\n"
          ],
          "name": "stdout"
        }
      ]
    },
    {
      "cell_type": "code",
      "metadata": {
        "colab": {
          "base_uri": "https://localhost:8080/"
        },
        "id": "EG-FRVvtxf9F",
        "outputId": "61114e7c-8188-47bb-f3c5-c11b2bac85f5"
      },
      "source": [
        "sample = \"\"\"안녕하세요? \n",
        "반가워요\n",
        "내이름은 \n",
        "파이썬 입니다.\n",
        "\n",
        "웰컴!\n",
        "\"\"\"\n",
        "\n",
        "print(sample)"
      ],
      "execution_count": 5,
      "outputs": [
        {
          "output_type": "stream",
          "text": [
            "안녕하세요? \n",
            "반가워요\n",
            "내이름은 \n",
            "파이썬 입니다.\n",
            "\n",
            "웰컴!\n",
            "\n"
          ],
          "name": "stdout"
        }
      ]
    },
    {
      "cell_type": "markdown",
      "metadata": {
        "id": "n2YEjlG0xhmK"
      },
      "source": [
        "##문자열 출력 (포맷팅)"
      ]
    },
    {
      "cell_type": "markdown",
      "metadata": {
        "id": "rddFc_ZbxkR6"
      },
      "source": [
        "###print() : 출력"
      ]
    },
    {
      "cell_type": "code",
      "metadata": {
        "colab": {
          "base_uri": "https://localhost:8080/"
        },
        "id": "sFqyElqpxqRX",
        "outputId": "b73870db-161f-4001-eb45-3f066f8e1110"
      },
      "source": [
        "print('헬로우 파이썬')"
      ],
      "execution_count": 7,
      "outputs": [
        {
          "output_type": "stream",
          "text": [
            "헬로우 파이썬\n"
          ],
          "name": "stdout"
        }
      ]
    },
    {
      "cell_type": "code",
      "metadata": {
        "colab": {
          "base_uri": "https://localhost:8080/"
        },
        "id": "ouITrBnRxrfu",
        "outputId": "6759d0cd-55a4-4216-da08-9c7609b6b4e4"
      },
      "source": [
        "print('문자열 첫째', '그리고, 둘째')"
      ],
      "execution_count": 8,
      "outputs": [
        {
          "output_type": "stream",
          "text": [
            "문자열 첫째 그리고, 둘째\n"
          ],
          "name": "stdout"
        }
      ]
    },
    {
      "cell_type": "markdown",
      "metadata": {
        "id": "83Z11Sq0xs0M"
      },
      "source": [
        "end 옵션으로 출력될 마지막 글자를 변경할 수 있습니다. (기본값: \\n)"
      ]
    },
    {
      "cell_type": "markdown",
      "metadata": {
        "id": "eq0Birgcxum9"
      },
      "source": [
        "- [참고] : \\n 은 개행을 의미하는 특수 문자입니다."
      ]
    },
    {
      "cell_type": "code",
      "metadata": {
        "colab": {
          "base_uri": "https://localhost:8080/"
        },
        "id": "RJvm3syZxydb",
        "outputId": "ce2b0c79-32f4-4e74-c1dc-3517ffb4ab6d"
      },
      "source": [
        "print('여기까지!', end='end출력!')"
      ],
      "execution_count": 9,
      "outputs": [
        {
          "output_type": "stream",
          "text": [
            "여기까지!end출력!"
          ],
          "name": "stdout"
        }
      ]
    },
    {
      "cell_type": "markdown",
      "metadata": {
        "id": "I-J7k72Rx0HY"
      },
      "source": [
        "sep 옵션으로 출력될 문자열 사이에 출력될 글자를 변경할 수 있습니다. (기본값: 공백)"
      ]
    },
    {
      "cell_type": "code",
      "metadata": {
        "colab": {
          "base_uri": "https://localhost:8080/"
        },
        "id": "8LSFiEVix1wD",
        "outputId": "643aafd9-47eb-498a-87a4-5523b161c9fe"
      },
      "source": [
        "print('문자1', '문자1', '문자3', sep=' <구분> ')"
      ],
      "execution_count": 10,
      "outputs": [
        {
          "output_type": "stream",
          "text": [
            "문자1 <구분> 문자1 <구분> 문자3\n"
          ],
          "name": "stdout"
        }
      ]
    },
    {
      "cell_type": "markdown",
      "metadata": {
        "id": "4AwMZUqvx3Eu"
      },
      "source": [
        "###%를 사용한 출력"
      ]
    },
    {
      "cell_type": "code",
      "metadata": {
        "colab": {
          "base_uri": "https://localhost:8080/",
          "height": 34
        },
        "id": "hkgowrHYx6t_",
        "outputId": "c255ac97-9332-49e9-ca3d-e6ed95f685b1"
      },
      "source": [
        "\"안녕하세요? %s\" % ('반갑습니다.')"
      ],
      "execution_count": 11,
      "outputs": [
        {
          "output_type": "execute_result",
          "data": {
            "application/vnd.google.colaboratory.intrinsic+json": {
              "type": "string"
            },
            "text/plain": [
              "'안녕하세요? 반갑습니다.'"
            ]
          },
          "metadata": {
            "tags": []
          },
          "execution_count": 11
        }
      ]
    },
    {
      "cell_type": "code",
      "metadata": {
        "colab": {
          "base_uri": "https://localhost:8080/",
          "height": 34
        },
        "id": "pCev03-Wx77N",
        "outputId": "231af54e-c8ca-419d-f6ce-2d29dc206673"
      },
      "source": [
        "'안녕하세요? %.3f' % (0.123456)"
      ],
      "execution_count": 12,
      "outputs": [
        {
          "output_type": "execute_result",
          "data": {
            "application/vnd.google.colaboratory.intrinsic+json": {
              "type": "string"
            },
            "text/plain": [
              "'안녕하세요? 0.123'"
            ]
          },
          "metadata": {
            "tags": []
          },
          "execution_count": 12
        }
      ]
    },
    {
      "cell_type": "code",
      "metadata": {
        "colab": {
          "base_uri": "https://localhost:8080/",
          "height": 34
        },
        "id": "vAewtOrix9gK",
        "outputId": "7144550c-9172-4b3c-8377-fa7197af05dc"
      },
      "source": [
        "'안녕하세요? %d' % (12345)"
      ],
      "execution_count": 13,
      "outputs": [
        {
          "output_type": "execute_result",
          "data": {
            "application/vnd.google.colaboratory.intrinsic+json": {
              "type": "string"
            },
            "text/plain": [
              "'안녕하세요? 12345'"
            ]
          },
          "metadata": {
            "tags": []
          },
          "execution_count": 13
        }
      ]
    },
    {
      "cell_type": "code",
      "metadata": {
        "colab": {
          "base_uri": "https://localhost:8080/",
          "height": 34
        },
        "id": "wF3wOn4Hx_Ap",
        "outputId": "bc50f93a-2446-44db-e341-3bb2607f4c97"
      },
      "source": [
        "'안녕하세요? %c' % ('a')"
      ],
      "execution_count": 14,
      "outputs": [
        {
          "output_type": "execute_result",
          "data": {
            "application/vnd.google.colaboratory.intrinsic+json": {
              "type": "string"
            },
            "text/plain": [
              "'안녕하세요? a'"
            ]
          },
          "metadata": {
            "tags": []
          },
          "execution_count": 14
        }
      ]
    },
    {
      "cell_type": "markdown",
      "metadata": {
        "id": "Jpnt_FspyAPJ"
      },
      "source": [
        "###{} 와 format를 사용한 출력"
      ]
    },
    {
      "cell_type": "code",
      "metadata": {
        "colab": {
          "base_uri": "https://localhost:8080/",
          "height": 34
        },
        "id": "gjZrAsJkyBvw",
        "outputId": "96af7a0c-bc58-480d-913e-6077f89495e3"
      },
      "source": [
        "'웰컴투? {}'.format('파이썬.')"
      ],
      "execution_count": 16,
      "outputs": [
        {
          "output_type": "execute_result",
          "data": {
            "application/vnd.google.colaboratory.intrinsic+json": {
              "type": "string"
            },
            "text/plain": [
              "'웰컴투? 파이썬.'"
            ]
          },
          "metadata": {
            "tags": []
          },
          "execution_count": 16
        }
      ]
    },
    {
      "cell_type": "code",
      "metadata": {
        "colab": {
          "base_uri": "https://localhost:8080/",
          "height": 34
        },
        "id": "uG03PBzsyHVj",
        "outputId": "1f237b83-c36c-428b-faf3-5cad7266e18c"
      },
      "source": [
        "'비밀번호 {}'.format(486)"
      ],
      "execution_count": 17,
      "outputs": [
        {
          "output_type": "execute_result",
          "data": {
            "application/vnd.google.colaboratory.intrinsic+json": {
              "type": "string"
            },
            "text/plain": [
              "'비밀번호 486'"
            ]
          },
          "metadata": {
            "tags": []
          },
          "execution_count": 17
        }
      ]
    },
    {
      "cell_type": "markdown",
      "metadata": {
        "id": "X432CljVyIX7"
      },
      "source": [
        "소수점 2자리 까지 제한하는 경우 (그 이하자리는 반올림)"
      ]
    },
    {
      "cell_type": "code",
      "metadata": {
        "colab": {
          "base_uri": "https://localhost:8080/",
          "height": 34
        },
        "id": "6SoJCX9EyJ5z",
        "outputId": "eef48842-4989-4531-fa97-bcf08cbf7e95"
      },
      "source": [
        "\n",
        "'원주율? {:.2f}'.format(3.141592)"
      ],
      "execution_count": 18,
      "outputs": [
        {
          "output_type": "execute_result",
          "data": {
            "application/vnd.google.colaboratory.intrinsic+json": {
              "type": "string"
            },
            "text/plain": [
              "'원주율? 3.14'"
            ]
          },
          "metadata": {
            "tags": []
          },
          "execution_count": 18
        }
      ]
    },
    {
      "cell_type": "markdown",
      "metadata": {
        "id": "oBJ868XqyL4p"
      },
      "source": [
        "###f 문자열 포맷팅 (python 3.6 이상만 지원)"
      ]
    },
    {
      "cell_type": "code",
      "metadata": {
        "colab": {
          "base_uri": "https://localhost:8080/"
        },
        "id": "2p-n2Wn0yPRy",
        "outputId": "1de4843d-d1ee-49d2-8b5c-8c5577285a2b"
      },
      "source": [
        "name = '펭수'\n",
        "age = 10\n",
        "print(f'나의 이름은 {name}입니다. 나이는 {age} 살입니다.')"
      ],
      "execution_count": 19,
      "outputs": [
        {
          "output_type": "stream",
          "text": [
            "나의 이름은 펭수입니다. 나이는 10 살입니다.\n"
          ],
          "name": "stdout"
        }
      ]
    },
    {
      "cell_type": "code",
      "metadata": {
        "colab": {
          "base_uri": "https://localhost:8080/"
        },
        "id": "9R-eVJWyyQhT",
        "outputId": "70f7529a-3a96-4edd-ffa5-dc6b651abfc7"
      },
      "source": [
        "print(f'내년에 저는 {age+1} 살입니다.')"
      ],
      "execution_count": 20,
      "outputs": [
        {
          "output_type": "stream",
          "text": [
            "내년에 저는 11 살입니다.\n"
          ],
          "name": "stdout"
        }
      ]
    },
    {
      "cell_type": "code",
      "metadata": {
        "id": "jqz4h5G6yRo8"
      },
      "source": [
        "d = {'name':'펭수', 'age':10}"
      ],
      "execution_count": 21,
      "outputs": []
    },
    {
      "cell_type": "code",
      "metadata": {
        "colab": {
          "base_uri": "https://localhost:8080/"
        },
        "id": "0YLR01JOyS7S",
        "outputId": "fb69684f-094c-4036-a8c8-620d6b1bdd75"
      },
      "source": [
        "print(f\"반가워요. 저는 {d['name']}입니다. 저의 나이는 {d['age']} 살입니다.\")"
      ],
      "execution_count": 22,
      "outputs": [
        {
          "output_type": "stream",
          "text": [
            "반가워요. 저는 펭수입니다. 저의 나이는 10 살입니다.\n"
          ],
          "name": "stdout"
        }
      ]
    },
    {
      "cell_type": "markdown",
      "metadata": {
        "id": "JnvSqwo-yUV6"
      },
      "source": [
        "##문자열 길이"
      ]
    },
    {
      "cell_type": "markdown",
      "metadata": {
        "id": "HmheDOQYyZmQ"
      },
      "source": [
        "###영문 (alphabet)"
      ]
    },
    {
      "cell_type": "code",
      "metadata": {
        "colab": {
          "base_uri": "https://localhost:8080/"
        },
        "id": "1k8sdW6Gycxv",
        "outputId": "b9b545ee-0062-473f-bcdd-77f553fe5b5d"
      },
      "source": [
        "\n",
        "len('banana')"
      ],
      "execution_count": 23,
      "outputs": [
        {
          "output_type": "execute_result",
          "data": {
            "text/plain": [
              "6"
            ]
          },
          "metadata": {
            "tags": []
          },
          "execution_count": 23
        }
      ]
    },
    {
      "cell_type": "code",
      "metadata": {
        "colab": {
          "base_uri": "https://localhost:8080/"
        },
        "id": "TKkoB5U7ydyF",
        "outputId": "1be7bb27-1172-46c1-de42-6e500d2fcc79"
      },
      "source": [
        "len('banana pen')"
      ],
      "execution_count": 24,
      "outputs": [
        {
          "output_type": "execute_result",
          "data": {
            "text/plain": [
              "10"
            ]
          },
          "metadata": {
            "tags": []
          },
          "execution_count": 24
        }
      ]
    },
    {
      "cell_type": "markdown",
      "metadata": {
        "id": "vdR4dsFrye_E"
      },
      "source": [
        "###한글"
      ]
    },
    {
      "cell_type": "code",
      "metadata": {
        "colab": {
          "base_uri": "https://localhost:8080/"
        },
        "id": "y_Z3jwpCyhB8",
        "outputId": "ec93f8a1-dbcb-44fb-fb62-4794d21b27cd"
      },
      "source": [
        "len('한글')"
      ],
      "execution_count": 25,
      "outputs": [
        {
          "output_type": "execute_result",
          "data": {
            "text/plain": [
              "2"
            ]
          },
          "metadata": {
            "tags": []
          },
          "execution_count": 25
        }
      ]
    },
    {
      "cell_type": "markdown",
      "metadata": {
        "id": "YvQk2UYbyiRH"
      },
      "source": [
        "공백은 길이에 포함됩니다."
      ]
    },
    {
      "cell_type": "code",
      "metadata": {
        "colab": {
          "base_uri": "https://localhost:8080/"
        },
        "id": "2zzGTCdLyjpN",
        "outputId": "551ac6cd-0293-4617-d89d-d1c4c4b99de7"
      },
      "source": [
        "len('한글 킹왕짱')"
      ],
      "execution_count": 26,
      "outputs": [
        {
          "output_type": "execute_result",
          "data": {
            "text/plain": [
              "6"
            ]
          },
          "metadata": {
            "tags": []
          },
          "execution_count": 26
        }
      ]
    },
    {
      "cell_type": "markdown",
      "metadata": {
        "id": "K1AcY4OCykuZ"
      },
      "source": [
        "##인덱싱 (indexing)"
      ]
    },
    {
      "cell_type": "markdown",
      "metadata": {
        "id": "4XVjc2EmyqSm"
      },
      "source": [
        "- 문자열에서 한 개의 글자(char)를 조회하기 위해서는 []를 활용한 인덱싱으로 조회할 수 있습니다."
      ]
    },
    {
      "cell_type": "code",
      "metadata": {
        "colab": {
          "base_uri": "https://localhost:8080/",
          "height": 34
        },
        "id": "3vsRzuigys9Z",
        "outputId": "cf8302c4-8211-4f12-9fe3-75e7d07f12ef"
      },
      "source": [
        "a = 'Python is my life'\n",
        "a"
      ],
      "execution_count": 30,
      "outputs": [
        {
          "output_type": "execute_result",
          "data": {
            "application/vnd.google.colaboratory.intrinsic+json": {
              "type": "string"
            },
            "text/plain": [
              "'Python is my life'"
            ]
          },
          "metadata": {
            "tags": []
          },
          "execution_count": 30
        }
      ]
    },
    {
      "cell_type": "markdown",
      "metadata": {
        "id": "dKey_1JDy0QU"
      },
      "source": [
        "|P|y|t|h|o|n| |i|s| |m|y| |l|i|f|e|\n",
        "|-|-|-|-|-|-|-|-|-|-|-|-|-|-|-|-|-|\n",
        "|0|1|2|3|4|5|6|7|8|9|10|11|12|13|14|15|16|\n",
        "|-17|-16|-15|-14|-13|-12|-11|-10|-9|-8|-7|-6|-5|-4|-3|-2|-1|"
      ]
    },
    {
      "cell_type": "code",
      "metadata": {
        "colab": {
          "base_uri": "https://localhost:8080/",
          "height": 34
        },
        "id": "IdZ5aWTJyuCr",
        "outputId": "3b794e49-fff8-4721-dde3-b2dea053d1b4"
      },
      "source": [
        "a[0]"
      ],
      "execution_count": 29,
      "outputs": [
        {
          "output_type": "execute_result",
          "data": {
            "application/vnd.google.colaboratory.intrinsic+json": {
              "type": "string"
            },
            "text/plain": [
              "'P'"
            ]
          },
          "metadata": {
            "tags": []
          },
          "execution_count": 29
        }
      ]
    },
    {
      "cell_type": "code",
      "metadata": {
        "colab": {
          "base_uri": "https://localhost:8080/",
          "height": 34
        },
        "id": "LTfezwHQyvWS",
        "outputId": "23484ac9-912d-4a75-9dca-271bd9694dbb"
      },
      "source": [
        "a[-2]"
      ],
      "execution_count": 32,
      "outputs": [
        {
          "output_type": "execute_result",
          "data": {
            "application/vnd.google.colaboratory.intrinsic+json": {
              "type": "string"
            },
            "text/plain": [
              "'f'"
            ]
          },
          "metadata": {
            "tags": []
          },
          "execution_count": 32
        }
      ]
    },
    {
      "cell_type": "markdown",
      "metadata": {
        "id": "6pVX6SIaz8Ka"
      },
      "source": [
        "##슬라이싱 (Slicing)"
      ]
    },
    {
      "cell_type": "markdown",
      "metadata": {
        "id": "hkzYo4h9z_lV"
      },
      "source": [
        "- 슬라이싱의 활용: [start:stop:step] 을 명시하여 부분을 추출할 수 있습니다."
      ]
    },
    {
      "cell_type": "code",
      "metadata": {
        "colab": {
          "base_uri": "https://localhost:8080/",
          "height": 34
        },
        "id": "T0s59gjf0EXo",
        "outputId": "4e9542b2-1daf-494d-b549-58b91a343c50"
      },
      "source": [
        "a = 'Python is my life'\n",
        "a"
      ],
      "execution_count": 33,
      "outputs": [
        {
          "output_type": "execute_result",
          "data": {
            "application/vnd.google.colaboratory.intrinsic+json": {
              "type": "string"
            },
            "text/plain": [
              "'Python is my life'"
            ]
          },
          "metadata": {
            "tags": []
          },
          "execution_count": 33
        }
      ]
    },
    {
      "cell_type": "markdown",
      "metadata": {
        "id": "WE0MoB0Mz1ja"
      },
      "source": [
        "|P|y|t|h|o|n| |i|s| |m|y| |l|i|f|e|\n",
        "|-|-|-|-|-|-|-|-|-|-|-|-|-|-|-|-|-|\n",
        "|0|1|2|3|4|5|6|7|8|9|10|11|12|13|14|15|16|\n",
        "|-17|-16|-15|-14|-13|-12|-11|-10|-9|-8|-7|-6|-5|-4|-3|-2|-1|"
      ]
    },
    {
      "cell_type": "markdown",
      "metadata": {
        "id": "pFr7sz6gz4OU"
      },
      "source": [
        "[:]을 활용하여 전체를 추출할 수 있습니다."
      ]
    },
    {
      "cell_type": "code",
      "metadata": {
        "colab": {
          "base_uri": "https://localhost:8080/",
          "height": 34
        },
        "id": "HEHYeHGd0G6v",
        "outputId": "adb8c333-5a3e-4f02-9409-a511ecf97874"
      },
      "source": [
        "a[:]"
      ],
      "execution_count": 34,
      "outputs": [
        {
          "output_type": "execute_result",
          "data": {
            "application/vnd.google.colaboratory.intrinsic+json": {
              "type": "string"
            },
            "text/plain": [
              "'Python is my life'"
            ]
          },
          "metadata": {
            "tags": []
          },
          "execution_count": 34
        }
      ]
    },
    {
      "cell_type": "markdown",
      "metadata": {
        "id": "chm2Pq2f0IsI"
      },
      "source": [
        "[start:]는 시작 index 부터 끝까지 추출합니다."
      ]
    },
    {
      "cell_type": "code",
      "metadata": {
        "colab": {
          "base_uri": "https://localhost:8080/",
          "height": 34
        },
        "id": "gTi9W8-50LC8",
        "outputId": "4ec68bad-f039-4ba2-91e2-8fb444434e5d"
      },
      "source": [
        "a[3:]"
      ],
      "execution_count": 36,
      "outputs": [
        {
          "output_type": "execute_result",
          "data": {
            "application/vnd.google.colaboratory.intrinsic+json": {
              "type": "string"
            },
            "text/plain": [
              "'hon is my life'"
            ]
          },
          "metadata": {
            "tags": []
          },
          "execution_count": 36
        }
      ]
    },
    {
      "cell_type": "code",
      "metadata": {
        "colab": {
          "base_uri": "https://localhost:8080/",
          "height": 34
        },
        "id": "xcjnlwW50NzR",
        "outputId": "5418cdca-20a5-4831-cf5f-6225080b839a"
      },
      "source": [
        "a[-4:]"
      ],
      "execution_count": 38,
      "outputs": [
        {
          "output_type": "execute_result",
          "data": {
            "application/vnd.google.colaboratory.intrinsic+json": {
              "type": "string"
            },
            "text/plain": [
              "'life'"
            ]
          },
          "metadata": {
            "tags": []
          },
          "execution_count": 38
        }
      ]
    },
    {
      "cell_type": "markdown",
      "metadata": {
        "id": "45CqQqgt0Pyu"
      },
      "source": [
        "|P|y|t|h|o|n| |i|s| |m|y| |l|i|f|e|\n",
        "|-|-|-|-|-|-|-|-|-|-|-|-|-|-|-|-|-|\n",
        "|0|1|2|3|4|5|6|7|8|9|10|11|12|13|14|15|16|\n",
        "|-17|-16|-15|-14|-13|-12|-11|-10|-9|-8|-7|-6|-5|-4|-3|-2|-1|"
      ]
    },
    {
      "cell_type": "markdown",
      "metadata": {
        "id": "hbfT0Mmz0VHB"
      },
      "source": [
        "[:end]는 처음부터 end 전까지 추출합니다."
      ]
    },
    {
      "cell_type": "code",
      "metadata": {
        "colab": {
          "base_uri": "https://localhost:8080/",
          "height": 34
        },
        "id": "sfRJDxX60XPp",
        "outputId": "56e242b5-98f1-4023-dab6-da69a2fcba1d"
      },
      "source": [
        "a[:6]"
      ],
      "execution_count": 39,
      "outputs": [
        {
          "output_type": "execute_result",
          "data": {
            "application/vnd.google.colaboratory.intrinsic+json": {
              "type": "string"
            },
            "text/plain": [
              "'Python'"
            ]
          },
          "metadata": {
            "tags": []
          },
          "execution_count": 39
        }
      ]
    },
    {
      "cell_type": "code",
      "metadata": {
        "colab": {
          "base_uri": "https://localhost:8080/",
          "height": 34
        },
        "id": "9fZSqtib0Yua",
        "outputId": "b6735028-4677-43fe-e57e-2da5cad8316d"
      },
      "source": [
        "a[:-3]"
      ],
      "execution_count": 41,
      "outputs": [
        {
          "output_type": "execute_result",
          "data": {
            "application/vnd.google.colaboratory.intrinsic+json": {
              "type": "string"
            },
            "text/plain": [
              "'Python is my l'"
            ]
          },
          "metadata": {
            "tags": []
          },
          "execution_count": 41
        }
      ]
    },
    {
      "cell_type": "markdown",
      "metadata": {
        "id": "VwRvPEFP0ZuY"
      },
      "source": [
        "|P|y|t|h|o|n| |i|s| |m|y| |l|i|f|e|\n",
        "|-|-|-|-|-|-|-|-|-|-|-|-|-|-|-|-|-|\n",
        "|0|1|2|3|4|5|6|7|8|9|10|11|12|13|14|15|16|\n",
        "|-17|-16|-15|-14|-13|-12|-11|-10|-9|-8|-7|-6|-5|-4|-3|-2|-1|"
      ]
    },
    {
      "cell_type": "markdown",
      "metadata": {
        "id": "Urw-whTX0cvI"
      },
      "source": [
        "[start:end]는 start부터 end 전까지 추출합니다."
      ]
    },
    {
      "cell_type": "code",
      "metadata": {
        "colab": {
          "base_uri": "https://localhost:8080/",
          "height": 34
        },
        "id": "-SbPeCEu0gYz",
        "outputId": "90bfb6cb-6a6c-4cb1-dfba-5a68c5f6f8db"
      },
      "source": [
        "a[3:6]"
      ],
      "execution_count": 42,
      "outputs": [
        {
          "output_type": "execute_result",
          "data": {
            "application/vnd.google.colaboratory.intrinsic+json": {
              "type": "string"
            },
            "text/plain": [
              "'hon'"
            ]
          },
          "metadata": {
            "tags": []
          },
          "execution_count": 42
        }
      ]
    },
    {
      "cell_type": "markdown",
      "metadata": {
        "id": "_Jiul-6m0iOq"
      },
      "source": [
        "[start:stop:step]에서 step 지정시 step만큼 건너 뛰면서 추출합니다."
      ]
    },
    {
      "cell_type": "code",
      "metadata": {
        "colab": {
          "base_uri": "https://localhost:8080/",
          "height": 34
        },
        "id": "wsI9idHE0j8v",
        "outputId": "439390ec-dbd0-4b59-ccf9-1f5d24bdfcbf"
      },
      "source": [
        "a[::2]"
      ],
      "execution_count": 43,
      "outputs": [
        {
          "output_type": "execute_result",
          "data": {
            "application/vnd.google.colaboratory.intrinsic+json": {
              "type": "string"
            },
            "text/plain": [
              "'Pto sm ie'"
            ]
          },
          "metadata": {
            "tags": []
          },
          "execution_count": 43
        }
      ]
    },
    {
      "cell_type": "markdown",
      "metadata": {
        "id": "xKhGXaYP0lFU"
      },
      "source": [
        "역순으로 출력하기 위해서는 step을 -1로 지정합니다."
      ]
    },
    {
      "cell_type": "code",
      "metadata": {
        "colab": {
          "base_uri": "https://localhost:8080/",
          "height": 34
        },
        "id": "oTJCBZcq0nGw",
        "outputId": "fc745bdf-46b5-4f85-964c-5e9f1e21c999"
      },
      "source": [
        "a[::-1]"
      ],
      "execution_count": 44,
      "outputs": [
        {
          "output_type": "execute_result",
          "data": {
            "application/vnd.google.colaboratory.intrinsic+json": {
              "type": "string"
            },
            "text/plain": [
              "'efil ym si nohtyP'"
            ]
          },
          "metadata": {
            "tags": []
          },
          "execution_count": 44
        }
      ]
    },
    {
      "cell_type": "markdown",
      "metadata": {
        "id": "dTuqfM2N0oOT"
      },
      "source": [
        "##불변(immutable)"
      ]
    },
    {
      "cell_type": "markdown",
      "metadata": {
        "id": "dLx-pxh20rx9"
      },
      "source": [
        "- 문자열은 index를 통해 값을 수정 및 변경이 불가합니다.\n",
        "- 하지만 메서드(method)로 변경할 수 있습니다."
      ]
    },
    {
      "cell_type": "markdown",
      "metadata": {
        "id": "iW9-Eja60u8d"
      },
      "source": [
        "a = 'Python is my life'"
      ]
    },
    {
      "cell_type": "markdown",
      "metadata": {
        "id": "litdI2JS0wpA"
      },
      "source": [
        "index에 값을 할당하여 변경하려는 경우"
      ]
    },
    {
      "cell_type": "code",
      "metadata": {
        "colab": {
          "base_uri": "https://localhost:8080/",
          "height": 170
        },
        "id": "3UYXO-uh0ywZ",
        "outputId": "49d5a398-2e70-4aba-e13d-a1763e7e4222"
      },
      "source": [
        "a[2] = 'Y'"
      ],
      "execution_count": 47,
      "outputs": [
        {
          "output_type": "error",
          "ename": "TypeError",
          "evalue": "ignored",
          "traceback": [
            "\u001b[0;31m---------------------------------------------------------------------------\u001b[0m",
            "\u001b[0;31mTypeError\u001b[0m                                 Traceback (most recent call last)",
            "\u001b[0;32m<ipython-input-47-f2db0e8f1888>\u001b[0m in \u001b[0;36m<module>\u001b[0;34m()\u001b[0m\n\u001b[0;32m----> 1\u001b[0;31m \u001b[0ma\u001b[0m\u001b[0;34m[\u001b[0m\u001b[0;36m2\u001b[0m\u001b[0;34m]\u001b[0m \u001b[0;34m=\u001b[0m \u001b[0;34m'Y'\u001b[0m\u001b[0;34m\u001b[0m\u001b[0;34m\u001b[0m\u001b[0m\n\u001b[0m",
            "\u001b[0;31mTypeError\u001b[0m: 'str' object does not support item assignment"
          ]
        }
      ]
    },
    {
      "cell_type": "markdown",
      "metadata": {
        "id": "Zkjng3Yl01gS"
      },
      "source": [
        "del로 부분 삭제하려는 경우"
      ]
    },
    {
      "cell_type": "code",
      "metadata": {
        "colab": {
          "base_uri": "https://localhost:8080/",
          "height": 170
        },
        "id": "Kt13ga9D07Sq",
        "outputId": "6b1c0706-3943-40d5-fe29-7da48f39b0a1"
      },
      "source": [
        "del a[2]"
      ],
      "execution_count": 48,
      "outputs": [
        {
          "output_type": "error",
          "ename": "TypeError",
          "evalue": "ignored",
          "traceback": [
            "\u001b[0;31m---------------------------------------------------------------------------\u001b[0m",
            "\u001b[0;31mTypeError\u001b[0m                                 Traceback (most recent call last)",
            "\u001b[0;32m<ipython-input-48-734682c6a06c>\u001b[0m in \u001b[0;36m<module>\u001b[0;34m()\u001b[0m\n\u001b[0;32m----> 1\u001b[0;31m \u001b[0;32mdel\u001b[0m \u001b[0ma\u001b[0m\u001b[0;34m[\u001b[0m\u001b[0;36m2\u001b[0m\u001b[0;34m]\u001b[0m\u001b[0;34m\u001b[0m\u001b[0;34m\u001b[0m\u001b[0m\n\u001b[0m",
            "\u001b[0;31mTypeError\u001b[0m: 'str' object doesn't support item deletion"
          ]
        }
      ]
    },
    {
      "cell_type": "markdown",
      "metadata": {
        "id": "dfyReQ8909Id"
      },
      "source": [
        "##문자열의 덧셈과 곱셈"
      ]
    },
    {
      "cell_type": "markdown",
      "metadata": {
        "id": "9j9mjglb0_fp"
      },
      "source": [
        "###연결: 문자열의 덧셈"
      ]
    },
    {
      "cell_type": "markdown",
      "metadata": {
        "id": "1HZQdN_91Bis"
      },
      "source": [
        "덧셈은 문자열을 연결합니다."
      ]
    },
    {
      "cell_type": "code",
      "metadata": {
        "id": "Kr5XdJ8Q1Cn4"
      },
      "source": [
        "a = '반갑습니다!'\n",
        "b = '웰컴 투 파이썬'"
      ],
      "execution_count": 50,
      "outputs": []
    },
    {
      "cell_type": "code",
      "metadata": {
        "colab": {
          "base_uri": "https://localhost:8080/",
          "height": 34
        },
        "id": "sLQKue2H1Esm",
        "outputId": "87bb42a1-94fa-468f-9239-4550be6ef9a0"
      },
      "source": [
        "a + b"
      ],
      "execution_count": 51,
      "outputs": [
        {
          "output_type": "execute_result",
          "data": {
            "application/vnd.google.colaboratory.intrinsic+json": {
              "type": "string"
            },
            "text/plain": [
              "'반갑습니다!웰컴 투 파이썬'"
            ]
          },
          "metadata": {
            "tags": []
          },
          "execution_count": 51
        }
      ]
    },
    {
      "cell_type": "code",
      "metadata": {
        "colab": {
          "base_uri": "https://localhost:8080/",
          "height": 34
        },
        "id": "wp-YScig1Fu5",
        "outputId": "077639ad-4f4f-44ae-83e8-82f726ad879d"
      },
      "source": [
        "a + '???'"
      ],
      "execution_count": 52,
      "outputs": [
        {
          "output_type": "execute_result",
          "data": {
            "application/vnd.google.colaboratory.intrinsic+json": {
              "type": "string"
            },
            "text/plain": [
              "'반갑습니다!???'"
            ]
          },
          "metadata": {
            "tags": []
          },
          "execution_count": 52
        }
      ]
    },
    {
      "cell_type": "code",
      "metadata": {
        "colab": {
          "base_uri": "https://localhost:8080/",
          "height": 34
        },
        "id": "1Ui3j7hX1IYp",
        "outputId": "87209675-48b4-4381-d24b-f2a226f09837"
      },
      "source": [
        "'hello' + ', world'"
      ],
      "execution_count": 53,
      "outputs": [
        {
          "output_type": "execute_result",
          "data": {
            "application/vnd.google.colaboratory.intrinsic+json": {
              "type": "string"
            },
            "text/plain": [
              "'hello, world'"
            ]
          },
          "metadata": {
            "tags": []
          },
          "execution_count": 53
        }
      ]
    },
    {
      "cell_type": "markdown",
      "metadata": {
        "id": "NMtd8Llj1Jf_"
      },
      "source": [
        "###복제: 문자열의 곱셈"
      ]
    },
    {
      "cell_type": "markdown",
      "metadata": {
        "id": "Cwd2odEX1L-_"
      },
      "source": [
        "문자열을 곱한 숫자 만큼 반복하여 생성합니다."
      ]
    },
    {
      "cell_type": "code",
      "metadata": {
        "colab": {
          "base_uri": "https://localhost:8080/",
          "height": 34
        },
        "id": "sAdHqkYS1Naf",
        "outputId": "59d8a443-5aa5-4f44-db09-355bb93ce70f"
      },
      "source": [
        "a * 2"
      ],
      "execution_count": 54,
      "outputs": [
        {
          "output_type": "execute_result",
          "data": {
            "application/vnd.google.colaboratory.intrinsic+json": {
              "type": "string"
            },
            "text/plain": [
              "'반갑습니다!반갑습니다!'"
            ]
          },
          "metadata": {
            "tags": []
          },
          "execution_count": 54
        }
      ]
    },
    {
      "cell_type": "code",
      "metadata": {
        "colab": {
          "base_uri": "https://localhost:8080/"
        },
        "id": "qK3SX5St1OZN",
        "outputId": "3a052b5a-74de-4692-da81-18da925a72e9"
      },
      "source": [
        "print('abc ' * 5)\n",
        "print('===' * 7)"
      ],
      "execution_count": 55,
      "outputs": [
        {
          "output_type": "stream",
          "text": [
            "abc abc abc abc abc \n",
            "=====================\n"
          ],
          "name": "stdout"
        }
      ]
    },
    {
      "cell_type": "markdown",
      "metadata": {
        "id": "lrPcj1js1PbX"
      },
      "source": [
        "##문자열의 list, set"
      ]
    },
    {
      "cell_type": "markdown",
      "metadata": {
        "id": "Gmj7_ZKc1RZG"
      },
      "source": [
        "###리스트(list)"
      ]
    },
    {
      "cell_type": "markdown",
      "metadata": {
        "id": "yQycxxY61VE1"
      },
      "source": [
        "- 문자열을 리스트(list)로 타입 변환이 가능합니다.\n",
        "- 타입 변환시 한 글자를 요소로 갖는 리스트가 생성됩니다."
      ]
    },
    {
      "cell_type": "code",
      "metadata": {
        "id": "MH3_ZlBb1X_1",
        "colab": {
          "base_uri": "https://localhost:8080/"
        },
        "outputId": "34da890a-7d3d-4e09-ea28-ffd2962a7fb7"
      },
      "source": [
        "list('ABCDE')"
      ],
      "execution_count": 56,
      "outputs": [
        {
          "output_type": "execute_result",
          "data": {
            "text/plain": [
              "['A', 'B', 'C', 'D', 'E']"
            ]
          },
          "metadata": {
            "tags": []
          },
          "execution_count": 56
        }
      ]
    },
    {
      "cell_type": "markdown",
      "metadata": {
        "id": "7NmUkinW1Zwx"
      },
      "source": [
        "###세트(set)"
      ]
    },
    {
      "cell_type": "markdown",
      "metadata": {
        "id": "vGTTuP6K1dTe"
      },
      "source": [
        "- 한 글자를 요소로 갖는 세트가 생성됩니다.\n",
        "- 세트의 특성상 요소를 생성한 후 중복된 글자는 제거됩니다."
      ]
    },
    {
      "cell_type": "code",
      "metadata": {
        "colab": {
          "base_uri": "https://localhost:8080/"
        },
        "id": "83kykJEf1goJ",
        "outputId": "2e4b3905-b21b-4a63-f1bc-a4c4c7ac31d6"
      },
      "source": [
        "set('AAABBBCCC')"
      ],
      "execution_count": 57,
      "outputs": [
        {
          "output_type": "execute_result",
          "data": {
            "text/plain": [
              "{'A', 'B', 'C'}"
            ]
          },
          "metadata": {
            "tags": []
          },
          "execution_count": 57
        }
      ]
    },
    {
      "cell_type": "markdown",
      "metadata": {
        "id": "AsmBijum1iB4"
      },
      "source": [
        "중복이 제거된 리스트로 생성하기 위해서는 list로 다시 타입 변환합니다."
      ]
    },
    {
      "cell_type": "code",
      "metadata": {
        "colab": {
          "base_uri": "https://localhost:8080/"
        },
        "id": "tC5IY2K41jkL",
        "outputId": "8b86ea53-8829-4611-99ad-bf531bec590a"
      },
      "source": [
        "list(set('AAABBBCCC'))"
      ],
      "execution_count": 58,
      "outputs": [
        {
          "output_type": "execute_result",
          "data": {
            "text/plain": [
              "['A', 'B', 'C']"
            ]
          },
          "metadata": {
            "tags": []
          },
          "execution_count": 58
        }
      ]
    },
    {
      "cell_type": "markdown",
      "metadata": {
        "id": "4rlKUi-91lrF"
      },
      "source": [
        "##문자열(텍스트)을 다루는 다양한 기능, 메서드(method)"
      ]
    },
    {
      "cell_type": "markdown",
      "metadata": {
        "id": "9Znd6I2b1oVs"
      },
      "source": [
        "문자열만 가지고 있는 고유의 편한 기능들이 있습니다.\n",
        "\n",
        "우리는 이들 중 몇 가지를 배워 앞으로 유용하게 활용할 예정입니다."
      ]
    },
    {
      "cell_type": "markdown",
      "metadata": {
        "id": "w-Cqups41pnc"
      },
      "source": [
        "###split() : 분리"
      ]
    },
    {
      "cell_type": "markdown",
      "metadata": {
        "id": "AX8O0woq1riz"
      },
      "source": [
        "- split은 문장을 특정 규칙에 의해 쪼개 주는 기능을 합니다.\n",
        "- 분리한 결과는 list 형식으로 값을 return 받습니다."
      ]
    },
    {
      "cell_type": "code",
      "metadata": {
        "id": "_NB-zuUp1vTP"
      },
      "source": [
        "a = 'This is a pen'"
      ],
      "execution_count": 59,
      "outputs": []
    },
    {
      "cell_type": "markdown",
      "metadata": {
        "id": "-AB6tfZ61wge"
      },
      "source": [
        "기본 값으로 공백이 지정되어 있습니다. 즉, 공백을 기준으로 분리하여 리스트로 반환합니다."
      ]
    },
    {
      "cell_type": "code",
      "metadata": {
        "id": "Ws3ieSQt1y_h",
        "colab": {
          "base_uri": "https://localhost:8080/"
        },
        "outputId": "13d55b6e-6bfe-492a-fe0c-8909b272353d"
      },
      "source": [
        "a.split()"
      ],
      "execution_count": 60,
      "outputs": [
        {
          "output_type": "execute_result",
          "data": {
            "text/plain": [
              "['This', 'is', 'a', 'pen']"
            ]
          },
          "metadata": {
            "tags": []
          },
          "execution_count": 60
        }
      ]
    },
    {
      "cell_type": "markdown",
      "metadata": {
        "id": "LdBS5gUm15NM"
      },
      "source": [
        "기본 값인 공백에서 특정 문자로 지정할 수 있습니다."
      ]
    },
    {
      "cell_type": "code",
      "metadata": {
        "id": "lhEJ-MbH18sU"
      },
      "source": [
        "a = 'This-is-a-pen'\n"
      ],
      "execution_count": 61,
      "outputs": []
    },
    {
      "cell_type": "code",
      "metadata": {
        "colab": {
          "base_uri": "https://localhost:8080/"
        },
        "id": "OFTDD1LW1-fO",
        "outputId": "1938340d-5d8a-4077-8be9-afc4bd35bb57"
      },
      "source": [
        "a.split('-')"
      ],
      "execution_count": 62,
      "outputs": [
        {
          "output_type": "execute_result",
          "data": {
            "text/plain": [
              "['This', 'is', 'a', 'pen']"
            ]
          },
          "metadata": {
            "tags": []
          },
          "execution_count": 62
        }
      ]
    },
    {
      "cell_type": "code",
      "metadata": {
        "colab": {
          "base_uri": "https://localhost:8080/"
        },
        "id": "aMvEXbxx2AS3",
        "outputId": "a933c2b0-1239-46f3-f3f9-1af74556302c"
      },
      "source": [
        "aa = a.split('-')\n",
        "aa"
      ],
      "execution_count": 63,
      "outputs": [
        {
          "output_type": "execute_result",
          "data": {
            "text/plain": [
              "['This', 'is', 'a', 'pen']"
            ]
          },
          "metadata": {
            "tags": []
          },
          "execution_count": 63
        }
      ]
    },
    {
      "cell_type": "markdown",
      "metadata": {
        "id": "eOSsBPJp2B8F"
      },
      "source": [
        "aa에 반환된 리스트를 대입 후 index로 값을 조회할 수 있습니다."
      ]
    },
    {
      "cell_type": "code",
      "metadata": {
        "colab": {
          "base_uri": "https://localhost:8080/",
          "height": 34
        },
        "id": "RV4gB_Y52E-2",
        "outputId": "3fefb4e6-3041-4dc0-eedb-fc9437a7fbfe"
      },
      "source": [
        "\n",
        "aa[0]"
      ],
      "execution_count": 64,
      "outputs": [
        {
          "output_type": "execute_result",
          "data": {
            "application/vnd.google.colaboratory.intrinsic+json": {
              "type": "string"
            },
            "text/plain": [
              "'This'"
            ]
          },
          "metadata": {
            "tags": []
          },
          "execution_count": 64
        }
      ]
    },
    {
      "cell_type": "code",
      "metadata": {
        "colab": {
          "base_uri": "https://localhost:8080/",
          "height": 34
        },
        "id": "bgZ3_UZd2GEH",
        "outputId": "55f10e79-8b4b-475b-b264-47cd17113576"
      },
      "source": [
        "\n",
        "aa[2]"
      ],
      "execution_count": 65,
      "outputs": [
        {
          "output_type": "execute_result",
          "data": {
            "application/vnd.google.colaboratory.intrinsic+json": {
              "type": "string"
            },
            "text/plain": [
              "'a'"
            ]
          },
          "metadata": {
            "tags": []
          },
          "execution_count": 65
        }
      ]
    },
    {
      "cell_type": "code",
      "metadata": {
        "colab": {
          "base_uri": "https://localhost:8080/",
          "height": 34
        },
        "id": "ikEkcXAq2HNj",
        "outputId": "6d949fde-c765-4d5b-d53e-3edf8f25add9"
      },
      "source": [
        "aa[0] + aa[2]"
      ],
      "execution_count": 66,
      "outputs": [
        {
          "output_type": "execute_result",
          "data": {
            "application/vnd.google.colaboratory.intrinsic+json": {
              "type": "string"
            },
            "text/plain": [
              "'Thisa'"
            ]
          },
          "metadata": {
            "tags": []
          },
          "execution_count": 66
        }
      ]
    },
    {
      "cell_type": "markdown",
      "metadata": {
        "id": "YWb_L81Y2ISN"
      },
      "source": [
        "한글도 동일하게 적용됩니다."
      ]
    },
    {
      "cell_type": "code",
      "metadata": {
        "id": "bFTp6TKe2NEN"
      },
      "source": [
        "a = '한글은 어떻게 될까요?'"
      ],
      "execution_count": 67,
      "outputs": []
    },
    {
      "cell_type": "code",
      "metadata": {
        "colab": {
          "base_uri": "https://localhost:8080/"
        },
        "id": "s4XnOlIg2OSQ",
        "outputId": "39586ae4-53ec-4594-d3ee-54f47bba415e"
      },
      "source": [
        "a.split()"
      ],
      "execution_count": 68,
      "outputs": [
        {
          "output_type": "execute_result",
          "data": {
            "text/plain": [
              "['한글은', '어떻게', '될까요?']"
            ]
          },
          "metadata": {
            "tags": []
          },
          "execution_count": 68
        }
      ]
    },
    {
      "cell_type": "markdown",
      "metadata": {
        "id": "osRa_soU2Pcr"
      },
      "source": [
        "###join() : 합치기"
      ]
    },
    {
      "cell_type": "markdown",
      "metadata": {
        "id": "AZqplQwm2SD4"
      },
      "source": [
        "- 결합하고자 하는 문자에 .join() 안에 리스트를 지정하여 결합할 수 있습니다."
      ]
    },
    {
      "cell_type": "code",
      "metadata": {
        "colab": {
          "base_uri": "https://localhost:8080/",
          "height": 34
        },
        "id": "B79AJDua2Us0",
        "outputId": "2694f8d3-0bbf-46c8-a377-5692d7c718f6"
      },
      "source": [
        "'-'.join(['010',  '1234', '5678'])"
      ],
      "execution_count": 69,
      "outputs": [
        {
          "output_type": "execute_result",
          "data": {
            "application/vnd.google.colaboratory.intrinsic+json": {
              "type": "string"
            },
            "text/plain": [
              "'010-1234-5678'"
            ]
          },
          "metadata": {
            "tags": []
          },
          "execution_count": 69
        }
      ]
    },
    {
      "cell_type": "code",
      "metadata": {
        "id": "DmB9n7dW2V3c",
        "colab": {
          "base_uri": "https://localhost:8080/",
          "height": 34
        },
        "outputId": "2aa010d7-ac39-4a44-8c32-f52bbe033ed6"
      },
      "source": [
        "'-'.join('ABCDE')"
      ],
      "execution_count": 70,
      "outputs": [
        {
          "output_type": "execute_result",
          "data": {
            "application/vnd.google.colaboratory.intrinsic+json": {
              "type": "string"
            },
            "text/plain": [
              "'A-B-C-D-E'"
            ]
          },
          "metadata": {
            "tags": []
          },
          "execution_count": 70
        }
      ]
    },
    {
      "cell_type": "markdown",
      "metadata": {
        "id": "wZiJn_h22Y74"
      },
      "source": [
        "###lower(), upper() : 소문자 / 대문자로 만들기"
      ]
    },
    {
      "cell_type": "code",
      "metadata": {
        "id": "EzXy8FUJ2h7s"
      },
      "source": [
        "a = 'My name is Teddy'"
      ],
      "execution_count": 71,
      "outputs": []
    },
    {
      "cell_type": "markdown",
      "metadata": {
        "id": "HCQnzAnI2jxT"
      },
      "source": [
        "소문자로 변경"
      ]
    },
    {
      "cell_type": "code",
      "metadata": {
        "colab": {
          "base_uri": "https://localhost:8080/",
          "height": 34
        },
        "id": "0wQiFD182lAC",
        "outputId": "97e46f86-ad8e-4bc5-feef-63ccd57b33a2"
      },
      "source": [
        "a.lower()"
      ],
      "execution_count": 72,
      "outputs": [
        {
          "output_type": "execute_result",
          "data": {
            "application/vnd.google.colaboratory.intrinsic+json": {
              "type": "string"
            },
            "text/plain": [
              "'my name is teddy'"
            ]
          },
          "metadata": {
            "tags": []
          },
          "execution_count": 72
        }
      ]
    },
    {
      "cell_type": "markdown",
      "metadata": {
        "id": "v8AKYCql2l50"
      },
      "source": [
        "대문자로 변경"
      ]
    },
    {
      "cell_type": "code",
      "metadata": {
        "colab": {
          "base_uri": "https://localhost:8080/",
          "height": 34
        },
        "id": "v033bOEg2nUT",
        "outputId": "6613b778-05c0-43ba-fd65-7c907784da1f"
      },
      "source": [
        "a.upper()"
      ],
      "execution_count": 74,
      "outputs": [
        {
          "output_type": "execute_result",
          "data": {
            "application/vnd.google.colaboratory.intrinsic+json": {
              "type": "string"
            },
            "text/plain": [
              "'MY NAME IS TEDDY'"
            ]
          },
          "metadata": {
            "tags": []
          },
          "execution_count": 74
        }
      ]
    },
    {
      "cell_type": "markdown",
      "metadata": {
        "id": "-3bAGDFQ2qM_"
      },
      "source": [
        "한글에는 대소문자 구분이 없습니다."
      ]
    },
    {
      "cell_type": "code",
      "metadata": {
        "id": "wS9UB-hv2r4a"
      },
      "source": [
        "a = '한글엔 대소문자가 없어요ㅠ'"
      ],
      "execution_count": 75,
      "outputs": []
    },
    {
      "cell_type": "code",
      "metadata": {
        "colab": {
          "base_uri": "https://localhost:8080/",
          "height": 34
        },
        "id": "qFdj9FEY2tDX",
        "outputId": "b333af73-5906-4656-b662-b2fd40252ee6"
      },
      "source": [
        "a.lower()"
      ],
      "execution_count": 76,
      "outputs": [
        {
          "output_type": "execute_result",
          "data": {
            "application/vnd.google.colaboratory.intrinsic+json": {
              "type": "string"
            },
            "text/plain": [
              "'한글엔 대소문자가 없어요ㅠ'"
            ]
          },
          "metadata": {
            "tags": []
          },
          "execution_count": 76
        }
      ]
    },
    {
      "cell_type": "code",
      "metadata": {
        "colab": {
          "base_uri": "https://localhost:8080/",
          "height": 34
        },
        "id": "pDp98nF22vFG",
        "outputId": "825f0228-d082-448f-9fc4-4a7e483e46a6"
      },
      "source": [
        "\n",
        "a.upper()"
      ],
      "execution_count": 77,
      "outputs": [
        {
          "output_type": "execute_result",
          "data": {
            "application/vnd.google.colaboratory.intrinsic+json": {
              "type": "string"
            },
            "text/plain": [
              "'한글엔 대소문자가 없어요ㅠ'"
            ]
          },
          "metadata": {
            "tags": []
          },
          "execution_count": 77
        }
      ]
    },
    {
      "cell_type": "markdown",
      "metadata": {
        "id": "lrW4Q5vC2v_S"
      },
      "source": [
        "###startswith, endswith"
      ]
    },
    {
      "cell_type": "markdown",
      "metadata": {
        "id": "H3xf_Ua42yjj"
      },
      "source": [
        "시작과, 끝이 맞는지 결과를 bool로 반환합니다."
      ]
    },
    {
      "cell_type": "code",
      "metadata": {
        "id": "Q578ZzfM2z7-"
      },
      "source": [
        "a = '01-sample.png'"
      ],
      "execution_count": 78,
      "outputs": []
    },
    {
      "cell_type": "markdown",
      "metadata": {
        "id": "KVh5f1TN21Ne"
      },
      "source": [
        "####startswith() : 시작하는"
      ]
    },
    {
      "cell_type": "markdown",
      "metadata": {
        "id": "7TaZmhE125Bv"
      },
      "source": [
        "- 지정한 문자열로 시작하면 True, 그렇지 않다면 False를 반환합니다."
      ]
    },
    {
      "cell_type": "code",
      "metadata": {
        "colab": {
          "base_uri": "https://localhost:8080/"
        },
        "id": "W8sF2qu627gd",
        "outputId": "69336d73-8919-4314-8482-c12827e7354f"
      },
      "source": [
        "a.startswith('01')"
      ],
      "execution_count": 79,
      "outputs": [
        {
          "output_type": "execute_result",
          "data": {
            "text/plain": [
              "True"
            ]
          },
          "metadata": {
            "tags": []
          },
          "execution_count": 79
        }
      ]
    },
    {
      "cell_type": "code",
      "metadata": {
        "colab": {
          "base_uri": "https://localhost:8080/"
        },
        "id": "J_-sqJRr288z",
        "outputId": "2bba866a-d19d-4156-d0e1-2e7d519fde0a"
      },
      "source": [
        "a.startswith('02')"
      ],
      "execution_count": 80,
      "outputs": [
        {
          "output_type": "execute_result",
          "data": {
            "text/plain": [
              "False"
            ]
          },
          "metadata": {
            "tags": []
          },
          "execution_count": 80
        }
      ]
    },
    {
      "cell_type": "markdown",
      "metadata": {
        "id": "VhLo3J8n299F"
      },
      "source": [
        "####endswith() : 끝나는"
      ]
    },
    {
      "cell_type": "markdown",
      "metadata": {
        "id": "GFwgNN5P3B6u"
      },
      "source": [
        "- 지정한 문자열로 끝나면 True, 그렇지 않다면 False를 반환합니다."
      ]
    },
    {
      "cell_type": "code",
      "metadata": {
        "colab": {
          "base_uri": "https://localhost:8080/"
        },
        "id": "z1FWg-qc3DnQ",
        "outputId": "c292d6f0-7c94-442a-992c-1e24e21e92a7"
      },
      "source": [
        "a.endswith('.png')"
      ],
      "execution_count": 81,
      "outputs": [
        {
          "output_type": "execute_result",
          "data": {
            "text/plain": [
              "True"
            ]
          },
          "metadata": {
            "tags": []
          },
          "execution_count": 81
        }
      ]
    },
    {
      "cell_type": "code",
      "metadata": {
        "id": "QE7oAHH73FDG",
        "colab": {
          "base_uri": "https://localhost:8080/"
        },
        "outputId": "4efe6101-c29a-484d-fe3b-c33c89c2f5ad"
      },
      "source": [
        "a.endswith('.jpg')"
      ],
      "execution_count": 82,
      "outputs": [
        {
          "output_type": "execute_result",
          "data": {
            "text/plain": [
              "False"
            ]
          },
          "metadata": {
            "tags": []
          },
          "execution_count": 82
        }
      ]
    },
    {
      "cell_type": "markdown",
      "metadata": {
        "id": "Mn9RzoLy3GgA"
      },
      "source": [
        "###replace() : 문자열 바꾸기"
      ]
    },
    {
      "cell_type": "markdown",
      "metadata": {
        "id": "yYWxFiCo3KFb"
      },
      "source": [
        "- 문자열에 replace(바꿀 대상, 바꾸려는 문자열) 지정하여 문자열을 변경합니다.\n",
        "- 결과는 복사본이 만들어져 반환됩니다."
      ]
    },
    {
      "cell_type": "code",
      "metadata": {
        "id": "n7fL6QLy3NQ6"
      },
      "source": [
        "a = '01-sample.png'"
      ],
      "execution_count": 83,
      "outputs": []
    },
    {
      "cell_type": "code",
      "metadata": {
        "colab": {
          "base_uri": "https://localhost:8080/",
          "height": 34
        },
        "id": "HH2jTjD23Oem",
        "outputId": "20ed08f5-7082-47f3-944f-90a29f4520de"
      },
      "source": [
        "a.replace('.png', '.jpg')"
      ],
      "execution_count": 84,
      "outputs": [
        {
          "output_type": "execute_result",
          "data": {
            "application/vnd.google.colaboratory.intrinsic+json": {
              "type": "string"
            },
            "text/plain": [
              "'01-sample.jpg'"
            ]
          },
          "metadata": {
            "tags": []
          },
          "execution_count": 84
        }
      ]
    },
    {
      "cell_type": "markdown",
      "metadata": {
        "id": "flbQuQWM3Qmw"
      },
      "source": [
        "반환값은 복사본이며 원본에 변경사항이 바로 적용되지 않습니다."
      ]
    },
    {
      "cell_type": "code",
      "metadata": {
        "colab": {
          "base_uri": "https://localhost:8080/",
          "height": 34
        },
        "id": "HYOXn3Lw3Squ",
        "outputId": "14fd2a85-8397-4776-b4ae-02d5da31b524"
      },
      "source": [
        "a"
      ],
      "execution_count": 85,
      "outputs": [
        {
          "output_type": "execute_result",
          "data": {
            "application/vnd.google.colaboratory.intrinsic+json": {
              "type": "string"
            },
            "text/plain": [
              "'01-sample.png'"
            ]
          },
          "metadata": {
            "tags": []
          },
          "execution_count": 85
        }
      ]
    },
    {
      "cell_type": "code",
      "metadata": {
        "id": "9OiIxAq_3Tqj"
      },
      "source": [
        "\n",
        "new_a = a.replace('.png', '.jpg')"
      ],
      "execution_count": 86,
      "outputs": []
    },
    {
      "cell_type": "code",
      "metadata": {
        "colab": {
          "base_uri": "https://localhost:8080/"
        },
        "id": "KvVR6XpX3VLz",
        "outputId": "51cc0ce5-89a2-4c0f-a5be-c5ad37a37065"
      },
      "source": [
        "print(new_a)"
      ],
      "execution_count": 87,
      "outputs": [
        {
          "output_type": "stream",
          "text": [
            "01-sample.jpg\n"
          ],
          "name": "stdout"
        }
      ]
    },
    {
      "cell_type": "markdown",
      "metadata": {
        "id": "cGVI0civ3WVo"
      },
      "source": [
        "###불필요한 공백 제거"
      ]
    },
    {
      "cell_type": "code",
      "metadata": {
        "id": "vo31qbYy3Ye6"
      },
      "source": [
        "a = '    01-sample.png                '"
      ],
      "execution_count": 88,
      "outputs": []
    },
    {
      "cell_type": "code",
      "metadata": {
        "id": "7C4mh_E63bYg",
        "colab": {
          "base_uri": "https://localhost:8080/"
        },
        "outputId": "a9b33c4b-a848-41a8-871a-8a6e671601a9"
      },
      "source": [
        "print(a)"
      ],
      "execution_count": 89,
      "outputs": [
        {
          "output_type": "stream",
          "text": [
            "    01-sample.png                \n"
          ],
          "name": "stdout"
        }
      ]
    },
    {
      "cell_type": "markdown",
      "metadata": {
        "id": "sTItt5TG3dJf"
      },
      "source": [
        "\n",
        "strip은 불필요한 공백을 제거해 줍니다."
      ]
    },
    {
      "cell_type": "markdown",
      "metadata": {
        "id": "GX6zgXgX3e2M"
      },
      "source": [
        "\n",
        "####lstrip() : 왼쪽 공백 제거"
      ]
    },
    {
      "cell_type": "code",
      "metadata": {
        "colab": {
          "base_uri": "https://localhost:8080/",
          "height": 34
        },
        "id": "2iVbEcTL3hAw",
        "outputId": "d2d4e9a6-88c3-45c7-de4a-765f4ffa7050"
      },
      "source": [
        "a.lstrip()"
      ],
      "execution_count": 90,
      "outputs": [
        {
          "output_type": "execute_result",
          "data": {
            "application/vnd.google.colaboratory.intrinsic+json": {
              "type": "string"
            },
            "text/plain": [
              "'01-sample.png                '"
            ]
          },
          "metadata": {
            "tags": []
          },
          "execution_count": 90
        }
      ]
    },
    {
      "cell_type": "markdown",
      "metadata": {
        "id": "zvYyh7qx3kIL"
      },
      "source": [
        "####rstrip() : 오른쪽 공백 제거"
      ]
    },
    {
      "cell_type": "code",
      "metadata": {
        "colab": {
          "base_uri": "https://localhost:8080/",
          "height": 34
        },
        "id": "PNsyMD2x3nGf",
        "outputId": "6580ad06-7d66-48c3-bcab-5540903f22ec"
      },
      "source": [
        "a.rstrip()"
      ],
      "execution_count": 91,
      "outputs": [
        {
          "output_type": "execute_result",
          "data": {
            "application/vnd.google.colaboratory.intrinsic+json": {
              "type": "string"
            },
            "text/plain": [
              "'    01-sample.png'"
            ]
          },
          "metadata": {
            "tags": []
          },
          "execution_count": 91
        }
      ]
    },
    {
      "cell_type": "markdown",
      "metadata": {
        "id": "o0gCjfim3ood"
      },
      "source": [
        "####strip() : 양쪽 공백 제거"
      ]
    },
    {
      "cell_type": "code",
      "metadata": {
        "id": "Rj282YSa3q2e",
        "colab": {
          "base_uri": "https://localhost:8080/",
          "height": 34
        },
        "outputId": "a1c34df1-ad5f-4078-b350-51506aae1caa"
      },
      "source": [
        "a.strip()"
      ],
      "execution_count": 92,
      "outputs": [
        {
          "output_type": "execute_result",
          "data": {
            "application/vnd.google.colaboratory.intrinsic+json": {
              "type": "string"
            },
            "text/plain": [
              "'01-sample.png'"
            ]
          },
          "metadata": {
            "tags": []
          },
          "execution_count": 92
        }
      ]
    }
  ]
}
