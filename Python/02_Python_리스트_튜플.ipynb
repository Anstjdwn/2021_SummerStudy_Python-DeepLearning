{
  "nbformat": 4,
  "nbformat_minor": 0,
  "metadata": {
    "colab": {
      "name": "02-Python-리스트/튜플.ipynb",
      "provenance": [],
      "authorship_tag": "ABX9TyM856oUPpAK+EzxQ7tPwX/V",
      "include_colab_link": true
    },
    "kernelspec": {
      "name": "python3",
      "display_name": "Python 3"
    },
    "language_info": {
      "name": "python"
    }
  },
  "cells": [
    {
      "cell_type": "markdown",
      "metadata": {
        "id": "view-in-github",
        "colab_type": "text"
      },
      "source": [
        "<a href=\"https://colab.research.google.com/github/june050312/2021_SummerStudy_Python-DeepLearning/blob/main/02_Python_%EB%A6%AC%EC%8A%A4%ED%8A%B8_%ED%8A%9C%ED%94%8C.ipynb\" target=\"_parent\"><img src=\"https://colab.research.google.com/assets/colab-badge.svg\" alt=\"Open In Colab\"/></a>"
      ]
    },
    {
      "cell_type": "markdown",
      "metadata": {
        "id": "bH0oC-6PEjmo"
      },
      "source": [
        "#list 규칙"
      ]
    },
    {
      "cell_type": "markdown",
      "metadata": {
        "id": "kmWxunt_lDQY"
      },
      "source": [
        "## **시퀀스, 집합형 자료구조**"
      ]
    },
    {
      "cell_type": "markdown",
      "metadata": {
        "id": "-IvcCQXalKdo"
      },
      "source": [
        "|분류|타입|특징|예시|\n",
        "|----|----|----|----|\n",
        "|시퀀스(sequence)|리스트(list)|순서가 있고, 가변(mutable)|[1, 2, 3]|\n",
        "|시퀀스(sequence)|튜플(tuple)|순서가 있고, 불변(immutable)|(1, 2, 3)|\n",
        "|세트(set)|세트(set)|순서가 없고, 중복을 허용하지 않음|{1, 2, 3}|\n",
        "|맵(map)|딕셔너리(dictionary)|순서가 없고, key/value 쌍으로 이루어짐|{'a': 1, 'b': 2, 'c': 3}|\n"
      ]
    },
    {
      "cell_type": "markdown",
      "metadata": {
        "id": "xnbM3TPcn_A_"
      },
      "source": [
        "##**리스트(list)**"
      ]
    },
    {
      "cell_type": "markdown",
      "metadata": {
        "id": "YQTG0jkqoIhR"
      },
      "source": [
        "* 리스트는 데이터의 요소를 수차적으로 파악하는데 용이\n",
        "* 리스트는 다양한 메서드(method), 함수를 지원하며 메서드를 활용하여 요소를 추가, 삭제 및 변경 가능"
      ]
    },
    {
      "cell_type": "markdown",
      "metadata": {
        "id": "l1RX27jOoYMN"
      },
      "source": [
        "**메서드(method)**:객체(object)가 포함하는 함수 혹은 기능"
      ]
    },
    {
      "cell_type": "markdown",
      "metadata": {
        "id": "sQA0KdSboiMO"
      },
      "source": [
        "###**생성**"
      ]
    },
    {
      "cell_type": "markdown",
      "metadata": {
        "id": "w82mWYNlotx1"
      },
      "source": [
        "[] 형태로 표현"
      ]
    },
    {
      "cell_type": "markdown",
      "metadata": {
        "id": "_XX1bqfBoxzu"
      },
      "source": [
        "빈 리스트를 생성"
      ]
    },
    {
      "cell_type": "code",
      "metadata": {
        "colab": {
          "base_uri": "https://localhost:8080/"
        },
        "id": "ryurAEjsozJT",
        "outputId": "baf14596-e409-4ec0-e6a5-b419837d138a"
      },
      "source": [
        "mylist=[]\n",
        "mylist"
      ],
      "execution_count": 1,
      "outputs": [
        {
          "output_type": "execute_result",
          "data": {
            "text/plain": [
              "[]"
            ]
          },
          "metadata": {
            "tags": []
          },
          "execution_count": 1
        }
      ]
    },
    {
      "cell_type": "code",
      "metadata": {
        "colab": {
          "base_uri": "https://localhost:8080/"
        },
        "id": "l-iwyfK3o3MS",
        "outputId": "be6dcd1b-3434-47a9-8c09-977046c5fb67"
      },
      "source": [
        "mylist=list()\n",
        "mylist"
      ],
      "execution_count": 2,
      "outputs": [
        {
          "output_type": "execute_result",
          "data": {
            "text/plain": [
              "[]"
            ]
          },
          "metadata": {
            "tags": []
          },
          "execution_count": 2
        }
      ]
    },
    {
      "cell_type": "markdown",
      "metadata": {
        "id": "g0jHd7Hto8fE"
      },
      "source": [
        "리스트를 생성하면서 값을 포함"
      ]
    },
    {
      "cell_type": "code",
      "metadata": {
        "id": "h_JrCxoQo_Cy"
      },
      "source": [
        "mylist=[1,2,3,4,5]"
      ],
      "execution_count": 3,
      "outputs": []
    },
    {
      "cell_type": "markdown",
      "metadata": {
        "id": "kqBGbgPqpGGq"
      },
      "source": [
        "###**list 규칙**"
      ]
    },
    {
      "cell_type": "markdown",
      "metadata": {
        "id": "bYLlDjROpJPV"
      },
      "source": [
        "* list는 다양한 type의 데이터를 집합으로 가짐\n",
        "* list안에 list 허용\n",
        "* list는 순서(order)의 개념 존재"
      ]
    },
    {
      "cell_type": "code",
      "metadata": {
        "id": "LW5Q4znDpXP3"
      },
      "source": [
        "a=[]"
      ],
      "execution_count": 5,
      "outputs": []
    },
    {
      "cell_type": "code",
      "metadata": {
        "colab": {
          "base_uri": "https://localhost:8080/"
        },
        "id": "kTXPlWVQpY_T",
        "outputId": "4e9805fe-7bc8-489b-9279-5f717c75a90a"
      },
      "source": [
        "a=[1,2,3]\n",
        "a"
      ],
      "execution_count": 6,
      "outputs": [
        {
          "output_type": "execute_result",
          "data": {
            "text/plain": [
              "[1, 2, 3]"
            ]
          },
          "metadata": {
            "tags": []
          },
          "execution_count": 6
        }
      ]
    },
    {
      "cell_type": "code",
      "metadata": {
        "colab": {
          "base_uri": "https://localhost:8080/"
        },
        "id": "HBy9-rL1pbTu",
        "outputId": "8e408301-79e5-40ea-ae37-f92313d7d425"
      },
      "source": [
        "a=[1,'hello',3,3.15,True]\n",
        "a"
      ],
      "execution_count": 7,
      "outputs": [
        {
          "output_type": "execute_result",
          "data": {
            "text/plain": [
              "[1, 'hello', 3, 3.15, True]"
            ]
          },
          "metadata": {
            "tags": []
          },
          "execution_count": 7
        }
      ]
    },
    {
      "cell_type": "markdown",
      "metadata": {
        "id": "0DuN1ImJpi-1"
      },
      "source": [
        "리스트 안에 리스트 포함 가능"
      ]
    },
    {
      "cell_type": "code",
      "metadata": {
        "colab": {
          "base_uri": "https://localhost:8080/"
        },
        "id": "4hV8glVopl0B",
        "outputId": "f876ac0a-3100-4f07-92f9-9e8059f895d9"
      },
      "source": [
        "a=[1,'hello',3,3.14,[2,3,1,'5']]\n",
        "a"
      ],
      "execution_count": 8,
      "outputs": [
        {
          "output_type": "execute_result",
          "data": {
            "text/plain": [
              "[1, 'hello', 3, 3.14, [2, 3, 1, '5']]"
            ]
          },
          "metadata": {
            "tags": []
          },
          "execution_count": 8
        }
      ]
    },
    {
      "cell_type": "markdown",
      "metadata": {
        "id": "VQDclZVfptfl"
      },
      "source": [
        "###**관련 함수**"
      ]
    },
    {
      "cell_type": "markdown",
      "metadata": {
        "id": "pxu-0q7_pyqV"
      },
      "source": [
        "* 점(.) 연산자로 함수를 실행\n",
        "* 함수는 어떤 작업을 수행하는 코드"
      ]
    },
    {
      "cell_type": "markdown",
      "metadata": {
        "id": "g_RNeBDCp6Gt"
      },
      "source": [
        "####**append():값 추가**"
      ]
    },
    {
      "cell_type": "markdown",
      "metadata": {
        "id": "ZTfoCRYSqJkm"
      },
      "source": [
        "빈 리스트 생성"
      ]
    },
    {
      "cell_type": "code",
      "metadata": {
        "colab": {
          "base_uri": "https://localhost:8080/"
        },
        "id": "nOIG4mwGqQwc",
        "outputId": "6b16d4a6-9b00-4042-b9a7-f8bf3b437436"
      },
      "source": [
        "mylist=[]\n",
        "mylist"
      ],
      "execution_count": 9,
      "outputs": [
        {
          "output_type": "execute_result",
          "data": {
            "text/plain": [
              "[]"
            ]
          },
          "metadata": {
            "tags": []
          },
          "execution_count": 9
        }
      ]
    },
    {
      "cell_type": "markdown",
      "metadata": {
        "id": "RPCfSsSkqTmi"
      },
      "source": [
        "append()는 값을 맨 뒤에 추가"
      ]
    },
    {
      "cell_type": "code",
      "metadata": {
        "colab": {
          "base_uri": "https://localhost:8080/"
        },
        "id": "oeKKDENCqXKw",
        "outputId": "137b75ae-3634-4c46-9217-2791ea4c0ede"
      },
      "source": [
        "mylist.append(1)\n",
        "mylist"
      ],
      "execution_count": 10,
      "outputs": [
        {
          "output_type": "execute_result",
          "data": {
            "text/plain": [
              "[1]"
            ]
          },
          "metadata": {
            "tags": []
          },
          "execution_count": 10
        }
      ]
    },
    {
      "cell_type": "markdown",
      "metadata": {
        "id": "SXOb2NIeqaOS"
      },
      "source": [
        "중복된 값을 추가할 수 있으며, 순서가 **유지** 됨"
      ]
    },
    {
      "cell_type": "code",
      "metadata": {
        "colab": {
          "base_uri": "https://localhost:8080/"
        },
        "id": "uFlibbsaqeqW",
        "outputId": "cac651e3-3993-4b40-b21a-83ad8e8e4462"
      },
      "source": [
        "mylist.append(7)\n",
        "mylist.append(7)\n",
        "mylist.append(7)\n",
        "mylist.append(3)\n",
        "mylist.append(5)\n",
        "mylist.append(2)\n",
        "mylist"
      ],
      "execution_count": 11,
      "outputs": [
        {
          "output_type": "execute_result",
          "data": {
            "text/plain": [
              "[1, 7, 7, 7, 3, 5, 2]"
            ]
          },
          "metadata": {
            "tags": []
          },
          "execution_count": 11
        }
      ]
    },
    {
      "cell_type": "markdown",
      "metadata": {
        "id": "bNik_eAIqhug"
      },
      "source": [
        "####**sort():정렬**"
      ]
    },
    {
      "cell_type": "markdown",
      "metadata": {
        "id": "fgf3hBkOqm_6"
      },
      "source": [
        "* 요소를 순서대로 정렬 (오름차순)\n",
        "* sort()는 내부적으로 정렬"
      ]
    },
    {
      "cell_type": "code",
      "metadata": {
        "id": "hRjHRyXvqvnx"
      },
      "source": [
        "mylist = [1, 6, 3, 2, 7, 5, 4]\n",
        "mylist.sort()"
      ],
      "execution_count": 12,
      "outputs": []
    },
    {
      "cell_type": "code",
      "metadata": {
        "colab": {
          "base_uri": "https://localhost:8080/"
        },
        "id": "-8-tOBNMqyDz",
        "outputId": "7293f3c3-8664-4ca5-cabb-4ee2773d238b"
      },
      "source": [
        "mylist"
      ],
      "execution_count": 13,
      "outputs": [
        {
          "output_type": "execute_result",
          "data": {
            "text/plain": [
              "[1, 2, 3, 4, 5, 6, 7]"
            ]
          },
          "metadata": {
            "tags": []
          },
          "execution_count": 13
        }
      ]
    },
    {
      "cell_type": "markdown",
      "metadata": {
        "id": "tTehBFXdqzlv"
      },
      "source": [
        "역정렬(reverse order) 가능 (reverse=True)"
      ]
    },
    {
      "cell_type": "code",
      "metadata": {
        "id": "ycdfYSJBq-WM"
      },
      "source": [
        "mylist = [1, 6, 3, 2, 7, 5, 4]\n",
        "mylist.sort(reverse=True)"
      ],
      "execution_count": 14,
      "outputs": []
    },
    {
      "cell_type": "code",
      "metadata": {
        "colab": {
          "base_uri": "https://localhost:8080/"
        },
        "id": "XFdSR49OrBm5",
        "outputId": "f6a7a47a-f88e-4aff-e686-45c25f9a21c8"
      },
      "source": [
        "mylist"
      ],
      "execution_count": 15,
      "outputs": [
        {
          "output_type": "execute_result",
          "data": {
            "text/plain": [
              "[7, 6, 5, 4, 3, 2, 1]"
            ]
          },
          "metadata": {
            "tags": []
          },
          "execution_count": 15
        }
      ]
    },
    {
      "cell_type": "markdown",
      "metadata": {
        "id": "8qRRNWMkrDGr"
      },
      "source": [
        "####**sorted():정렬**"
      ]
    },
    {
      "cell_type": "markdown",
      "metadata": {
        "id": "-QVGu41MrHhg"
      },
      "source": [
        "* 요소를 순서대로 정렬\n",
        "* 내부적으로 정렬하지 않고 **정렬된 복사본** 반환\n",
        "* 원본 데이터 정렬 x"
      ]
    },
    {
      "cell_type": "code",
      "metadata": {
        "colab": {
          "base_uri": "https://localhost:8080/"
        },
        "id": "f9aaeFS_rSYG",
        "outputId": "f485b327-311b-4893-c99c-1e55cdfaf492"
      },
      "source": [
        "mylist=[1, 6, 3, 2, 7, 5, 4]\n",
        "sorted(mylist)"
      ],
      "execution_count": 17,
      "outputs": [
        {
          "output_type": "execute_result",
          "data": {
            "text/plain": [
              "[1, 2, 3, 4, 5, 6, 7]"
            ]
          },
          "metadata": {
            "tags": []
          },
          "execution_count": 17
        }
      ]
    },
    {
      "cell_type": "code",
      "metadata": {
        "colab": {
          "base_uri": "https://localhost:8080/"
        },
        "id": "sXNsohoZrYh3",
        "outputId": "75c07de8-7e0b-4177-f38e-21a28b68d69b"
      },
      "source": [
        "mylist"
      ],
      "execution_count": 18,
      "outputs": [
        {
          "output_type": "execute_result",
          "data": {
            "text/plain": [
              "[1, 6, 3, 2, 7, 5, 4]"
            ]
          },
          "metadata": {
            "tags": []
          },
          "execution_count": 18
        }
      ]
    },
    {
      "cell_type": "markdown",
      "metadata": {
        "id": "vzoBi9ATrZ7V"
      },
      "source": [
        "역정렬(reverse order) 가능 (reverse=True)"
      ]
    },
    {
      "cell_type": "code",
      "metadata": {
        "colab": {
          "base_uri": "https://localhost:8080/"
        },
        "id": "Zh50f5pordOw",
        "outputId": "a6ef5801-46e2-4007-c918-248bed0afbcf"
      },
      "source": [
        "mylist=[1, 6, 3, 2, 7, 5, 4]\n",
        "sorted(mylist, reverse=True)"
      ],
      "execution_count": 19,
      "outputs": [
        {
          "output_type": "execute_result",
          "data": {
            "text/plain": [
              "[7, 6, 5, 4, 3, 2, 1]"
            ]
          },
          "metadata": {
            "tags": []
          },
          "execution_count": 19
        }
      ]
    },
    {
      "cell_type": "markdown",
      "metadata": {
        "id": "Ok3h2-MZrhWu"
      },
      "source": [
        "####**reversed():역정렬**"
      ]
    },
    {
      "cell_type": "code",
      "metadata": {
        "id": "mZKhyDdCrmAG"
      },
      "source": [
        "mylist.reverse()"
      ],
      "execution_count": 20,
      "outputs": []
    },
    {
      "cell_type": "code",
      "metadata": {
        "colab": {
          "base_uri": "https://localhost:8080/"
        },
        "id": "o4W71OHjro2l",
        "outputId": "0b8748f9-ff1e-49ec-f315-1b8dec87d929"
      },
      "source": [
        "mylist"
      ],
      "execution_count": 21,
      "outputs": [
        {
          "output_type": "execute_result",
          "data": {
            "text/plain": [
              "[4, 5, 7, 2, 3, 6, 1]"
            ]
          },
          "metadata": {
            "tags": []
          },
          "execution_count": 21
        }
      ]
    },
    {
      "cell_type": "markdown",
      "metadata": {
        "id": "Bjs5yKMarpZX"
      },
      "source": [
        "####**len():전체 항목의 개수 세기**"
      ]
    },
    {
      "cell_type": "code",
      "metadata": {
        "colab": {
          "base_uri": "https://localhost:8080/"
        },
        "id": "8AiTHJhLrvFV",
        "outputId": "c8d8865d-14ba-4b48-9df2-54c3e31cf915"
      },
      "source": [
        "mylist=[1, 6, 3, 2, 7, 5, 4]\n",
        "len(mylist)"
      ],
      "execution_count": 23,
      "outputs": [
        {
          "output_type": "execute_result",
          "data": {
            "text/plain": [
              "7"
            ]
          },
          "metadata": {
            "tags": []
          },
          "execution_count": 23
        }
      ]
    },
    {
      "cell_type": "markdown",
      "metadata": {
        "id": "XcKt_ihAr0pr"
      },
      "source": [
        "####**insert():값 추가**"
      ]
    },
    {
      "cell_type": "markdown",
      "metadata": {
        "id": "0A78Am0Wr5v0"
      },
      "source": [
        "지정한 index에 값 추가"
      ]
    },
    {
      "cell_type": "code",
      "metadata": {
        "id": "7M_bHBSUr8pV"
      },
      "source": [
        "mylist.insert(1,100)"
      ],
      "execution_count": 25,
      "outputs": []
    },
    {
      "cell_type": "code",
      "metadata": {
        "colab": {
          "base_uri": "https://localhost:8080/"
        },
        "id": "ezl5EULNsBb_",
        "outputId": "6d5ee3ad-6c3d-4525-bc77-9219cbf8ec41"
      },
      "source": [
        "mylist"
      ],
      "execution_count": 26,
      "outputs": [
        {
          "output_type": "execute_result",
          "data": {
            "text/plain": [
              "[1, 100, 6, 3, 2, 7, 5, 4]"
            ]
          },
          "metadata": {
            "tags": []
          },
          "execution_count": 26
        }
      ]
    },
    {
      "cell_type": "markdown",
      "metadata": {
        "id": "0TOchOZCsC7q"
      },
      "source": [
        "####**remove():값 제거**"
      ]
    },
    {
      "cell_type": "markdown",
      "metadata": {
        "id": "SphCF_lTsGzH"
      },
      "source": [
        "리스트에서 첫 번째 나오는 해당 값 삭제"
      ]
    },
    {
      "cell_type": "code",
      "metadata": {
        "id": "oyGQ4k9UsMME"
      },
      "source": [
        "mylist.remove(7)"
      ],
      "execution_count": 28,
      "outputs": []
    },
    {
      "cell_type": "code",
      "metadata": {
        "colab": {
          "base_uri": "https://localhost:8080/"
        },
        "id": "_XRW0NdFsOSF",
        "outputId": "2ca49da7-7d45-43ce-d0e3-df9dfc3685cf"
      },
      "source": [
        "mylist"
      ],
      "execution_count": 29,
      "outputs": [
        {
          "output_type": "execute_result",
          "data": {
            "text/plain": [
              "[1, 100, 6, 3, 2, 5, 4]"
            ]
          },
          "metadata": {
            "tags": []
          },
          "execution_count": 29
        }
      ]
    },
    {
      "cell_type": "markdown",
      "metadata": {
        "id": "u4OvuoBnsO8-"
      },
      "source": [
        "####**pop():요소 꺼내기**"
      ]
    },
    {
      "cell_type": "markdown",
      "metadata": {
        "id": "rccJBxQgsT_Z"
      },
      "source": [
        "x번째 요소를 돌려주고 해당 요소 삭제"
      ]
    },
    {
      "cell_type": "code",
      "metadata": {
        "colab": {
          "base_uri": "https://localhost:8080/"
        },
        "id": "Ams905lssW4Y",
        "outputId": "fdf455b9-2d49-44f2-9c67-0205804b1fa8"
      },
      "source": [
        "mylist.pop(1)"
      ],
      "execution_count": 31,
      "outputs": [
        {
          "output_type": "execute_result",
          "data": {
            "text/plain": [
              "100"
            ]
          },
          "metadata": {
            "tags": []
          },
          "execution_count": 31
        }
      ]
    },
    {
      "cell_type": "markdown",
      "metadata": {
        "id": "XACKkYK1sZ_J"
      },
      "source": [
        "####**del():요소 삭제**"
      ]
    },
    {
      "cell_type": "code",
      "metadata": {
        "colab": {
          "base_uri": "https://localhost:8080/"
        },
        "id": "7TkKKkeVshlu",
        "outputId": "20ee6770-fa80-48e4-fa92-1765a8a99d1d"
      },
      "source": [
        "mylist=[100, 200, 300, 400, 500]\n",
        "\n",
        "del mylist[1]\n",
        "print(mylist)\n",
        "del mylist[3]\n",
        "print(mylist)"
      ],
      "execution_count": 32,
      "outputs": [
        {
          "output_type": "stream",
          "text": [
            "[100, 300, 400, 500]\n",
            "[100, 300, 400]\n"
          ],
          "name": "stdout"
        }
      ]
    },
    {
      "cell_type": "markdown",
      "metadata": {
        "id": "wC1R0bQDsrn0"
      },
      "source": [
        "####**count():갯수 세기**"
      ]
    },
    {
      "cell_type": "code",
      "metadata": {
        "id": "trRZj5JzszKL"
      },
      "source": [
        "a=[1,1,1,1,1,2,2,3,3,3,3,3]"
      ],
      "execution_count": 33,
      "outputs": []
    },
    {
      "cell_type": "code",
      "metadata": {
        "colab": {
          "base_uri": "https://localhost:8080/"
        },
        "id": "kGsUzAmWs3Dh",
        "outputId": "cac5ac2e-f591-4f2e-a74c-2b01e696af92"
      },
      "source": [
        "a.count(1)"
      ],
      "execution_count": 34,
      "outputs": [
        {
          "output_type": "execute_result",
          "data": {
            "text/plain": [
              "5"
            ]
          },
          "metadata": {
            "tags": []
          },
          "execution_count": 34
        }
      ]
    },
    {
      "cell_type": "code",
      "metadata": {
        "colab": {
          "base_uri": "https://localhost:8080/"
        },
        "id": "8JWrEoX3s4IS",
        "outputId": "4575681c-d459-4251-c771-618138e437ee"
      },
      "source": [
        "a.count(2)"
      ],
      "execution_count": 35,
      "outputs": [
        {
          "output_type": "execute_result",
          "data": {
            "text/plain": [
              "2"
            ]
          },
          "metadata": {
            "tags": []
          },
          "execution_count": 35
        }
      ]
    },
    {
      "cell_type": "code",
      "metadata": {
        "colab": {
          "base_uri": "https://localhost:8080/"
        },
        "id": "RPET1Tv9s54N",
        "outputId": "a6a2d744-49b1-4a1c-f43f-75d48eff1e77"
      },
      "source": [
        "a.count(5)"
      ],
      "execution_count": 36,
      "outputs": [
        {
          "output_type": "execute_result",
          "data": {
            "text/plain": [
              "0"
            ]
          },
          "metadata": {
            "tags": []
          },
          "execution_count": 36
        }
      ]
    },
    {
      "cell_type": "markdown",
      "metadata": {
        "id": "suW5mpCVs7Xa"
      },
      "source": [
        "####**extend():리스트 확장**"
      ]
    },
    {
      "cell_type": "code",
      "metadata": {
        "id": "J7ldTKhPtARv"
      },
      "source": [
        "a=[1,2,3]"
      ],
      "execution_count": 38,
      "outputs": []
    },
    {
      "cell_type": "code",
      "metadata": {
        "id": "vVl1ZFA5tC0t"
      },
      "source": [
        "a.extend([4,5])"
      ],
      "execution_count": 39,
      "outputs": []
    },
    {
      "cell_type": "code",
      "metadata": {
        "colab": {
          "base_uri": "https://localhost:8080/"
        },
        "id": "rfO_qobStFLd",
        "outputId": "bf2850a7-3c5a-429a-8955-6c026fd6294d"
      },
      "source": [
        "a"
      ],
      "execution_count": 40,
      "outputs": [
        {
          "output_type": "execute_result",
          "data": {
            "text/plain": [
              "[1, 2, 3, 4, 5]"
            ]
          },
          "metadata": {
            "tags": []
          },
          "execution_count": 40
        }
      ]
    },
    {
      "cell_type": "markdown",
      "metadata": {
        "id": "Yp30wFiCtFzp"
      },
      "source": [
        "+연산자는 extend(와 동일한 기능 수행)"
      ]
    },
    {
      "cell_type": "code",
      "metadata": {
        "colab": {
          "base_uri": "https://localhost:8080/"
        },
        "id": "N6fKktBitLlg",
        "outputId": "7bc37eb5-75dd-47ec-f5bc-e903b816adad"
      },
      "source": [
        "a=[1,2,3]\n",
        "a+[4,5]"
      ],
      "execution_count": 42,
      "outputs": [
        {
          "output_type": "execute_result",
          "data": {
            "text/plain": [
              "[1, 2, 3, 4, 5]"
            ]
          },
          "metadata": {
            "tags": []
          },
          "execution_count": 42
        }
      ]
    },
    {
      "cell_type": "markdown",
      "metadata": {
        "id": "vATkOE2otOh3"
      },
      "source": [
        "####**인덱싱(indexing):색인**"
      ]
    },
    {
      "cell_type": "code",
      "metadata": {
        "id": "CvGRGwZItXJK"
      },
      "source": [
        "mylist=[1,2,3,4]"
      ],
      "execution_count": 43,
      "outputs": []
    },
    {
      "cell_type": "markdown",
      "metadata": {
        "id": "m_UPPkiotaM3"
      },
      "source": [
        "인덱스는 **0번부터 시작**"
      ]
    },
    {
      "cell_type": "code",
      "metadata": {
        "colab": {
          "base_uri": "https://localhost:8080/"
        },
        "id": "imjeUzQAtdQk",
        "outputId": "3879c534-171b-4729-fca2-53e7179f8417"
      },
      "source": [
        "mylist[0]"
      ],
      "execution_count": 45,
      "outputs": [
        {
          "output_type": "execute_result",
          "data": {
            "text/plain": [
              "1"
            ]
          },
          "metadata": {
            "tags": []
          },
          "execution_count": 45
        }
      ]
    },
    {
      "cell_type": "code",
      "metadata": {
        "colab": {
          "base_uri": "https://localhost:8080/"
        },
        "id": "0ZWpv60Ytffz",
        "outputId": "15b13801-c9bc-4578-899b-7d082762b44f"
      },
      "source": [
        "mylist[3]"
      ],
      "execution_count": 46,
      "outputs": [
        {
          "output_type": "execute_result",
          "data": {
            "text/plain": [
              "4"
            ]
          },
          "metadata": {
            "tags": []
          },
          "execution_count": 46
        }
      ]
    },
    {
      "cell_type": "code",
      "metadata": {
        "colab": {
          "base_uri": "https://localhost:8080/",
          "height": 172
        },
        "id": "PpQe9CpZtgiB",
        "outputId": "9febb1e9-a1c1-4ab8-c6de-9b072b5571dd"
      },
      "source": [
        "mylist[4]"
      ],
      "execution_count": 47,
      "outputs": [
        {
          "output_type": "error",
          "ename": "IndexError",
          "evalue": "ignored",
          "traceback": [
            "\u001b[0;31m---------------------------------------------------------------------------\u001b[0m",
            "\u001b[0;31mIndexError\u001b[0m                                Traceback (most recent call last)",
            "\u001b[0;32m<ipython-input-47-88b11041aa4f>\u001b[0m in \u001b[0;36m<module>\u001b[0;34m()\u001b[0m\n\u001b[0;32m----> 1\u001b[0;31m \u001b[0mmylist\u001b[0m\u001b[0;34m[\u001b[0m\u001b[0;36m4\u001b[0m\u001b[0;34m]\u001b[0m\u001b[0;34m\u001b[0m\u001b[0;34m\u001b[0m\u001b[0m\n\u001b[0m",
            "\u001b[0;31mIndexError\u001b[0m: list index out of range"
          ]
        }
      ]
    },
    {
      "cell_type": "markdown",
      "metadata": {
        "id": "wqYX47l4thY8"
      },
      "source": [
        "####**역순 인덱싱**"
      ]
    },
    {
      "cell_type": "markdown",
      "metadata": {
        "id": "wvC6vqAetj1a"
      },
      "source": [
        "파이썬은 음수 인덱싱을 지원"
      ]
    },
    {
      "cell_type": "code",
      "metadata": {
        "colab": {
          "base_uri": "https://localhost:8080/"
        },
        "id": "D2uwgWSEtm7f",
        "outputId": "c44ca98f-4cda-4de1-ce8c-db115575e9ea"
      },
      "source": [
        "mylist[-1]"
      ],
      "execution_count": 48,
      "outputs": [
        {
          "output_type": "execute_result",
          "data": {
            "text/plain": [
              "4"
            ]
          },
          "metadata": {
            "tags": []
          },
          "execution_count": 48
        }
      ]
    },
    {
      "cell_type": "code",
      "metadata": {
        "colab": {
          "base_uri": "https://localhost:8080/"
        },
        "id": "gFpQ4-79toSP",
        "outputId": "f79eb1f0-41e3-4daa-99ff-7b2174591e5e"
      },
      "source": [
        "mylist[-3]"
      ],
      "execution_count": 49,
      "outputs": [
        {
          "output_type": "execute_result",
          "data": {
            "text/plain": [
              "2"
            ]
          },
          "metadata": {
            "tags": []
          },
          "execution_count": 49
        }
      ]
    },
    {
      "cell_type": "code",
      "metadata": {
        "colab": {
          "base_uri": "https://localhost:8080/",
          "height": 172
        },
        "id": "PdRC8FihtpuX",
        "outputId": "72fd74bb-b363-4650-b7c4-fa280908f3c9"
      },
      "source": [
        "mylist[-5]"
      ],
      "execution_count": 50,
      "outputs": [
        {
          "output_type": "error",
          "ename": "IndexError",
          "evalue": "ignored",
          "traceback": [
            "\u001b[0;31m---------------------------------------------------------------------------\u001b[0m",
            "\u001b[0;31mIndexError\u001b[0m                                Traceback (most recent call last)",
            "\u001b[0;32m<ipython-input-50-7f152f66d2d3>\u001b[0m in \u001b[0;36m<module>\u001b[0;34m()\u001b[0m\n\u001b[0;32m----> 1\u001b[0;31m \u001b[0mmylist\u001b[0m\u001b[0;34m[\u001b[0m\u001b[0;34m-\u001b[0m\u001b[0;36m5\u001b[0m\u001b[0;34m]\u001b[0m\u001b[0;34m\u001b[0m\u001b[0;34m\u001b[0m\u001b[0m\n\u001b[0m",
            "\u001b[0;31mIndexError\u001b[0m: list index out of range"
          ]
        }
      ]
    },
    {
      "cell_type": "markdown",
      "metadata": {
        "id": "tQ74g_IltrIN"
      },
      "source": [
        "####**인덱스로 접근하여 값 변환**"
      ]
    },
    {
      "cell_type": "code",
      "metadata": {
        "colab": {
          "base_uri": "https://localhost:8080/"
        },
        "id": "b5-6CYGPtwPy",
        "outputId": "e3fc4c38-21b4-4e97-c1a7-21710d933642"
      },
      "source": [
        "mylist=[1,2,3,4,5]\n",
        "mylist"
      ],
      "execution_count": 51,
      "outputs": [
        {
          "output_type": "execute_result",
          "data": {
            "text/plain": [
              "[1, 2, 3, 4, 5]"
            ]
          },
          "metadata": {
            "tags": []
          },
          "execution_count": 51
        }
      ]
    },
    {
      "cell_type": "code",
      "metadata": {
        "colab": {
          "base_uri": "https://localhost:8080/"
        },
        "id": "HYmuJCC_tze3",
        "outputId": "346f0c91-c183-4fb0-c736-098dad2c031b"
      },
      "source": [
        "mylist[0]"
      ],
      "execution_count": 52,
      "outputs": [
        {
          "output_type": "execute_result",
          "data": {
            "text/plain": [
              "1"
            ]
          },
          "metadata": {
            "tags": []
          },
          "execution_count": 52
        }
      ]
    },
    {
      "cell_type": "code",
      "metadata": {
        "id": "2EKvJ2pct000"
      },
      "source": [
        "mylist[0]=100"
      ],
      "execution_count": 53,
      "outputs": []
    },
    {
      "cell_type": "code",
      "metadata": {
        "colab": {
          "base_uri": "https://localhost:8080/"
        },
        "id": "3h1RK6CQt3Nj",
        "outputId": "084e8b6b-9bb2-4e88-d6d4-72dd3448e191"
      },
      "source": [
        "mylist"
      ],
      "execution_count": 54,
      "outputs": [
        {
          "output_type": "execute_result",
          "data": {
            "text/plain": [
              "[100, 2, 3, 4, 5]"
            ]
          },
          "metadata": {
            "tags": []
          },
          "execution_count": 54
        }
      ]
    },
    {
      "cell_type": "code",
      "metadata": {
        "id": "SOf9lORwt4cp"
      },
      "source": [
        "mylist[-1]=300"
      ],
      "execution_count": 56,
      "outputs": []
    },
    {
      "cell_type": "code",
      "metadata": {
        "colab": {
          "base_uri": "https://localhost:8080/"
        },
        "id": "lYxSJyGft7Ff",
        "outputId": "08c76920-93a9-4a85-a53f-4e5e1a2b00ab"
      },
      "source": [
        "mylist"
      ],
      "execution_count": 57,
      "outputs": [
        {
          "output_type": "execute_result",
          "data": {
            "text/plain": [
              "[100, 2, 3, 4, 300]"
            ]
          },
          "metadata": {
            "tags": []
          },
          "execution_count": 57
        }
      ]
    },
    {
      "cell_type": "markdown",
      "metadata": {
        "id": "J-sLZDEJt50o"
      },
      "source": [
        "####**중첩된 리스트 인덱싱**"
      ]
    },
    {
      "cell_type": "markdown",
      "metadata": {
        "id": "fhiNScwKuAFV"
      },
      "source": [
        "중첩된 리스트에 대한 리스트는 중첩 인덱싱으로 접근, 값 변경 가능"
      ]
    },
    {
      "cell_type": "code",
      "metadata": {
        "id": "XMklqxn5uFGF"
      },
      "source": [
        "mylist=[['가','나','다'],[4,5,6],7,8,9]"
      ],
      "execution_count": 59,
      "outputs": []
    },
    {
      "cell_type": "code",
      "metadata": {
        "colab": {
          "base_uri": "https://localhost:8080/"
        },
        "id": "LDiKXUABuSuQ",
        "outputId": "b6522ab1-d10c-404d-c179-73aef3fb8f6c"
      },
      "source": [
        "mylist"
      ],
      "execution_count": 60,
      "outputs": [
        {
          "output_type": "execute_result",
          "data": {
            "text/plain": [
              "[['가', '나', '다'], [4, 5, 6], 7, 8, 9]"
            ]
          },
          "metadata": {
            "tags": []
          },
          "execution_count": 60
        }
      ]
    },
    {
      "cell_type": "markdown",
      "metadata": {
        "id": "7qWznkgFuOs7"
      },
      "source": [
        "1번째 리스트 요소 가져옴"
      ]
    },
    {
      "cell_type": "code",
      "metadata": {
        "colab": {
          "base_uri": "https://localhost:8080/"
        },
        "id": "27Ve3nnRuXyD",
        "outputId": "1156b53b-8749-46fd-cec3-0866b33c3c23"
      },
      "source": [
        "mylist[1]"
      ],
      "execution_count": 61,
      "outputs": [
        {
          "output_type": "execute_result",
          "data": {
            "text/plain": [
              "[4, 5, 6]"
            ]
          },
          "metadata": {
            "tags": []
          },
          "execution_count": 61
        }
      ]
    },
    {
      "cell_type": "markdown",
      "metadata": {
        "id": "9_JUa4dguaFC"
      },
      "source": [
        "1번째 리스트의 요소 중 1번째 요소를 가져오기 위해서는 중첩 인덱싱으로 접근"
      ]
    },
    {
      "cell_type": "code",
      "metadata": {
        "colab": {
          "base_uri": "https://localhost:8080/"
        },
        "id": "n_IHtKjEugBz",
        "outputId": "572749da-8d78-4889-83b4-97a46e94f8df"
      },
      "source": [
        "mylist[1][1]"
      ],
      "execution_count": 62,
      "outputs": [
        {
          "output_type": "execute_result",
          "data": {
            "text/plain": [
              "5"
            ]
          },
          "metadata": {
            "tags": []
          },
          "execution_count": 62
        }
      ]
    },
    {
      "cell_type": "code",
      "metadata": {
        "id": "LAiIKio8uiFZ"
      },
      "source": [
        "mylist[1][1]=47"
      ],
      "execution_count": 66,
      "outputs": []
    },
    {
      "cell_type": "code",
      "metadata": {
        "colab": {
          "base_uri": "https://localhost:8080/"
        },
        "id": "Oq1-BoqMulWT",
        "outputId": "4ef42359-b28b-43d4-aff1-6b2e69160390"
      },
      "source": [
        "mylist"
      ],
      "execution_count": 67,
      "outputs": [
        {
          "output_type": "execute_result",
          "data": {
            "text/plain": [
              "[['가', '나', '다'], [4, 47, 6], 7, 8, 9]"
            ]
          },
          "metadata": {
            "tags": []
          },
          "execution_count": 67
        }
      ]
    },
    {
      "cell_type": "markdown",
      "metadata": {
        "id": "oaD4KyNOumQE"
      },
      "source": [
        "####**슬라이싱(Slicing):범위 추출**"
      ]
    },
    {
      "cell_type": "markdown",
      "metadata": {
        "id": "6ADVsN6duyER"
      },
      "source": [
        "* 슬라이싱의 활용:[start:stop:step]을 명시하여 부분을 추출"
      ]
    },
    {
      "cell_type": "code",
      "metadata": {
        "id": "wcpeAMQNu4yD"
      },
      "source": [
        "mylist=[100,200,300,400,500]"
      ],
      "execution_count": 68,
      "outputs": []
    },
    {
      "cell_type": "markdown",
      "metadata": {
        "id": "WKWeZVe6u799"
      },
      "source": [
        "[:]를 활용하여 전체를 추출 가능"
      ]
    },
    {
      "cell_type": "code",
      "metadata": {
        "colab": {
          "base_uri": "https://localhost:8080/"
        },
        "id": "v76ecnOSvAct",
        "outputId": "b8f4b2ad-5b20-46c4-b9a7-8afe140d827b"
      },
      "source": [
        "mylist[:]"
      ],
      "execution_count": 69,
      "outputs": [
        {
          "output_type": "execute_result",
          "data": {
            "text/plain": [
              "[100, 200, 300, 400, 500]"
            ]
          },
          "metadata": {
            "tags": []
          },
          "execution_count": 69
        }
      ]
    },
    {
      "cell_type": "markdown",
      "metadata": {
        "id": "4DEOGdASvDX7"
      },
      "source": [
        "[start:]는 시작 index부터 끝까지 추출"
      ]
    },
    {
      "cell_type": "code",
      "metadata": {
        "colab": {
          "base_uri": "https://localhost:8080/"
        },
        "id": "2rbuS_0xvH-4",
        "outputId": "0ba6bb67-074e-4661-ba89-2425872fe068"
      },
      "source": [
        "mylist[2:]"
      ],
      "execution_count": 72,
      "outputs": [
        {
          "output_type": "execute_result",
          "data": {
            "text/plain": [
              "[300, 400, 500]"
            ]
          },
          "metadata": {
            "tags": []
          },
          "execution_count": 72
        }
      ]
    },
    {
      "cell_type": "code",
      "metadata": {
        "colab": {
          "base_uri": "https://localhost:8080/"
        },
        "id": "KwCACc4SvUOu",
        "outputId": "1072ef75-d306-41a2-bdcb-9ef24c892fd1"
      },
      "source": [
        "mylist[-3:]"
      ],
      "execution_count": 73,
      "outputs": [
        {
          "output_type": "execute_result",
          "data": {
            "text/plain": [
              "[300, 400, 500]"
            ]
          },
          "metadata": {
            "tags": []
          },
          "execution_count": 73
        }
      ]
    },
    {
      "cell_type": "markdown",
      "metadata": {
        "id": "WjPRSVc4vJyY"
      },
      "source": [
        "[:end]는 처음부터 end 전까지 추출"
      ]
    },
    {
      "cell_type": "code",
      "metadata": {
        "colab": {
          "base_uri": "https://localhost:8080/"
        },
        "id": "D2-z6e-svNVJ",
        "outputId": "79391152-d917-47c3-9357-9d9bc2917815"
      },
      "source": [
        "mylist[:3]"
      ],
      "execution_count": 74,
      "outputs": [
        {
          "output_type": "execute_result",
          "data": {
            "text/plain": [
              "[100, 200, 300]"
            ]
          },
          "metadata": {
            "tags": []
          },
          "execution_count": 74
        }
      ]
    },
    {
      "cell_type": "markdown",
      "metadata": {
        "id": "obA9UzY7vQfw"
      },
      "source": [
        "[start:end]는 start부터 end 전까지 추출"
      ]
    },
    {
      "cell_type": "code",
      "metadata": {
        "colab": {
          "base_uri": "https://localhost:8080/"
        },
        "id": "FrnyjqkQvdIU",
        "outputId": "a95d74a6-1e67-44f8-8226-dcf953e87710"
      },
      "source": [
        "mylist[1:3]"
      ],
      "execution_count": 75,
      "outputs": [
        {
          "output_type": "execute_result",
          "data": {
            "text/plain": [
              "[200, 300]"
            ]
          },
          "metadata": {
            "tags": []
          },
          "execution_count": 75
        }
      ]
    },
    {
      "cell_type": "code",
      "metadata": {
        "colab": {
          "base_uri": "https://localhost:8080/"
        },
        "id": "dBjZA5kNveiv",
        "outputId": "85a2c318-077f-462d-cc47-9e26cf8da29c"
      },
      "source": [
        "mylist[-3:-1]"
      ],
      "execution_count": 76,
      "outputs": [
        {
          "output_type": "execute_result",
          "data": {
            "text/plain": [
              "[300, 400]"
            ]
          },
          "metadata": {
            "tags": []
          },
          "execution_count": 76
        }
      ]
    },
    {
      "cell_type": "markdown",
      "metadata": {
        "id": "rmcPhSK1vgQJ"
      },
      "source": [
        "####**indexing에 step 활용하기**"
      ]
    },
    {
      "cell_type": "markdown",
      "metadata": {
        "id": "X5tgeAWwvlFO"
      },
      "source": [
        "list[start:stop:step]"
      ]
    },
    {
      "cell_type": "markdown",
      "metadata": {
        "id": "PcXsLh4yvpB-"
      },
      "source": [
        "* step은 몇 칸씩 건너 뛰는지 지정"
      ]
    },
    {
      "cell_type": "code",
      "metadata": {
        "id": "r2kqybfuvsPC"
      },
      "source": [
        "mylist=[100,200,300,400,500]"
      ],
      "execution_count": 77,
      "outputs": []
    },
    {
      "cell_type": "markdown",
      "metadata": {
        "id": "-K0F5O2OvvOJ"
      },
      "source": [
        "**2칸 씩** 건너뛰기"
      ]
    },
    {
      "cell_type": "code",
      "metadata": {
        "colab": {
          "base_uri": "https://localhost:8080/"
        },
        "id": "ntZg8_slvyjj",
        "outputId": "efa12823-98cf-4531-a807-f5903232b02e"
      },
      "source": [
        "mylist[::2]"
      ],
      "execution_count": 78,
      "outputs": [
        {
          "output_type": "execute_result",
          "data": {
            "text/plain": [
              "[100, 300, 500]"
            ]
          },
          "metadata": {
            "tags": []
          },
          "execution_count": 78
        }
      ]
    },
    {
      "cell_type": "markdown",
      "metadata": {
        "id": "DRmqxnzUv0yH"
      },
      "source": [
        "**역순** 출력"
      ]
    },
    {
      "cell_type": "code",
      "metadata": {
        "colab": {
          "base_uri": "https://localhost:8080/"
        },
        "id": "Tiq2I8Uqv5Ow",
        "outputId": "97322529-8294-4f26-c45b-e33b754706c7"
      },
      "source": [
        "mylist[::-1]"
      ],
      "execution_count": 79,
      "outputs": [
        {
          "output_type": "execute_result",
          "data": {
            "text/plain": [
              "[500, 400, 300, 200, 100]"
            ]
          },
          "metadata": {
            "tags": []
          },
          "execution_count": 79
        }
      ]
    },
    {
      "cell_type": "markdown",
      "metadata": {
        "id": "vmrSWyoQv-By"
      },
      "source": [
        "**역순** 그리고 **2칸 씩** 건너뛰기"
      ]
    },
    {
      "cell_type": "code",
      "metadata": {
        "colab": {
          "base_uri": "https://localhost:8080/"
        },
        "id": "BU5hWRnlwEHS",
        "outputId": "b96c02cd-1ae7-4e55-8156-8aa1dc53b9d1"
      },
      "source": [
        "mylist[::-2]"
      ],
      "execution_count": 81,
      "outputs": [
        {
          "output_type": "execute_result",
          "data": {
            "text/plain": [
              "[500, 300, 100]"
            ]
          },
          "metadata": {
            "tags": []
          },
          "execution_count": 81
        }
      ]
    },
    {
      "cell_type": "markdown",
      "metadata": {
        "id": "87o-3j4fwHO8"
      },
      "source": [
        "####**list 덧셈:list 확장**"
      ]
    },
    {
      "cell_type": "code",
      "metadata": {
        "id": "SxfUv_eiwK8q"
      },
      "source": [
        "a=[1,2,3,4]\n",
        "b=[5,6,7,8]"
      ],
      "execution_count": 82,
      "outputs": []
    },
    {
      "cell_type": "code",
      "metadata": {
        "colab": {
          "base_uri": "https://localhost:8080/"
        },
        "id": "xuFpsAIrwQ3A",
        "outputId": "42f3d103-0c9b-4371-f674-6a2e432a89d9"
      },
      "source": [
        "a+b"
      ],
      "execution_count": 83,
      "outputs": [
        {
          "output_type": "execute_result",
          "data": {
            "text/plain": [
              "[1, 2, 3, 4, 5, 6, 7, 8]"
            ]
          },
          "metadata": {
            "tags": []
          },
          "execution_count": 83
        }
      ]
    },
    {
      "cell_type": "code",
      "metadata": {
        "id": "TekxvoW1wRi5"
      },
      "source": [
        "a=['a','b','c']\n",
        "b=['d','e','f']"
      ],
      "execution_count": 84,
      "outputs": []
    },
    {
      "cell_type": "code",
      "metadata": {
        "colab": {
          "base_uri": "https://localhost:8080/"
        },
        "id": "EDAf_LuDwYlC",
        "outputId": "e3965df4-d36d-468d-e335-3ef9820f7510"
      },
      "source": [
        "a+b"
      ],
      "execution_count": 85,
      "outputs": [
        {
          "output_type": "execute_result",
          "data": {
            "text/plain": [
              "['a', 'b', 'c', 'd', 'e', 'f']"
            ]
          },
          "metadata": {
            "tags": []
          },
          "execution_count": 85
        }
      ]
    },
    {
      "cell_type": "markdown",
      "metadata": {
        "id": "QMtbgwUrwabR"
      },
      "source": [
        "####**list 곱셈:list 반복**"
      ]
    },
    {
      "cell_type": "code",
      "metadata": {
        "id": "FOFojpRvwfIM"
      },
      "source": [
        "a=['a','b','c']\n",
        "b=[1,2,3,4]"
      ],
      "execution_count": 86,
      "outputs": []
    },
    {
      "cell_type": "code",
      "metadata": {
        "colab": {
          "base_uri": "https://localhost:8080/"
        },
        "id": "mTLU2epvwmJI",
        "outputId": "714f66c6-bbdf-4619-95c4-81e527e0406f"
      },
      "source": [
        "a*2"
      ],
      "execution_count": 87,
      "outputs": [
        {
          "output_type": "execute_result",
          "data": {
            "text/plain": [
              "['a', 'b', 'c', 'a', 'b', 'c']"
            ]
          },
          "metadata": {
            "tags": []
          },
          "execution_count": 87
        }
      ]
    },
    {
      "cell_type": "code",
      "metadata": {
        "colab": {
          "base_uri": "https://localhost:8080/"
        },
        "id": "LATKfMLHwoQE",
        "outputId": "fec31eff-2351-41e2-9738-81d161b0195b"
      },
      "source": [
        "b*3"
      ],
      "execution_count": 88,
      "outputs": [
        {
          "output_type": "execute_result",
          "data": {
            "text/plain": [
              "[1, 2, 3, 4, 1, 2, 3, 4, 1, 2, 3, 4]"
            ]
          },
          "metadata": {
            "tags": []
          },
          "execution_count": 88
        }
      ]
    },
    {
      "cell_type": "markdown",
      "metadata": {
        "id": "IOj9wEEpwpOC"
      },
      "source": [
        "##**튜플(tuple)**"
      ]
    },
    {
      "cell_type": "markdown",
      "metadata": {
        "id": "sXllt7zxwRx5"
      },
      "source": [
        "* 리스트(list)는 가변(mutable)하는 객체(object)이지만, **튜플(tuple)**은 **불변(immutable)**한 객체\n",
        "* 가변 객체는 요소에 대한 수정, 삭제, 변경 등이 가능하지만, 불변 객체는 **요소에 대한 수정, 삭제, 변경이 불가**"
      ]
    },
    {
      "cell_type": "markdown",
      "metadata": {
        "id": "bQPdrimNxR_n"
      },
      "source": [
        "###**생성**"
      ]
    },
    {
      "cell_type": "markdown",
      "metadata": {
        "id": "qjpHs6FvxWYg"
      },
      "source": [
        "* tuple(), ()로 생성\n",
        "* 혹은 ,로 생성"
      ]
    },
    {
      "cell_type": "markdown",
      "metadata": {
        "id": "vKv5XDUzxg6q"
      },
      "source": [
        "**()**로 튜플 생성"
      ]
    },
    {
      "cell_type": "code",
      "metadata": {
        "colab": {
          "base_uri": "https://localhost:8080/"
        },
        "id": "4r9a3FGYxpxM",
        "outputId": "a7a8a3be-9bad-47ac-edba-34a87724dd4a"
      },
      "source": [
        "mytuple=(1,2,3)\n",
        "mytuple"
      ],
      "execution_count": 90,
      "outputs": [
        {
          "output_type": "execute_result",
          "data": {
            "text/plain": [
              "(1, 2, 3)"
            ]
          },
          "metadata": {
            "tags": []
          },
          "execution_count": 90
        }
      ]
    },
    {
      "cell_type": "markdown",
      "metadata": {
        "id": "79pWek5ZxuSx"
      },
      "source": [
        "**tuple()**로 튜플 생성"
      ]
    },
    {
      "cell_type": "code",
      "metadata": {
        "colab": {
          "base_uri": "https://localhost:8080/"
        },
        "id": "dU9ppK2bx4q3",
        "outputId": "d2eba86f-6088-4b5c-c05f-cee8e2d04bcd"
      },
      "source": [
        "mytuple=tuple([1,2,3])\n",
        "mytuple"
      ],
      "execution_count": 91,
      "outputs": [
        {
          "output_type": "execute_result",
          "data": {
            "text/plain": [
              "(1, 2, 3)"
            ]
          },
          "metadata": {
            "tags": []
          },
          "execution_count": 91
        }
      ]
    },
    {
      "cell_type": "markdown",
      "metadata": {
        "id": "LvRsdMOiyJfc"
      },
      "source": [
        "**,**로 튜플 생성"
      ]
    },
    {
      "cell_type": "code",
      "metadata": {
        "colab": {
          "base_uri": "https://localhost:8080/"
        },
        "id": "7V1-uZbzyNE6",
        "outputId": "f1abaf58-11c0-4bbb-cd68-3e21118fcd73"
      },
      "source": [
        "mytuple=1,2,3\n",
        "mytuple"
      ],
      "execution_count": 92,
      "outputs": [
        {
          "output_type": "execute_result",
          "data": {
            "text/plain": [
              "(1, 2, 3)"
            ]
          },
          "metadata": {
            "tags": []
          },
          "execution_count": 92
        }
      ]
    },
    {
      "cell_type": "markdown",
      "metadata": {
        "id": "3Mw7Zqu1yQmJ"
      },
      "source": [
        "**단일 요소**를 생성 할 때는 반드시 **,**를 붙임"
      ]
    },
    {
      "cell_type": "markdown",
      "metadata": {
        "id": "ZcQVCgU0yXxp"
      },
      "source": [
        "* (1,)과 (1)은 다른 자료구조"
      ]
    },
    {
      "cell_type": "code",
      "metadata": {
        "colab": {
          "base_uri": "https://localhost:8080/"
        },
        "id": "dBNFDLZ2ydl5",
        "outputId": "d17d3edc-c73d-41a0-d173-d75b3e316e85"
      },
      "source": [
        "mytuple=1,\n",
        "print(type(mytuple))\n",
        "mytuple"
      ],
      "execution_count": 93,
      "outputs": [
        {
          "output_type": "stream",
          "text": [
            "<class 'tuple'>\n"
          ],
          "name": "stdout"
        },
        {
          "output_type": "execute_result",
          "data": {
            "text/plain": [
              "(1,)"
            ]
          },
          "metadata": {
            "tags": []
          },
          "execution_count": 93
        }
      ]
    },
    {
      "cell_type": "code",
      "metadata": {
        "colab": {
          "base_uri": "https://localhost:8080/"
        },
        "id": "pDsxuK0qyjqz",
        "outputId": "c78daafb-5be9-415b-fdf0-594aa8edf0a1"
      },
      "source": [
        "mytuple=(1,)\n",
        "print(type(mytuple))\n",
        "mytuple"
      ],
      "execution_count": 96,
      "outputs": [
        {
          "output_type": "stream",
          "text": [
            "<class 'tuple'>\n"
          ],
          "name": "stdout"
        },
        {
          "output_type": "execute_result",
          "data": {
            "text/plain": [
              "(1,)"
            ]
          },
          "metadata": {
            "tags": []
          },
          "execution_count": 96
        }
      ]
    },
    {
      "cell_type": "code",
      "metadata": {
        "colab": {
          "base_uri": "https://localhost:8080/"
        },
        "id": "-e4TY-nXy11-",
        "outputId": "c23d5a41-12a3-4797-cdce-255f32130f2c"
      },
      "source": [
        "mytuple=(1)\n",
        "print(type(mytuple))\n",
        "mytuple"
      ],
      "execution_count": 95,
      "outputs": [
        {
          "output_type": "stream",
          "text": [
            "<class 'int'>\n"
          ],
          "name": "stdout"
        },
        {
          "output_type": "execute_result",
          "data": {
            "text/plain": [
              "1"
            ]
          },
          "metadata": {
            "tags": []
          },
          "execution_count": 95
        }
      ]
    },
    {
      "cell_type": "markdown",
      "metadata": {
        "id": "a20ihLAXy6FR"
      },
      "source": [
        "####**튜플 언패킹(unpacking)**"
      ]
    },
    {
      "cell_type": "markdown",
      "metadata": {
        "id": "3phLCdlzzIuz"
      },
      "source": [
        "* 튜플로 한 번에 **여러 변수에 값을 한 번에 할당**"
      ]
    },
    {
      "cell_type": "code",
      "metadata": {
        "colab": {
          "base_uri": "https://localhost:8080/"
        },
        "id": "FDmbroqfzC7z",
        "outputId": "24ce5743-0c39-4ce7-b96d-627cc1e8565b"
      },
      "source": [
        "a,b,c=1,2,3\n",
        "\n",
        "print(a)\n",
        "print(b)\n",
        "print(c)"
      ],
      "execution_count": 97,
      "outputs": [
        {
          "output_type": "stream",
          "text": [
            "1\n",
            "2\n",
            "3\n"
          ],
          "name": "stdout"
        }
      ]
    },
    {
      "cell_type": "markdown",
      "metadata": {
        "id": "qnnfQuyVzHsg"
      },
      "source": [
        "**튜플 자료형은 요소의 추가, 삭제, 변경 등을 허용하지 않음**"
      ]
    },
    {
      "cell_type": "code",
      "metadata": {
        "colab": {
          "base_uri": "https://localhost:8080/"
        },
        "id": "CBKxWweKzQH8",
        "outputId": "9eb3d469-579a-434f-ea83-3c7aaf2f8f8b"
      },
      "source": [
        "mytuple=(1,2,3)\n",
        "mytuple"
      ],
      "execution_count": 98,
      "outputs": [
        {
          "output_type": "execute_result",
          "data": {
            "text/plain": [
              "(1, 2, 3)"
            ]
          },
          "metadata": {
            "tags": []
          },
          "execution_count": 98
        }
      ]
    },
    {
      "cell_type": "markdown",
      "metadata": {
        "id": "nYvO-V-hzYcG"
      },
      "source": [
        "요소를 **조회하는 것**은 가능"
      ]
    },
    {
      "cell_type": "code",
      "metadata": {
        "colab": {
          "base_uri": "https://localhost:8080/"
        },
        "id": "o0teEkuOzceM",
        "outputId": "658e99cd-01f6-4812-d6ed-508922408645"
      },
      "source": [
        "mytuple[1]"
      ],
      "execution_count": 99,
      "outputs": [
        {
          "output_type": "execute_result",
          "data": {
            "text/plain": [
              "2"
            ]
          },
          "metadata": {
            "tags": []
          },
          "execution_count": 99
        }
      ]
    },
    {
      "cell_type": "markdown",
      "metadata": {
        "id": "tGjlGew7zesl"
      },
      "source": [
        "요소를 **변경**하려는 경우"
      ]
    },
    {
      "cell_type": "code",
      "metadata": {
        "colab": {
          "base_uri": "https://localhost:8080/",
          "height": 172
        },
        "id": "dhuClVkuziD9",
        "outputId": "cb039f3a-af8c-4773-d45d-30df9ce95980"
      },
      "source": [
        "mytuple[1]=100"
      ],
      "execution_count": 100,
      "outputs": [
        {
          "output_type": "error",
          "ename": "TypeError",
          "evalue": "ignored",
          "traceback": [
            "\u001b[0;31m---------------------------------------------------------------------------\u001b[0m",
            "\u001b[0;31mTypeError\u001b[0m                                 Traceback (most recent call last)",
            "\u001b[0;32m<ipython-input-100-bd6459aca261>\u001b[0m in \u001b[0;36m<module>\u001b[0;34m()\u001b[0m\n\u001b[0;32m----> 1\u001b[0;31m \u001b[0mmytuple\u001b[0m\u001b[0;34m[\u001b[0m\u001b[0;36m1\u001b[0m\u001b[0;34m]\u001b[0m\u001b[0;34m=\u001b[0m\u001b[0;36m100\u001b[0m\u001b[0;34m\u001b[0m\u001b[0;34m\u001b[0m\u001b[0m\n\u001b[0m",
            "\u001b[0;31mTypeError\u001b[0m: 'tuple' object does not support item assignment"
          ]
        }
      ]
    },
    {
      "cell_type": "markdown",
      "metadata": {
        "id": "w-AKoIkazkkC"
      },
      "source": [
        "요소를 **삭제**하려는 경우"
      ]
    },
    {
      "cell_type": "code",
      "metadata": {
        "colab": {
          "base_uri": "https://localhost:8080/",
          "height": 172
        },
        "id": "dXm0aqW8znVR",
        "outputId": "05c2af5f-0cb8-4e7d-fb39-88a9f0e5ea86"
      },
      "source": [
        "del mytuple[1]"
      ],
      "execution_count": 102,
      "outputs": [
        {
          "output_type": "error",
          "ename": "TypeError",
          "evalue": "ignored",
          "traceback": [
            "\u001b[0;31m---------------------------------------------------------------------------\u001b[0m",
            "\u001b[0;31mTypeError\u001b[0m                                 Traceback (most recent call last)",
            "\u001b[0;32m<ipython-input-102-011fbf932d04>\u001b[0m in \u001b[0;36m<module>\u001b[0;34m()\u001b[0m\n\u001b[0;32m----> 1\u001b[0;31m \u001b[0;32mdel\u001b[0m \u001b[0mmytuple\u001b[0m\u001b[0;34m[\u001b[0m\u001b[0;36m1\u001b[0m\u001b[0;34m]\u001b[0m\u001b[0;34m\u001b[0m\u001b[0;34m\u001b[0m\u001b[0m\n\u001b[0m",
            "\u001b[0;31mTypeError\u001b[0m: 'tuple' object doesn't support item deletion"
          ]
        }
      ]
    },
    {
      "cell_type": "markdown",
      "metadata": {
        "id": "mvPDVaWYzt6I"
      },
      "source": [
        "####**튜플 덧셈:튜플 확장**"
      ]
    },
    {
      "cell_type": "code",
      "metadata": {
        "id": "OeeTd4xrzz3S"
      },
      "source": [
        "a=(1,2)\n",
        "b=(3,4)"
      ],
      "execution_count": 103,
      "outputs": []
    },
    {
      "cell_type": "code",
      "metadata": {
        "colab": {
          "base_uri": "https://localhost:8080/"
        },
        "id": "7dKHZASSz3Cz",
        "outputId": "c1743a8a-5bac-4184-c5c1-c2de6ac11e49"
      },
      "source": [
        "a+b"
      ],
      "execution_count": 105,
      "outputs": [
        {
          "output_type": "execute_result",
          "data": {
            "text/plain": [
              "(1, 2, 3, 4)"
            ]
          },
          "metadata": {
            "tags": []
          },
          "execution_count": 105
        }
      ]
    },
    {
      "cell_type": "markdown",
      "metadata": {
        "id": "KWN8--o7z7bM"
      },
      "source": [
        "####**튜플 곱셈:튜플 반복**"
      ]
    },
    {
      "cell_type": "code",
      "metadata": {
        "colab": {
          "base_uri": "https://localhost:8080/"
        },
        "id": "njZugRo80Agf",
        "outputId": "a2fe6e6e-79fb-422d-94bf-872117815f79"
      },
      "source": [
        "a*3"
      ],
      "execution_count": 106,
      "outputs": [
        {
          "output_type": "execute_result",
          "data": {
            "text/plain": [
              "(1, 2, 1, 2, 1, 2)"
            ]
          },
          "metadata": {
            "tags": []
          },
          "execution_count": 106
        }
      ]
    },
    {
      "cell_type": "markdown",
      "metadata": {
        "id": "E629DRyC0CD3"
      },
      "source": [
        "####**길이 파악**"
      ]
    },
    {
      "cell_type": "code",
      "metadata": {
        "colab": {
          "base_uri": "https://localhost:8080/"
        },
        "id": "mv2h8GCW0F4X",
        "outputId": "48c52424-1ceb-4050-cf9e-e68913523cb0"
      },
      "source": [
        "mytuple"
      ],
      "execution_count": 108,
      "outputs": [
        {
          "output_type": "execute_result",
          "data": {
            "text/plain": [
              "(1, 2, 3)"
            ]
          },
          "metadata": {
            "tags": []
          },
          "execution_count": 108
        }
      ]
    },
    {
      "cell_type": "code",
      "metadata": {
        "colab": {
          "base_uri": "https://localhost:8080/"
        },
        "id": "gNmMtLKS0Hx4",
        "outputId": "2626d0ce-2daa-4c6c-87c7-00be62909864"
      },
      "source": [
        "len(mytuple)"
      ],
      "execution_count": 109,
      "outputs": [
        {
          "output_type": "execute_result",
          "data": {
            "text/plain": [
              "3"
            ]
          },
          "metadata": {
            "tags": []
          },
          "execution_count": 109
        }
      ]
    },
    {
      "cell_type": "markdown",
      "metadata": {
        "id": "K1fuaLWM0Jos"
      },
      "source": [
        "####**list를 tuple로 변환**"
      ]
    },
    {
      "cell_type": "code",
      "metadata": {
        "id": "CkU7zP2T0ONL"
      },
      "source": [
        "a=[1,2,3,4]"
      ],
      "execution_count": 111,
      "outputs": []
    },
    {
      "cell_type": "code",
      "metadata": {
        "colab": {
          "base_uri": "https://localhost:8080/"
        },
        "id": "y1epL-5l0Q7Q",
        "outputId": "d92c42e2-0f1a-4eda-872d-682e32cb1190"
      },
      "source": [
        "a"
      ],
      "execution_count": 112,
      "outputs": [
        {
          "output_type": "execute_result",
          "data": {
            "text/plain": [
              "[1, 2, 3, 4]"
            ]
          },
          "metadata": {
            "tags": []
          },
          "execution_count": 112
        }
      ]
    },
    {
      "cell_type": "code",
      "metadata": {
        "colab": {
          "base_uri": "https://localhost:8080/"
        },
        "id": "yuejpmTb0RKf",
        "outputId": "ac8a7703-be2f-4f2c-c897-47453cf805c0"
      },
      "source": [
        "type(a)"
      ],
      "execution_count": 113,
      "outputs": [
        {
          "output_type": "execute_result",
          "data": {
            "text/plain": [
              "list"
            ]
          },
          "metadata": {
            "tags": []
          },
          "execution_count": 113
        }
      ]
    },
    {
      "cell_type": "code",
      "metadata": {
        "id": "RdYN3InZ0S4r"
      },
      "source": [
        ""
      ],
      "execution_count": 113,
      "outputs": []
    },
    {
      "cell_type": "code",
      "metadata": {
        "id": "XEoYaKKZ0T7c"
      },
      "source": [
        "b=tuple(a)"
      ],
      "execution_count": 114,
      "outputs": []
    },
    {
      "cell_type": "code",
      "metadata": {
        "colab": {
          "base_uri": "https://localhost:8080/"
        },
        "id": "qHRhd88m0VWs",
        "outputId": "400c1324-713e-4cf1-9eb7-578f4f969ce6"
      },
      "source": [
        "b"
      ],
      "execution_count": 115,
      "outputs": [
        {
          "output_type": "execute_result",
          "data": {
            "text/plain": [
              "(1, 2, 3, 4)"
            ]
          },
          "metadata": {
            "tags": []
          },
          "execution_count": 115
        }
      ]
    },
    {
      "cell_type": "code",
      "metadata": {
        "colab": {
          "base_uri": "https://localhost:8080/"
        },
        "id": "8iH8VGMH0W2Y",
        "outputId": "45bb1fdf-b6ab-4ca2-ca14-9ef2f399b058"
      },
      "source": [
        "type(b)"
      ],
      "execution_count": 116,
      "outputs": [
        {
          "output_type": "execute_result",
          "data": {
            "text/plain": [
              "tuple"
            ]
          },
          "metadata": {
            "tags": []
          },
          "execution_count": 116
        }
      ]
    },
    {
      "cell_type": "markdown",
      "metadata": {
        "id": "MW_sYiOe0YSr"
      },
      "source": [
        "####**tuple을 list로 변환**"
      ]
    },
    {
      "cell_type": "code",
      "metadata": {
        "id": "GLafp6WX0eHN"
      },
      "source": [
        "a=(1,2,3,4)"
      ],
      "execution_count": 118,
      "outputs": []
    },
    {
      "cell_type": "code",
      "metadata": {
        "colab": {
          "base_uri": "https://localhost:8080/"
        },
        "id": "689PUdlE0hq0",
        "outputId": "557708c8-fad2-4000-a7e1-64af7597f8a2"
      },
      "source": [
        "a"
      ],
      "execution_count": 119,
      "outputs": [
        {
          "output_type": "execute_result",
          "data": {
            "text/plain": [
              "(1, 2, 3, 4)"
            ]
          },
          "metadata": {
            "tags": []
          },
          "execution_count": 119
        }
      ]
    },
    {
      "cell_type": "code",
      "metadata": {
        "colab": {
          "base_uri": "https://localhost:8080/"
        },
        "id": "uPzkCB410h5u",
        "outputId": "93f3e37c-17ea-4516-92bf-4b20b1030851"
      },
      "source": [
        "type(a)"
      ],
      "execution_count": 120,
      "outputs": [
        {
          "output_type": "execute_result",
          "data": {
            "text/plain": [
              "tuple"
            ]
          },
          "metadata": {
            "tags": []
          },
          "execution_count": 120
        }
      ]
    },
    {
      "cell_type": "code",
      "metadata": {
        "id": "t6VPQIPS0iyr"
      },
      "source": [
        "b=list(a)"
      ],
      "execution_count": 121,
      "outputs": []
    },
    {
      "cell_type": "code",
      "metadata": {
        "colab": {
          "base_uri": "https://localhost:8080/"
        },
        "id": "PfwPnPu20kUf",
        "outputId": "0b0a999b-eb98-488d-83e6-73ad6ab8e131"
      },
      "source": [
        "b"
      ],
      "execution_count": 122,
      "outputs": [
        {
          "output_type": "execute_result",
          "data": {
            "text/plain": [
              "[1, 2, 3, 4]"
            ]
          },
          "metadata": {
            "tags": []
          },
          "execution_count": 122
        }
      ]
    },
    {
      "cell_type": "code",
      "metadata": {
        "colab": {
          "base_uri": "https://localhost:8080/"
        },
        "id": "UhWW-iow0k7n",
        "outputId": "837e23bd-3a6b-4306-e1da-202a5b9e6e5a"
      },
      "source": [
        "type(b)"
      ],
      "execution_count": 123,
      "outputs": [
        {
          "output_type": "execute_result",
          "data": {
            "text/plain": [
              "list"
            ]
          },
          "metadata": {
            "tags": []
          },
          "execution_count": 123
        }
      ]
    },
    {
      "cell_type": "markdown",
      "metadata": {
        "id": "0vZk6gLE0nOR"
      },
      "source": [
        "리스트로 type을 변경하였기 때문에 **요소의 추가 및 삭제가 가능**"
      ]
    },
    {
      "cell_type": "code",
      "metadata": {
        "colab": {
          "base_uri": "https://localhost:8080/"
        },
        "id": "EZIioSMB0sqv",
        "outputId": "df72b4a9-3f4e-446f-f053-c89c6fa2d5a7"
      },
      "source": [
        "b.append(5)\n",
        "b"
      ],
      "execution_count": 125,
      "outputs": [
        {
          "output_type": "execute_result",
          "data": {
            "text/plain": [
              "[1, 2, 3, 4, 5]"
            ]
          },
          "metadata": {
            "tags": []
          },
          "execution_count": 125
        }
      ]
    },
    {
      "cell_type": "code",
      "metadata": {
        "colab": {
          "base_uri": "https://localhost:8080/"
        },
        "id": "TYARutsl0wFE",
        "outputId": "4cf297cd-ffd5-43b7-bef8-3f4cd3a00dfd"
      },
      "source": [
        "b.remove(2)\n",
        "b"
      ],
      "execution_count": 126,
      "outputs": [
        {
          "output_type": "execute_result",
          "data": {
            "text/plain": [
              "[1, 3, 4, 5]"
            ]
          },
          "metadata": {
            "tags": []
          },
          "execution_count": 126
        }
      ]
    },
    {
      "cell_type": "markdown",
      "metadata": {
        "id": "l8IIabgn0yPx"
      },
      "source": [
        "요소를 추가 및 삭제한 후 **다시 tuple로 변경** 가능"
      ]
    },
    {
      "cell_type": "code",
      "metadata": {
        "id": "5CRqmfhl05If"
      },
      "source": [
        "c=tuple(b)"
      ],
      "execution_count": 127,
      "outputs": []
    },
    {
      "cell_type": "code",
      "metadata": {
        "colab": {
          "base_uri": "https://localhost:8080/"
        },
        "id": "cc9C9OCH06gb",
        "outputId": "91aca235-428d-4906-85f7-d5923f45e739"
      },
      "source": [
        "c"
      ],
      "execution_count": 128,
      "outputs": [
        {
          "output_type": "execute_result",
          "data": {
            "text/plain": [
              "(1, 3, 4, 5)"
            ]
          },
          "metadata": {
            "tags": []
          },
          "execution_count": 128
        }
      ]
    },
    {
      "cell_type": "code",
      "metadata": {
        "colab": {
          "base_uri": "https://localhost:8080/"
        },
        "id": "128iQ-tp06yR",
        "outputId": "e9dfbd6c-b4d8-498c-edae-473fba5d2624"
      },
      "source": [
        "type(c)"
      ],
      "execution_count": 129,
      "outputs": [
        {
          "output_type": "execute_result",
          "data": {
            "text/plain": [
              "tuple"
            ]
          },
          "metadata": {
            "tags": []
          },
          "execution_count": 129
        }
      ]
    }
  ]
}
