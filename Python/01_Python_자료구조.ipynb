{
  "nbformat": 4,
  "nbformat_minor": 0,
  "metadata": {
    "colab": {
      "name": "01-Python-자료구조.ipynb",
      "provenance": [],
      "authorship_tag": "ABX9TyMcIukvmjCD//bm9SsSsCew",
      "include_colab_link": true
    },
    "kernelspec": {
      "name": "python3",
      "display_name": "Python 3"
    },
    "language_info": {
      "name": "python"
    }
  },
  "cells": [
    {
      "cell_type": "markdown",
      "metadata": {
        "id": "view-in-github",
        "colab_type": "text"
      },
      "source": [
        "<a href=\"https://colab.research.google.com/github/june050312/2021_SummerStudy_Python-DeepLearning/blob/main/01_Python_%EC%9E%90%EB%A3%8C%EA%B5%AC%EC%A1%B0.ipynb\" target=\"_parent\"><img src=\"https://colab.research.google.com/assets/colab-badge.svg\" alt=\"Open In Colab\"/></a>"
      ]
    },
    {
      "cell_type": "markdown",
      "metadata": {
        "id": "awlU-_pzTmvQ"
      },
      "source": [
        "#파이썬의 철학"
      ]
    },
    {
      "cell_type": "code",
      "metadata": {
        "id": "au4WDpx87lMT",
        "colab": {
          "base_uri": "https://localhost:8080/"
        },
        "outputId": "a1e51fe1-c00d-4eb5-bcf2-5f3c737a8697"
      },
      "source": [
        "import this"
      ],
      "execution_count": null,
      "outputs": [
        {
          "output_type": "stream",
          "text": [
            "The Zen of Python, by Tim Peters\n",
            "\n",
            "Beautiful is better than ugly.\n",
            "Explicit is better than implicit.\n",
            "Simple is better than complex.\n",
            "Complex is better than complicated.\n",
            "Flat is better than nested.\n",
            "Sparse is better than dense.\n",
            "Readability counts.\n",
            "Special cases aren't special enough to break the rules.\n",
            "Although practicality beats purity.\n",
            "Errors should never pass silently.\n",
            "Unless explicitly silenced.\n",
            "In the face of ambiguity, refuse the temptation to guess.\n",
            "There should be one-- and preferably only one --obvious way to do it.\n",
            "Although that way may not be obvious at first unless you're Dutch.\n",
            "Now is better than never.\n",
            "Although never is often better than *right* now.\n",
            "If the implementation is hard to explain, it's a bad idea.\n",
            "If the implementation is easy to explain, it may be a good idea.\n",
            "Namespaces are one honking great idea -- let's do more of those!\n"
          ],
          "name": "stdout"
        }
      ]
    },
    {
      "cell_type": "markdown",
      "metadata": {
        "id": "wLSZmP-b8SRR"
      },
      "source": [
        "#print (출력)"
      ]
    },
    {
      "cell_type": "code",
      "metadata": {
        "colab": {
          "base_uri": "https://localhost:8080/"
        },
        "id": "DC9m2ngJ7nc1",
        "outputId": "0b08ced2-abd5-4aa1-b204-384fc2bebf0b"
      },
      "source": [
        "print('오늘 파이썬 배우기 좋은 날이네!')"
      ],
      "execution_count": null,
      "outputs": [
        {
          "output_type": "stream",
          "text": [
            "오늘 파이썬 배우기 좋은 날이네!\n"
          ],
          "name": "stdout"
        }
      ]
    },
    {
      "cell_type": "code",
      "metadata": {
        "colab": {
          "base_uri": "https://localhost:8080/"
        },
        "id": "pxFZWltb7yL4",
        "outputId": "0c7acc80-a0a4-4cb1-b1b8-3afcdb34fa25"
      },
      "source": [
        "print(\"오늘은\",\"일요일\")"
      ],
      "execution_count": null,
      "outputs": [
        {
          "output_type": "stream",
          "text": [
            "오늘은 일요일\n"
          ],
          "name": "stdout"
        }
      ]
    },
    {
      "cell_type": "code",
      "metadata": {
        "colab": {
          "base_uri": "https://localhost:8080/"
        },
        "id": "jDYwcwCD8Gj3",
        "outputId": "4523cf07-3cd5-4d09-88f1-622cd84e278b"
      },
      "source": [
        "print(1,0,2,5)"
      ],
      "execution_count": null,
      "outputs": [
        {
          "output_type": "stream",
          "text": [
            "1 0 2 5\n"
          ],
          "name": "stdout"
        }
      ]
    },
    {
      "cell_type": "markdown",
      "metadata": {
        "id": "dpZMbwmYUbI5"
      },
      "source": [
        "**Jupyter Notebook** 셀에서 맨 끝에 위치한 변수, 문자열, 숫자 등은 자동으로 출력합니다."
      ]
    },
    {
      "cell_type": "markdown",
      "metadata": {
        "id": "wTPWn_3sUojb"
      },
      "source": [
        "3.14, '안녕', 100 3개의 값 존재, 항상 가장 마지막만 출력"
      ]
    },
    {
      "cell_type": "code",
      "metadata": {
        "colab": {
          "base_uri": "https://localhost:8080/"
        },
        "id": "Cpog2NgDU38y",
        "outputId": "1e4e5f90-f655-40bc-c6c3-fbfa1825150b"
      },
      "source": [
        "3.14\n",
        "'안녕'\n",
        "100"
      ],
      "execution_count": null,
      "outputs": [
        {
          "output_type": "execute_result",
          "data": {
            "text/plain": [
              "100"
            ]
          },
          "metadata": {
            "tags": []
          },
          "execution_count": 2
        }
      ]
    },
    {
      "cell_type": "markdown",
      "metadata": {
        "id": "ztYNizZ_9Noo"
      },
      "source": [
        "#변수 (Variable)"
      ]
    },
    {
      "cell_type": "code",
      "metadata": {
        "id": "3aSOh_8AU-NN"
      },
      "source": [
        "데이터를 담는 그릇"
      ],
      "execution_count": null,
      "outputs": []
    },
    {
      "cell_type": "markdown",
      "metadata": {
        "id": "4aZ8w8AT2LZ6"
      },
      "source": [
        "정수, 긴 글, file 수납가능\n",
        "우리가 재사용 하기 쉽게 별명 지정"
      ]
    },
    {
      "cell_type": "markdown",
      "metadata": {
        "id": "AEH9PbIO2c9c"
      },
      "source": [
        "##변수의 이름 규칙 (Rule)"
      ]
    },
    {
      "cell_type": "markdown",
      "metadata": {
        "id": "JAtolfd02nMh"
      },
      "source": [
        "다음의 **문자** 사용 가능"
      ]
    },
    {
      "cell_type": "markdown",
      "metadata": {
        "id": "XXr7fV-qcDCj"
      },
      "source": [
        "* 소문자(a~z)\n",
        "* 대문자(A~Z)\n",
        "* 숫자(0~9)\n",
        "* 한글\n",
        "* 언더바(_)"
      ]
    },
    {
      "cell_type": "markdown",
      "metadata": {
        "id": "MfspeWfNcXFi"
      },
      "source": [
        "다음의 **규칙**을 가짐"
      ]
    },
    {
      "cell_type": "markdown",
      "metadata": {
        "id": "SsPS3IUCcel-"
      },
      "source": [
        "* 대소 문자 구분\n",
        "* 숫자는 맨 처음 x\n",
        "* 에약어(keyword) 사용 불가 ex)def, if, del, import, return 등"
      ]
    },
    {
      "cell_type": "markdown",
      "metadata": {
        "id": "RTSA6HRVcvhM"
      },
      "source": [
        "case 1. 알파벳/대소문자/한글 (한글은 비추)"
      ]
    },
    {
      "cell_type": "code",
      "metadata": {
        "id": "ATrAHOmzc5SF"
      },
      "source": [
        "a=1"
      ],
      "execution_count": 5,
      "outputs": []
    },
    {
      "cell_type": "code",
      "metadata": {
        "id": "yZNq2Yphc6pm"
      },
      "source": [
        "A=1"
      ],
      "execution_count": 6,
      "outputs": []
    },
    {
      "cell_type": "code",
      "metadata": {
        "id": "UojT-vAIc8Eq"
      },
      "source": [
        "변수=1"
      ],
      "execution_count": 7,
      "outputs": []
    },
    {
      "cell_type": "code",
      "metadata": {
        "colab": {
          "base_uri": "https://localhost:8080/"
        },
        "id": "LMsYB0aqc94W",
        "outputId": "3eb90b4b-2d7b-4be0-ffaa-01127c8feee8"
      },
      "source": [
        "변수"
      ],
      "execution_count": 8,
      "outputs": [
        {
          "output_type": "execute_result",
          "data": {
            "text/plain": [
              "1"
            ]
          },
          "metadata": {
            "tags": []
          },
          "execution_count": 8
        }
      ]
    },
    {
      "cell_type": "markdown",
      "metadata": {
        "id": "y5ql0S5FdQ_N"
      },
      "source": [
        "case 2. 알파벳 + 숫자"
      ]
    },
    {
      "cell_type": "code",
      "metadata": {
        "id": "J3YHXjiDdVhu"
      },
      "source": [
        "a1=1"
      ],
      "execution_count": 9,
      "outputs": []
    },
    {
      "cell_type": "markdown",
      "metadata": {
        "id": "a2qgNtuHdXdN"
      },
      "source": [
        "case 3. 알파벳 + 언더바(_)"
      ]
    },
    {
      "cell_type": "code",
      "metadata": {
        "id": "Xy9z0mxMdder"
      },
      "source": [
        "a_=1"
      ],
      "execution_count": 10,
      "outputs": []
    },
    {
      "cell_type": "markdown",
      "metadata": {
        "id": "o1GaeQDndexw"
      },
      "source": [
        "case 4. 언더바(_) + 알파벳"
      ]
    },
    {
      "cell_type": "code",
      "metadata": {
        "id": "8owcwC-ydkCG"
      },
      "source": [
        "_a=1"
      ],
      "execution_count": 12,
      "outputs": []
    },
    {
      "cell_type": "markdown",
      "metadata": {
        "id": "4w1-3s9Pdnoq"
      },
      "source": [
        "case 5. 숫자 + 알파벳 (불가능)"
      ]
    },
    {
      "cell_type": "code",
      "metadata": {
        "colab": {
          "base_uri": "https://localhost:8080/",
          "height": 136
        },
        "id": "N5vzLyLHdvH2",
        "outputId": "ec1204dc-44b6-4851-9e50-c0a03da6282e"
      },
      "source": [
        "1a=1"
      ],
      "execution_count": 13,
      "outputs": [
        {
          "output_type": "error",
          "ename": "SyntaxError",
          "evalue": "ignored",
          "traceback": [
            "\u001b[0;36m  File \u001b[0;32m\"<ipython-input-13-fbf1bec92ff8>\"\u001b[0;36m, line \u001b[0;32m1\u001b[0m\n\u001b[0;31m    1a=1\u001b[0m\n\u001b[0m     ^\u001b[0m\n\u001b[0;31mSyntaxError\u001b[0m\u001b[0;31m:\u001b[0m invalid syntax\n"
          ]
        }
      ]
    },
    {
      "cell_type": "markdown",
      "metadata": {
        "id": "6l8bWE4tdxE0"
      },
      "source": [
        "case 6. 특수문자 (불가능)"
      ]
    },
    {
      "cell_type": "code",
      "metadata": {
        "colab": {
          "base_uri": "https://localhost:8080/",
          "height": 136
        },
        "id": "HbFZRJQFd1I5",
        "outputId": "dab9d56a-eb5a-4b01-ce2f-693de074730c"
      },
      "source": [
        "*=7"
      ],
      "execution_count": 14,
      "outputs": [
        {
          "output_type": "error",
          "ename": "SyntaxError",
          "evalue": "ignored",
          "traceback": [
            "\u001b[0;36m  File \u001b[0;32m\"<ipython-input-14-e7e5214a9aba>\"\u001b[0;36m, line \u001b[0;32m1\u001b[0m\n\u001b[0;31m    *=7\u001b[0m\n\u001b[0m     ^\u001b[0m\n\u001b[0;31mSyntaxError\u001b[0m\u001b[0;31m:\u001b[0m invalid syntax\n"
          ]
        }
      ]
    },
    {
      "cell_type": "markdown",
      "metadata": {
        "id": "PXfKjKr6d3UC"
      },
      "source": [
        "case 7. 언더바를 제외한 특수문자 (불가능)"
      ]
    },
    {
      "cell_type": "code",
      "metadata": {
        "colab": {
          "base_uri": "https://localhost:8080/",
          "height": 136
        },
        "id": "JakE3wVLd-LR",
        "outputId": "dd4ad4b5-bad0-459f-bf4d-218610bb5e09"
      },
      "source": [
        "a\\=6"
      ],
      "execution_count": 16,
      "outputs": [
        {
          "output_type": "error",
          "ename": "SyntaxError",
          "evalue": "ignored",
          "traceback": [
            "\u001b[0;36m  File \u001b[0;32m\"<ipython-input-16-0e3be52df7be>\"\u001b[0;36m, line \u001b[0;32m1\u001b[0m\n\u001b[0;31m    a\\=6\u001b[0m\n\u001b[0m        ^\u001b[0m\n\u001b[0;31mSyntaxError\u001b[0m\u001b[0;31m:\u001b[0m unexpected character after line continuation character\n"
          ]
        }
      ]
    },
    {
      "cell_type": "markdown",
      "metadata": {
        "id": "lveZqgrqeEPF"
      },
      "source": [
        "case 8. 변수의 이름 사이의 공백 (불가능)"
      ]
    },
    {
      "cell_type": "code",
      "metadata": {
        "colab": {
          "base_uri": "https://localhost:8080/",
          "height": 136
        },
        "id": "zJYW2nvSeBzB",
        "outputId": "663bdf59-df6a-4c53-95d7-e9aa04485a78"
      },
      "source": [
        "a b=6"
      ],
      "execution_count": 17,
      "outputs": [
        {
          "output_type": "error",
          "ename": "SyntaxError",
          "evalue": "ignored",
          "traceback": [
            "\u001b[0;36m  File \u001b[0;32m\"<ipython-input-17-70acafe8f696>\"\u001b[0;36m, line \u001b[0;32m1\u001b[0m\n\u001b[0;31m    a b=6\u001b[0m\n\u001b[0m      ^\u001b[0m\n\u001b[0;31mSyntaxError\u001b[0m\u001b[0;31m:\u001b[0m invalid syntax\n"
          ]
        }
      ]
    },
    {
      "cell_type": "markdown",
      "metadata": {
        "id": "piIocA22eLMs"
      },
      "source": [
        "주로 변수는 **소문자 알파벳으로 생성**, 필요시 **언더바, 숫자**"
      ]
    },
    {
      "cell_type": "code",
      "metadata": {
        "id": "5UXehSOWeSys"
      },
      "source": [
        "test=10"
      ],
      "execution_count": 19,
      "outputs": []
    },
    {
      "cell_type": "code",
      "metadata": {
        "id": "bZemZ55-eWwU"
      },
      "source": [
        "test01=20"
      ],
      "execution_count": 20,
      "outputs": []
    },
    {
      "cell_type": "code",
      "metadata": {
        "id": "a3DhsueJeYPh"
      },
      "source": [
        "test_01=30"
      ],
      "execution_count": 21,
      "outputs": []
    },
    {
      "cell_type": "markdown",
      "metadata": {
        "id": "QD4wBLsn-t4x"
      },
      "source": [
        "#데이터 타입 (Data Type)\n"
      ]
    },
    {
      "cell_type": "markdown",
      "metadata": {
        "id": "BCG9AHe7ef3k"
      },
      "source": [
        "자료형태(자료형), 자료구조라고 불리움"
      ]
    },
    {
      "cell_type": "markdown",
      "metadata": {
        "id": "gwXDbrZ4ekn_"
      },
      "source": [
        "##주요 데이터 타입(type)"
      ]
    },
    {
      "cell_type": "markdown",
      "metadata": {
        "id": "QMi487nEeppR"
      },
      "source": [
        "\n",
        "\n",
        "1. int(정수):integer(정수)의 약어, 정수를 나타냄\n",
        "2. float(실수):Floating point의 약어, 소수점이 있는 숫자를 나타냄\n",
        "3. str(문자열):문자를 나타내는 자료형, 작은 따옴표, 큰 따옴표로 감싸져 있음\n",
        "4. bool(참/거짓):참/거짓을 나타내는 자료형, True, False에서 T와 F는 반드시 대문자 표기\n",
        "\n"
      ]
    },
    {
      "cell_type": "markdown",
      "metadata": {
        "id": "gWe6FvYm-zM4"
      },
      "source": [
        "##type()"
      ]
    },
    {
      "cell_type": "code",
      "metadata": {
        "colab": {
          "base_uri": "https://localhost:8080/"
        },
        "id": "Vp0xPQv5_GcG",
        "outputId": "bf0188d9-a526-4bff-a2e6-44a74945079c"
      },
      "source": [
        "type(1)"
      ],
      "execution_count": null,
      "outputs": [
        {
          "output_type": "execute_result",
          "data": {
            "text/plain": [
              "int"
            ]
          },
          "metadata": {
            "tags": []
          },
          "execution_count": 11
        }
      ]
    },
    {
      "cell_type": "code",
      "metadata": {
        "colab": {
          "base_uri": "https://localhost:8080/"
        },
        "id": "9fMCOt0c_ICH",
        "outputId": "50d6866f-b0fc-4c47-ed09-7762cbbf810a"
      },
      "source": [
        "type(3.14)"
      ],
      "execution_count": null,
      "outputs": [
        {
          "output_type": "execute_result",
          "data": {
            "text/plain": [
              "float"
            ]
          },
          "metadata": {
            "tags": []
          },
          "execution_count": 12
        }
      ]
    },
    {
      "cell_type": "code",
      "metadata": {
        "colab": {
          "base_uri": "https://localhost:8080/"
        },
        "id": "ErkmELLC_KkZ",
        "outputId": "1d843545-6096-4983-e98a-ddd2580b6513"
      },
      "source": [
        "type(\"안녕\")"
      ],
      "execution_count": null,
      "outputs": [
        {
          "output_type": "execute_result",
          "data": {
            "text/plain": [
              "str"
            ]
          },
          "metadata": {
            "tags": []
          },
          "execution_count": 13
        }
      ]
    },
    {
      "cell_type": "code",
      "metadata": {
        "colab": {
          "base_uri": "https://localhost:8080/"
        },
        "id": "0SaI98M5_MsG",
        "outputId": "8f7feafc-6cac-409a-cc7d-9042d0e9e159"
      },
      "source": [
        "type(True)"
      ],
      "execution_count": null,
      "outputs": [
        {
          "output_type": "execute_result",
          "data": {
            "text/plain": [
              "bool"
            ]
          },
          "metadata": {
            "tags": []
          },
          "execution_count": 14
        }
      ]
    },
    {
      "cell_type": "markdown",
      "metadata": {
        "id": "FL2Ljpx__UP3"
      },
      "source": [
        "###int(정수)"
      ]
    },
    {
      "cell_type": "markdown",
      "metadata": {
        "id": "nEuDwyxQfWar"
      },
      "source": [
        "Integer(정수)의 약어, 정수를 나타냄"
      ]
    },
    {
      "cell_type": "code",
      "metadata": {
        "id": "amLPQ49Rfahv"
      },
      "source": [
        "a=1"
      ],
      "execution_count": 22,
      "outputs": []
    },
    {
      "cell_type": "code",
      "metadata": {
        "colab": {
          "base_uri": "https://localhost:8080/"
        },
        "id": "7TJ9TtiTfbj3",
        "outputId": "40113fc3-142a-4aa5-e47a-845804bbb2ee"
      },
      "source": [
        "print(a)"
      ],
      "execution_count": 23,
      "outputs": [
        {
          "output_type": "stream",
          "text": [
            "1\n"
          ],
          "name": "stdout"
        }
      ]
    },
    {
      "cell_type": "markdown",
      "metadata": {
        "id": "Gylcg_lrfcd1"
      },
      "source": [
        "**type 확인**"
      ]
    },
    {
      "cell_type": "code",
      "metadata": {
        "colab": {
          "base_uri": "https://localhost:8080/"
        },
        "id": "p7N8uE1vfqnt",
        "outputId": "0d738933-131e-40a4-b0ab-32dc8906b8c7"
      },
      "source": [
        "type(a)"
      ],
      "execution_count": 25,
      "outputs": [
        {
          "output_type": "execute_result",
          "data": {
            "text/plain": [
              "int"
            ]
          },
          "metadata": {
            "tags": []
          },
          "execution_count": 25
        }
      ]
    },
    {
      "cell_type": "markdown",
      "metadata": {
        "id": "hNRkgMzT_6qX"
      },
      "source": [
        "###float(실수)"
      ]
    },
    {
      "cell_type": "markdown",
      "metadata": {
        "id": "YtKhHGAffvwq"
      },
      "source": [
        "Floating point의 약어, 소수점이 있는 숫자를 나타냄"
      ]
    },
    {
      "cell_type": "code",
      "metadata": {
        "id": "n9lR4cnvf00C"
      },
      "source": [
        "a=3.14"
      ],
      "execution_count": 27,
      "outputs": []
    },
    {
      "cell_type": "code",
      "metadata": {
        "colab": {
          "base_uri": "https://localhost:8080/"
        },
        "id": "GciCCtw7f5uL",
        "outputId": "fd0a84b7-8252-4622-c746-d808ffa6c2f5"
      },
      "source": [
        "print(a)"
      ],
      "execution_count": 28,
      "outputs": [
        {
          "output_type": "stream",
          "text": [
            "3.14\n"
          ],
          "name": "stdout"
        }
      ]
    },
    {
      "cell_type": "markdown",
      "metadata": {
        "id": "ZY1PvLOmf840"
      },
      "source": [
        "**type 확인**"
      ]
    },
    {
      "cell_type": "code",
      "metadata": {
        "colab": {
          "base_uri": "https://localhost:8080/"
        },
        "id": "PMf6fYfRgA0k",
        "outputId": "dd5d5e8b-cf09-4134-e23b-29d3ab4db867"
      },
      "source": [
        "type(a)"
      ],
      "execution_count": 30,
      "outputs": [
        {
          "output_type": "execute_result",
          "data": {
            "text/plain": [
              "float"
            ]
          },
          "metadata": {
            "tags": []
          },
          "execution_count": 30
        }
      ]
    },
    {
      "cell_type": "markdown",
      "metadata": {
        "id": "uCWYkC1VAB5I"
      },
      "source": [
        "###str()"
      ]
    },
    {
      "cell_type": "markdown",
      "metadata": {
        "id": "biFfcDzqgGE3"
      },
      "source": [
        "문자를 나타내는 자료형, 작은 따옴표, 큰 따옴표로 감싸져 있음"
      ]
    },
    {
      "cell_type": "markdown",
      "metadata": {
        "id": "kr9v5rrjgKYJ"
      },
      "source": [
        "**작은 따옴표' '** 사이에 문자 입력"
      ]
    },
    {
      "cell_type": "code",
      "metadata": {
        "id": "i5jncNaZgUGg"
      },
      "source": [
        "word='Hello'"
      ],
      "execution_count": 32,
      "outputs": []
    },
    {
      "cell_type": "code",
      "metadata": {
        "colab": {
          "base_uri": "https://localhost:8080/",
          "height": 35
        },
        "id": "6fJdbioIgXuM",
        "outputId": "4c929af9-f79e-444b-c70c-c3473c50e92a"
      },
      "source": [
        "word"
      ],
      "execution_count": 33,
      "outputs": [
        {
          "output_type": "execute_result",
          "data": {
            "application/vnd.google.colaboratory.intrinsic+json": {
              "type": "string"
            },
            "text/plain": [
              "'Hello'"
            ]
          },
          "metadata": {
            "tags": []
          },
          "execution_count": 33
        }
      ]
    },
    {
      "cell_type": "markdown",
      "metadata": {
        "id": "0I8oJoeggYEL"
      },
      "source": [
        "**type 확인**"
      ]
    },
    {
      "cell_type": "code",
      "metadata": {
        "colab": {
          "base_uri": "https://localhost:8080/"
        },
        "id": "o_rDPOFJgbKx",
        "outputId": "fc5b7023-3382-485a-c1c8-1034b2caacb3"
      },
      "source": [
        "type(word)"
      ],
      "execution_count": 35,
      "outputs": [
        {
          "output_type": "execute_result",
          "data": {
            "text/plain": [
              "str"
            ]
          },
          "metadata": {
            "tags": []
          },
          "execution_count": 35
        }
      ]
    },
    {
      "cell_type": "markdown",
      "metadata": {
        "id": "JW-JHofVgf5D"
      },
      "source": [
        "**큰 따옴표\" \"** 사이에 문자 입력"
      ]
    },
    {
      "cell_type": "code",
      "metadata": {
        "id": "-5KMlZ2cgmv-"
      },
      "source": [
        "word=\"Hello\""
      ],
      "execution_count": 36,
      "outputs": []
    },
    {
      "cell_type": "code",
      "metadata": {
        "colab": {
          "base_uri": "https://localhost:8080/",
          "height": 35
        },
        "id": "a-ONi7Z6gpjr",
        "outputId": "15470aaf-b06c-429c-bb20-5347c31cd6a9"
      },
      "source": [
        "word"
      ],
      "execution_count": 37,
      "outputs": [
        {
          "output_type": "execute_result",
          "data": {
            "application/vnd.google.colaboratory.intrinsic+json": {
              "type": "string"
            },
            "text/plain": [
              "'Hello'"
            ]
          },
          "metadata": {
            "tags": []
          },
          "execution_count": 37
        }
      ]
    },
    {
      "cell_type": "markdown",
      "metadata": {
        "id": "rKmkJWXmgqd0"
      },
      "source": [
        "**여러 줄 입력**"
      ]
    },
    {
      "cell_type": "markdown",
      "metadata": {
        "id": "XBVkOOa-g6Mq"
      },
      "source": [
        "작은 따옴표, 큰 따옴표 3개 연속 사용"
      ]
    },
    {
      "cell_type": "markdown",
      "metadata": {
        "id": "h9ZIC7O4guIs"
      },
      "source": [
        "**작은 따옴표 ''' '''** 3개 연속 사용"
      ]
    },
    {
      "cell_type": "markdown",
      "metadata": {
        "id": "d6kSkQtag26n"
      },
      "source": [
        "**작은 따옴표' '** 사이에 문자 입력"
      ]
    },
    {
      "cell_type": "code",
      "metadata": {
        "id": "yX3RaNc7hmMn"
      },
      "source": [
        "word='''Hello\n",
        "nice\n",
        "to\n",
        "meet\n",
        "you\n",
        "'''"
      ],
      "execution_count": 48,
      "outputs": []
    },
    {
      "cell_type": "code",
      "metadata": {
        "colab": {
          "base_uri": "https://localhost:8080/"
        },
        "id": "-Ve_Pq8-hHdz",
        "outputId": "08d67b02-cc2c-4a09-ce73-9b9153328a3b"
      },
      "source": [
        "print(word)"
      ],
      "execution_count": 49,
      "outputs": [
        {
          "output_type": "stream",
          "text": [
            "Hello\n",
            "nice\n",
            "to\n",
            "meet\n",
            "you\n",
            "\n"
          ],
          "name": "stdout"
        }
      ]
    },
    {
      "cell_type": "markdown",
      "metadata": {
        "id": "a5maNd4nhIwb"
      },
      "source": [
        "**큰 따옴표 \"\"\" \"\"\"** 3개 연속 사용"
      ]
    },
    {
      "cell_type": "code",
      "metadata": {
        "id": "2EIoNIiLhvaQ"
      },
      "source": [
        "word=\"\"\"Hello\n",
        "nice\n",
        "to\n",
        "meet\n",
        "you\n",
        "\"\"\""
      ],
      "execution_count": 50,
      "outputs": []
    },
    {
      "cell_type": "code",
      "metadata": {
        "colab": {
          "base_uri": "https://localhost:8080/"
        },
        "id": "rlsYlo3Qh0UO",
        "outputId": "20ccc907-435a-4115-8041-e528e1fdaaf7"
      },
      "source": [
        "print(word)"
      ],
      "execution_count": 51,
      "outputs": [
        {
          "output_type": "stream",
          "text": [
            "Hello\n",
            "nice\n",
            "to\n",
            "meet\n",
            "you\n",
            "\n"
          ],
          "name": "stdout"
        }
      ]
    },
    {
      "cell_type": "markdown",
      "metadata": {
        "id": "aOUEK8ivh2Z_"
      },
      "source": [
        "**type 확인**"
      ]
    },
    {
      "cell_type": "code",
      "metadata": {
        "colab": {
          "base_uri": "https://localhost:8080/"
        },
        "id": "f061rX-oh7Ba",
        "outputId": "bd7e735b-9b68-4329-fe6a-5d57e61b542b"
      },
      "source": [
        "type(word)"
      ],
      "execution_count": 52,
      "outputs": [
        {
          "output_type": "execute_result",
          "data": {
            "text/plain": [
              "str"
            ]
          },
          "metadata": {
            "tags": []
          },
          "execution_count": 52
        }
      ]
    },
    {
      "cell_type": "markdown",
      "metadata": {
        "id": "0cTZ3QtHAHUJ"
      },
      "source": [
        "###bool(참/거짓)"
      ]
    },
    {
      "cell_type": "markdown",
      "metadata": {
        "id": "bAEMZKqwiCkO"
      },
      "source": [
        "참/거짓을 나타내는 자료형, True, False에서 T와 F는 반드시 대문자 표기"
      ]
    },
    {
      "cell_type": "code",
      "metadata": {
        "id": "hn-6hfCBiKSt"
      },
      "source": [
        "a=False"
      ],
      "execution_count": 53,
      "outputs": []
    },
    {
      "cell_type": "code",
      "metadata": {
        "colab": {
          "base_uri": "https://localhost:8080/"
        },
        "id": "URbb3zbJiMKE",
        "outputId": "6c3dc6b3-0f5c-4938-80ee-fb7ce25ab653"
      },
      "source": [
        "print(a)"
      ],
      "execution_count": 55,
      "outputs": [
        {
          "output_type": "stream",
          "text": [
            "False\n"
          ],
          "name": "stdout"
        }
      ]
    },
    {
      "cell_type": "markdown",
      "metadata": {
        "id": "96jYvMKkiNrB"
      },
      "source": [
        "**type 확인**"
      ]
    },
    {
      "cell_type": "code",
      "metadata": {
        "colab": {
          "base_uri": "https://localhost:8080/"
        },
        "id": "KD4UZe_iiUtK",
        "outputId": "588ba719-0c8a-4d81-9564-c1da708304db"
      },
      "source": [
        "type(False)"
      ],
      "execution_count": 57,
      "outputs": [
        {
          "output_type": "execute_result",
          "data": {
            "text/plain": [
              "bool"
            ]
          },
          "metadata": {
            "tags": []
          },
          "execution_count": 57
        }
      ]
    },
    {
      "cell_type": "markdown",
      "metadata": {
        "id": "DFHLjwIQiXB6"
      },
      "source": [
        "* 정수 1은 True\n",
        "* 정수 0은 False"
      ]
    },
    {
      "cell_type": "markdown",
      "metadata": {
        "id": "EUuhKQ4dijsL"
      },
      "source": [
        "파이썬에서 **\"같다\"** 비교를 **\"==\"** 기호 사용"
      ]
    },
    {
      "cell_type": "code",
      "metadata": {
        "colab": {
          "base_uri": "https://localhost:8080/"
        },
        "id": "I-RHy6S6isqo",
        "outputId": "a34aa6b5-dcf1-4bf3-c55b-91bba244293f"
      },
      "source": [
        "1==True"
      ],
      "execution_count": 58,
      "outputs": [
        {
          "output_type": "execute_result",
          "data": {
            "text/plain": [
              "True"
            ]
          },
          "metadata": {
            "tags": []
          },
          "execution_count": 58
        }
      ]
    },
    {
      "cell_type": "code",
      "metadata": {
        "colab": {
          "base_uri": "https://localhost:8080/"
        },
        "id": "G68_lRVwiu6O",
        "outputId": "6422eca5-cd4a-47ff-c742-287aad65528e"
      },
      "source": [
        "0==False"
      ],
      "execution_count": 62,
      "outputs": [
        {
          "output_type": "execute_result",
          "data": {
            "text/plain": [
              "True"
            ]
          },
          "metadata": {
            "tags": []
          },
          "execution_count": 62
        }
      ]
    },
    {
      "cell_type": "markdown",
      "metadata": {
        "id": "hS1HPsAsjHrL"
      },
      "source": [
        "**type 확인**"
      ]
    },
    {
      "cell_type": "code",
      "metadata": {
        "colab": {
          "base_uri": "https://localhost:8080/"
        },
        "id": "TwckeUoojJeg",
        "outputId": "9d4440b0-9ed4-47a5-ed3a-61f3354ab4b3"
      },
      "source": [
        "type(True)"
      ],
      "execution_count": 64,
      "outputs": [
        {
          "output_type": "execute_result",
          "data": {
            "text/plain": [
              "bool"
            ]
          },
          "metadata": {
            "tags": []
          },
          "execution_count": 64
        }
      ]
    },
    {
      "cell_type": "markdown",
      "metadata": {
        "id": "O6pA0SCLAJ55"
      },
      "source": [
        "###아무것도 아닌 None 타입"
      ]
    },
    {
      "cell_type": "markdown",
      "metadata": {
        "id": "rjKQSU2wjOWb"
      },
      "source": [
        "말 그대로 아무것도 아닌 **Null** 값"
      ]
    },
    {
      "cell_type": "markdown",
      "metadata": {
        "id": "mQfv4pYFjSxv"
      },
      "source": [
        "파이썬에서는 **None**"
      ]
    },
    {
      "cell_type": "code",
      "metadata": {
        "id": "XHUKGybCje4r"
      },
      "source": [
        "a=None"
      ],
      "execution_count": 68,
      "outputs": []
    },
    {
      "cell_type": "code",
      "metadata": {
        "colab": {
          "base_uri": "https://localhost:8080/"
        },
        "id": "mw1DY9h_jokT",
        "outputId": "7f4e1671-812d-4623-860c-d56379f32460"
      },
      "source": [
        "print(a)"
      ],
      "execution_count": 69,
      "outputs": [
        {
          "output_type": "stream",
          "text": [
            "None\n"
          ],
          "name": "stdout"
        }
      ]
    },
    {
      "cell_type": "markdown",
      "metadata": {
        "id": "hr-6YC8qjim_"
      },
      "source": [
        "**type 확인**"
      ]
    },
    {
      "cell_type": "code",
      "metadata": {
        "colab": {
          "base_uri": "https://localhost:8080/"
        },
        "id": "gs8N0_LOjkb4",
        "outputId": "25ecafb9-0a3e-4c10-ef96-20b97e46c186"
      },
      "source": [
        "type(a)"
      ],
      "execution_count": 70,
      "outputs": [
        {
          "output_type": "execute_result",
          "data": {
            "text/plain": [
              "NoneType"
            ]
          },
          "metadata": {
            "tags": []
          },
          "execution_count": 70
        }
      ]
    },
    {
      "cell_type": "markdown",
      "metadata": {
        "id": "3pICRqhHASAu"
      },
      "source": [
        "###타입 변환"
      ]
    },
    {
      "cell_type": "markdown",
      "metadata": {
        "id": "i4d3S06-juyr"
      },
      "source": [
        "int -> float"
      ]
    },
    {
      "cell_type": "code",
      "metadata": {
        "id": "31QlXNQWjyHi"
      },
      "source": [
        "a=1"
      ],
      "execution_count": 71,
      "outputs": []
    },
    {
      "cell_type": "code",
      "metadata": {
        "colab": {
          "base_uri": "https://localhost:8080/"
        },
        "id": "VT5gxb5Mjz4k",
        "outputId": "1a34dc40-941d-4187-928d-163b33a51f65"
      },
      "source": [
        "type(a)"
      ],
      "execution_count": 72,
      "outputs": [
        {
          "output_type": "execute_result",
          "data": {
            "text/plain": [
              "int"
            ]
          },
          "metadata": {
            "tags": []
          },
          "execution_count": 72
        }
      ]
    },
    {
      "cell_type": "code",
      "metadata": {
        "colab": {
          "base_uri": "https://localhost:8080/"
        },
        "id": "yBX-QbP3j05S",
        "outputId": "658bf4f3-cfd5-4344-bba5-41afa2dedaa1"
      },
      "source": [
        "float(a)"
      ],
      "execution_count": 73,
      "outputs": [
        {
          "output_type": "execute_result",
          "data": {
            "text/plain": [
              "1.0"
            ]
          },
          "metadata": {
            "tags": []
          },
          "execution_count": 73
        }
      ]
    },
    {
      "cell_type": "markdown",
      "metadata": {
        "id": "V98oKCusj2hk"
      },
      "source": [
        "float -> int"
      ]
    },
    {
      "cell_type": "markdown",
      "metadata": {
        "id": "egjnc7a4j6a3"
      },
      "source": [
        "* float을 int로 변환시 버림 (소수점 이하 절삭)"
      ]
    },
    {
      "cell_type": "code",
      "metadata": {
        "id": "kNhoo4NokBxI"
      },
      "source": [
        "b=3.99"
      ],
      "execution_count": 74,
      "outputs": []
    },
    {
      "cell_type": "code",
      "metadata": {
        "colab": {
          "base_uri": "https://localhost:8080/"
        },
        "id": "dvkc2lUbkDdV",
        "outputId": "e15ab4a4-98a0-4f0c-a052-1d94f2daf27e"
      },
      "source": [
        "int(b)"
      ],
      "execution_count": 75,
      "outputs": [
        {
          "output_type": "execute_result",
          "data": {
            "text/plain": [
              "3"
            ]
          },
          "metadata": {
            "tags": []
          },
          "execution_count": 75
        }
      ]
    },
    {
      "cell_type": "markdown",
      "metadata": {
        "id": "OzKk1kp5kEr8"
      },
      "source": [
        "bool -> int"
      ]
    },
    {
      "cell_type": "code",
      "metadata": {
        "id": "OxsUBlErkIL7"
      },
      "source": [
        "c=True"
      ],
      "execution_count": 77,
      "outputs": []
    },
    {
      "cell_type": "code",
      "metadata": {
        "colab": {
          "base_uri": "https://localhost:8080/"
        },
        "id": "7llKQ1hjkK-Z",
        "outputId": "254eb76e-3f4c-4b21-a190-2d83499fbca0"
      },
      "source": [
        "int(c)"
      ],
      "execution_count": 78,
      "outputs": [
        {
          "output_type": "execute_result",
          "data": {
            "text/plain": [
              "1"
            ]
          },
          "metadata": {
            "tags": []
          },
          "execution_count": 78
        }
      ]
    },
    {
      "cell_type": "code",
      "metadata": {
        "id": "YfJU2eq8kJVF"
      },
      "source": [
        "d=False"
      ],
      "execution_count": 79,
      "outputs": []
    },
    {
      "cell_type": "code",
      "metadata": {
        "colab": {
          "base_uri": "https://localhost:8080/"
        },
        "id": "R35DAJvykOgr",
        "outputId": "2192a591-9d74-418e-f194-f56341cc4401"
      },
      "source": [
        "int(d)"
      ],
      "execution_count": 80,
      "outputs": [
        {
          "output_type": "execute_result",
          "data": {
            "text/plain": [
              "0"
            ]
          },
          "metadata": {
            "tags": []
          },
          "execution_count": 80
        }
      ]
    },
    {
      "cell_type": "markdown",
      "metadata": {
        "id": "866dcNmhkPVB"
      },
      "source": [
        "bool -> float"
      ]
    },
    {
      "cell_type": "code",
      "metadata": {
        "colab": {
          "base_uri": "https://localhost:8080/"
        },
        "id": "IZ2hq1UqkR3E",
        "outputId": "7a4b91f4-3c84-4abc-9e44-66b9c1530f7e"
      },
      "source": [
        "float(True)"
      ],
      "execution_count": 81,
      "outputs": [
        {
          "output_type": "execute_result",
          "data": {
            "text/plain": [
              "1.0"
            ]
          },
          "metadata": {
            "tags": []
          },
          "execution_count": 81
        }
      ]
    },
    {
      "cell_type": "markdown",
      "metadata": {
        "id": "ZPGXpWjckVJf"
      },
      "source": [
        "파이썬에서 **0이 아닌 값은 모두 True로 간주**"
      ]
    },
    {
      "cell_type": "code",
      "metadata": {
        "colab": {
          "base_uri": "https://localhost:8080/"
        },
        "id": "0-XSnwK7kaB1",
        "outputId": "3d2eee4f-8418-4291-82d2-357a8568425f"
      },
      "source": [
        "bool(1)"
      ],
      "execution_count": 82,
      "outputs": [
        {
          "output_type": "execute_result",
          "data": {
            "text/plain": [
              "True"
            ]
          },
          "metadata": {
            "tags": []
          },
          "execution_count": 82
        }
      ]
    },
    {
      "cell_type": "code",
      "metadata": {
        "colab": {
          "base_uri": "https://localhost:8080/"
        },
        "id": "mv0lrS5TkbIz",
        "outputId": "3f72e80c-ef3e-44ce-eef6-130e53dce0b0"
      },
      "source": [
        "bool(-19)"
      ],
      "execution_count": 83,
      "outputs": [
        {
          "output_type": "execute_result",
          "data": {
            "text/plain": [
              "True"
            ]
          },
          "metadata": {
            "tags": []
          },
          "execution_count": 83
        }
      ]
    },
    {
      "cell_type": "code",
      "metadata": {
        "colab": {
          "base_uri": "https://localhost:8080/"
        },
        "id": "3po02tAckcWP",
        "outputId": "e99c2c52-af44-4db1-be93-c4e6a42076b3"
      },
      "source": [
        "bool(3.16)"
      ],
      "execution_count": 84,
      "outputs": [
        {
          "output_type": "execute_result",
          "data": {
            "text/plain": [
              "True"
            ]
          },
          "metadata": {
            "tags": []
          },
          "execution_count": 84
        }
      ]
    },
    {
      "cell_type": "code",
      "metadata": {
        "colab": {
          "base_uri": "https://localhost:8080/"
        },
        "id": "hiAAFT8gkdnj",
        "outputId": "1f161af5-15e3-4147-95aa-3729f906314e"
      },
      "source": [
        "bool(0)"
      ],
      "execution_count": 87,
      "outputs": [
        {
          "output_type": "execute_result",
          "data": {
            "text/plain": [
              "False"
            ]
          },
          "metadata": {
            "tags": []
          },
          "execution_count": 87
        }
      ]
    },
    {
      "cell_type": "code",
      "metadata": {
        "colab": {
          "base_uri": "https://localhost:8080/"
        },
        "id": "i3Sl8pG0kfL3",
        "outputId": "9897c091-a047-43ff-d438-09c676df34c9"
      },
      "source": [
        "bool(0.0)"
      ],
      "execution_count": 86,
      "outputs": [
        {
          "output_type": "execute_result",
          "data": {
            "text/plain": [
              "False"
            ]
          },
          "metadata": {
            "tags": []
          },
          "execution_count": 86
        }
      ]
    }
  ]
}
