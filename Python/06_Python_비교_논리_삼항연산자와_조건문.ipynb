{
  "nbformat": 4,
  "nbformat_minor": 0,
  "metadata": {
    "colab": {
      "name": "06-Python-비교/논리/삼항연산자와 조건문.ipynb",
      "provenance": [],
      "authorship_tag": "ABX9TyPR8O5xXlVBtdvXoPPphj12",
      "include_colab_link": true
    },
    "kernelspec": {
      "name": "python3",
      "display_name": "Python 3"
    },
    "language_info": {
      "name": "python"
    }
  },
  "cells": [
    {
      "cell_type": "markdown",
      "metadata": {
        "id": "view-in-github",
        "colab_type": "text"
      },
      "source": [
        "<a href=\"https://colab.research.google.com/github/june050312/2021_SummerStudy_Python-DeepLearning/blob/main/06_Python_%EB%B9%84%EA%B5%90_%EB%85%BC%EB%A6%AC_%EC%82%BC%ED%95%AD%EC%97%B0%EC%82%B0%EC%9E%90%EC%99%80_%EC%A1%B0%EA%B1%B4%EB%AC%B8.ipynb\" target=\"_parent\"><img src=\"https://colab.research.google.com/assets/colab-badge.svg\" alt=\"Open In Colab\"/></a>"
      ]
    },
    {
      "cell_type": "markdown",
      "metadata": {
        "id": "XF8uz9C9qMoB"
      },
      "source": [
        "#비교연산자"
      ]
    },
    {
      "cell_type": "markdown",
      "metadata": {
        "id": "gWSXW7RdspC7"
      },
      "source": [
        "- 비교연산자는 주로 대소비교를 할 때 사용"
      ]
    },
    {
      "cell_type": "markdown",
      "metadata": {
        "id": "JLnj5Ay8ssBY"
      },
      "source": [
        "##대소비교"
      ]
    },
    {
      "cell_type": "markdown",
      "metadata": {
        "id": "pp1zTOLxsvDL"
      },
      "source": [
        "- `>`:크다\n",
        "- `>`=:크거나 같다\n",
        "- `<`:작다\n",
        "- `<`=:작거나 같다"
      ]
    },
    {
      "cell_type": "code",
      "metadata": {
        "colab": {
          "base_uri": "https://localhost:8080/"
        },
        "id": "6yRVCN5Bs2Bx",
        "outputId": "594e7f59-1e02-4597-bbd7-b0f1b3b1d007"
      },
      "source": [
        "1>2"
      ],
      "execution_count": 1,
      "outputs": [
        {
          "output_type": "execute_result",
          "data": {
            "text/plain": [
              "False"
            ]
          },
          "metadata": {},
          "execution_count": 1
        }
      ]
    },
    {
      "cell_type": "code",
      "metadata": {
        "colab": {
          "base_uri": "https://localhost:8080/"
        },
        "id": "2WAfFOYds_JT",
        "outputId": "d71b7161-7fb3-478f-99be-9f5cc904d4de"
      },
      "source": [
        "10>=10"
      ],
      "execution_count": 2,
      "outputs": [
        {
          "output_type": "execute_result",
          "data": {
            "text/plain": [
              "True"
            ]
          },
          "metadata": {},
          "execution_count": 2
        }
      ]
    },
    {
      "cell_type": "code",
      "metadata": {
        "colab": {
          "base_uri": "https://localhost:8080/"
        },
        "id": "5EhTqtrZtA9b",
        "outputId": "9c4f5e0a-5b50-4a88-f119-46af8e2b0b35"
      },
      "source": [
        "9<10"
      ],
      "execution_count": 3,
      "outputs": [
        {
          "output_type": "execute_result",
          "data": {
            "text/plain": [
              "True"
            ]
          },
          "metadata": {},
          "execution_count": 3
        }
      ]
    },
    {
      "cell_type": "code",
      "metadata": {
        "colab": {
          "base_uri": "https://localhost:8080/"
        },
        "id": "HwXaRjeXtB9l",
        "outputId": "2b0bbafa-284a-42eb-a62c-c184567f63be"
      },
      "source": [
        "8<=7"
      ],
      "execution_count": 4,
      "outputs": [
        {
          "output_type": "execute_result",
          "data": {
            "text/plain": [
              "False"
            ]
          },
          "metadata": {},
          "execution_count": 4
        }
      ]
    },
    {
      "cell_type": "markdown",
      "metadata": {
        "id": "DLBgkSL7tDOV"
      },
      "source": [
        "##같다와 같지 않다"
      ]
    },
    {
      "cell_type": "markdown",
      "metadata": {
        "id": "7T-t54q7uylV"
      },
      "source": [
        "###==:같음을 비교"
      ]
    },
    {
      "cell_type": "markdown",
      "metadata": {
        "id": "J73z2Eg-u5Os"
      },
      "source": [
        "- =는 대입 연산자\n",
        "- 코딩에서 =이 대입 연산자로 이용되기 때문에 ==를 사용"
      ]
    },
    {
      "cell_type": "code",
      "metadata": {
        "id": "9lAtrib0vCM0",
        "colab": {
          "base_uri": "https://localhost:8080/",
          "height": 134
        },
        "outputId": "035ea973-2919-4b7f-e0df-2a819bd304b2"
      },
      "source": [
        "2=2"
      ],
      "execution_count": 5,
      "outputs": [
        {
          "output_type": "error",
          "ename": "SyntaxError",
          "evalue": "ignored",
          "traceback": [
            "\u001b[0;36m  File \u001b[0;32m\"<ipython-input-5-f987af612b42>\"\u001b[0;36m, line \u001b[0;32m1\u001b[0m\n\u001b[0;31m    2=2\u001b[0m\n\u001b[0m       ^\u001b[0m\n\u001b[0;31mSyntaxError\u001b[0m\u001b[0;31m:\u001b[0m can't assign to literal\n"
          ]
        }
      ]
    },
    {
      "cell_type": "code",
      "metadata": {
        "colab": {
          "base_uri": "https://localhost:8080/"
        },
        "id": "Daejl8ILvDxy",
        "outputId": "b092dab6-78b9-486a-f69b-25a2564aae13"
      },
      "source": [
        "2==2"
      ],
      "execution_count": 6,
      "outputs": [
        {
          "output_type": "execute_result",
          "data": {
            "text/plain": [
              "True"
            ]
          },
          "metadata": {},
          "execution_count": 6
        }
      ]
    },
    {
      "cell_type": "code",
      "metadata": {
        "colab": {
          "base_uri": "https://localhost:8080/"
        },
        "id": "ZpZig1UpvFK3",
        "outputId": "7881293a-953d-4286-84f0-9f8ad248d804"
      },
      "source": [
        "2==3"
      ],
      "execution_count": 7,
      "outputs": [
        {
          "output_type": "execute_result",
          "data": {
            "text/plain": [
              "False"
            ]
          },
          "metadata": {},
          "execution_count": 7
        }
      ]
    },
    {
      "cell_type": "markdown",
      "metadata": {
        "id": "xRPvuK7uvGM_"
      },
      "source": [
        "###!=:같지 않음을 비교"
      ]
    },
    {
      "cell_type": "code",
      "metadata": {
        "colab": {
          "base_uri": "https://localhost:8080/"
        },
        "id": "7VRhsjBvvN83",
        "outputId": "60d81c8a-5d8b-4216-8d04-8f6779890a1b"
      },
      "source": [
        "2!=2"
      ],
      "execution_count": 8,
      "outputs": [
        {
          "output_type": "execute_result",
          "data": {
            "text/plain": [
              "False"
            ]
          },
          "metadata": {},
          "execution_count": 8
        }
      ]
    },
    {
      "cell_type": "code",
      "metadata": {
        "colab": {
          "base_uri": "https://localhost:8080/"
        },
        "id": "XM1kqSx7vPtB",
        "outputId": "09b804e5-2a1e-4234-e6a1-5823b815fc70"
      },
      "source": [
        "1!=2"
      ],
      "execution_count": 9,
      "outputs": [
        {
          "output_type": "execute_result",
          "data": {
            "text/plain": [
              "True"
            ]
          },
          "metadata": {},
          "execution_count": 9
        }
      ]
    },
    {
      "cell_type": "code",
      "metadata": {
        "colab": {
          "base_uri": "https://localhost:8080/"
        },
        "id": "Md0M29jAvRFz",
        "outputId": "0144e551-415d-4acc-d7fa-0d509734bafb"
      },
      "source": [
        "'나'!='너'"
      ],
      "execution_count": 10,
      "outputs": [
        {
          "output_type": "execute_result",
          "data": {
            "text/plain": [
              "True"
            ]
          },
          "metadata": {},
          "execution_count": 10
        }
      ]
    },
    {
      "cell_type": "code",
      "metadata": {
        "colab": {
          "base_uri": "https://localhost:8080/"
        },
        "id": "z02vSKIzvTRC",
        "outputId": "15f0b265-16ce-490a-e936-2661ddcaf463"
      },
      "source": [
        "'나'!='나'"
      ],
      "execution_count": 11,
      "outputs": [
        {
          "output_type": "execute_result",
          "data": {
            "text/plain": [
              "False"
            ]
          },
          "metadata": {},
          "execution_count": 11
        }
      ]
    },
    {
      "cell_type": "markdown",
      "metadata": {
        "id": "sE8gZGRXvVi5"
      },
      "source": [
        "##조건문"
      ]
    },
    {
      "cell_type": "markdown",
      "metadata": {
        "id": "c5oJgJkyvZBb"
      },
      "source": [
        "주어진 조건이 참인 경우 내가 정한 규칙을 실행하는 개념"
      ]
    },
    {
      "cell_type": "markdown",
      "metadata": {
        "id": "H-WENRSrvgDM"
      },
      "source": [
        "###if"
      ]
    },
    {
      "cell_type": "markdown",
      "metadata": {
        "id": "Rl5dH2PAvmbh"
      },
      "source": [
        "- if는 어떤 조건이 성립한다면~ 이라는 뜻\n",
        "- if구문 끝에는 반드시 콜론(:)"
      ]
    },
    {
      "cell_type": "code",
      "metadata": {
        "colab": {
          "base_uri": "https://localhost:8080/"
        },
        "id": "a8eq-GKTvsC_",
        "outputId": "c5430957-312a-4f69-af89-7e896964bfe2"
      },
      "source": [
        "if 5>3:\n",
        "  print('참')"
      ],
      "execution_count": 14,
      "outputs": [
        {
          "output_type": "stream",
          "text": [
            "참\n"
          ],
          "name": "stdout"
        }
      ]
    },
    {
      "cell_type": "code",
      "metadata": {
        "colab": {
          "base_uri": "https://localhost:8080/"
        },
        "id": "fD41Tx_gvuO0",
        "outputId": "90bd2fe9-5a9a-4028-9976-ed3519b73515"
      },
      "source": [
        "if 5<3:\n",
        "  print('참')\n",
        "  print('참')\n",
        "  print('참')\n",
        "  print('참')\n",
        "  print('참')\n",
        "\n",
        "print('끝')"
      ],
      "execution_count": 15,
      "outputs": [
        {
          "output_type": "stream",
          "text": [
            "끝\n"
          ],
          "name": "stdout"
        }
      ]
    },
    {
      "cell_type": "code",
      "metadata": {
        "id": "TkfHHPecv3NC"
      },
      "source": [
        "if 5<3:\n",
        "  print('참')"
      ],
      "execution_count": 16,
      "outputs": []
    },
    {
      "cell_type": "markdown",
      "metadata": {
        "id": "rE-Dxq3Vv7W6"
      },
      "source": [
        "###else"
      ]
    },
    {
      "cell_type": "markdown",
      "metadata": {
        "id": "ckmP2nYdv-C4"
      },
      "source": [
        "else는 if 조건 후 따라옴, if가 거짓일 경우 실행"
      ]
    },
    {
      "cell_type": "code",
      "metadata": {
        "colab": {
          "base_uri": "https://localhost:8080/"
        },
        "id": "BoSIDlqEwDYI",
        "outputId": "608aa962-f61e-4d47-8a2f-2e14268c8990"
      },
      "source": [
        "if 5<3:\n",
        "  print('if 구문 실행')\n",
        "else:\n",
        "  print('else 구문 실행')"
      ],
      "execution_count": 17,
      "outputs": [
        {
          "output_type": "stream",
          "text": [
            "else 구문 실행\n"
          ],
          "name": "stdout"
        }
      ]
    },
    {
      "cell_type": "markdown",
      "metadata": {
        "id": "7418R7RowJhP"
      },
      "source": [
        "else 단독 실행의 경우 오류 발생"
      ]
    },
    {
      "cell_type": "code",
      "metadata": {
        "colab": {
          "base_uri": "https://localhost:8080/",
          "height": 134
        },
        "id": "gv2fER0XyxPI",
        "outputId": "80e428ac-7ad3-4f48-8836-c5f0b2502334"
      },
      "source": [
        "else:\n",
        "  print('else 구문 실행')"
      ],
      "execution_count": 18,
      "outputs": [
        {
          "output_type": "error",
          "ename": "SyntaxError",
          "evalue": "ignored",
          "traceback": [
            "\u001b[0;36m  File \u001b[0;32m\"<ipython-input-18-f940342b0f6e>\"\u001b[0;36m, line \u001b[0;32m1\u001b[0m\n\u001b[0;31m    else:\u001b[0m\n\u001b[0m       ^\u001b[0m\n\u001b[0;31mSyntaxError\u001b[0m\u001b[0;31m:\u001b[0m invalid syntax\n"
          ]
        }
      ]
    },
    {
      "cell_type": "markdown",
      "metadata": {
        "id": "BOMuqkpgyz6T"
      },
      "source": [
        "###elif"
      ]
    },
    {
      "cell_type": "markdown",
      "metadata": {
        "id": "vHYsz9EF2KnZ"
      },
      "source": [
        "elif 구문은 3가지 조건의 동작을 수행할 때 사용"
      ]
    },
    {
      "cell_type": "code",
      "metadata": {
        "colab": {
          "base_uri": "https://localhost:8080/"
        },
        "id": "Hdaerf_m2O9W",
        "outputId": "a33ae857-434d-4e7d-cab2-a32d08a8fd9f"
      },
      "source": [
        "if 3>5:\n",
        "  print('if 구문')\n",
        "elif 3<4:\n",
        "  print('elif 구문')\n",
        "else:\n",
        "  print('else 구문')"
      ],
      "execution_count": 20,
      "outputs": [
        {
          "output_type": "stream",
          "text": [
            "elif 구문\n"
          ],
          "name": "stdout"
        }
      ]
    },
    {
      "cell_type": "markdown",
      "metadata": {
        "id": "Qa3d19DU2Z79"
      },
      "source": [
        "elif 구문이 참인 여러 구문을 나열할 경우"
      ]
    },
    {
      "cell_type": "code",
      "metadata": {
        "colab": {
          "base_uri": "https://localhost:8080/"
        },
        "id": "CDH7D75R2kHq",
        "outputId": "67066744-acd2-458e-9a36-ba51988ccb56"
      },
      "source": [
        "if 3>5:\n",
        "  print('if 구문')\n",
        "elif 3>4:\n",
        "  print('elif 1 구문')\n",
        "elif 3>5:\n",
        "  print('elif 2 구문')\n",
        "elif 3<6:\n",
        "  print('elif 3 구문')\n",
        "else:\n",
        "  print('else 구문')"
      ],
      "execution_count": 22,
      "outputs": [
        {
          "output_type": "stream",
          "text": [
            "elif 3 구문\n"
          ],
          "name": "stdout"
        }
      ]
    },
    {
      "cell_type": "markdown",
      "metadata": {
        "id": "yMHmBXju5AZ7"
      },
      "source": [
        "####1, 0은 참, 거짓 표현"
      ]
    },
    {
      "cell_type": "code",
      "metadata": {
        "colab": {
          "base_uri": "https://localhost:8080/"
        },
        "id": "Becc14mn_AGY",
        "outputId": "c77cd163-d97e-4299-be92-567b5f788a2b"
      },
      "source": [
        "if 1:\n",
        "  print('참')\n",
        "else:\n",
        "  print('거짓')"
      ],
      "execution_count": 26,
      "outputs": [
        {
          "output_type": "stream",
          "text": [
            "참\n"
          ],
          "name": "stdout"
        }
      ]
    },
    {
      "cell_type": "code",
      "metadata": {
        "colab": {
          "base_uri": "https://localhost:8080/"
        },
        "id": "gsnx69IW_GTo",
        "outputId": "dd5a7c61-00da-4bf7-92a6-ab01cf090886"
      },
      "source": [
        "if 0:\n",
        "  print('참')\n",
        "else:\n",
        "  print('거짓')"
      ],
      "execution_count": 27,
      "outputs": [
        {
          "output_type": "stream",
          "text": [
            "거짓\n"
          ],
          "name": "stdout"
        }
      ]
    },
    {
      "cell_type": "markdown",
      "metadata": {
        "id": "5iejgMsE_MjN"
      },
      "source": [
        "###삼항연산자"
      ]
    },
    {
      "cell_type": "markdown",
      "metadata": {
        "id": "rrztM0P5_UM0"
      },
      "source": [
        "(참인 값) if 조건 else (거짓인경우 값)"
      ]
    },
    {
      "cell_type": "markdown",
      "metadata": {
        "id": "Rnog0rXu_bDB"
      },
      "source": [
        "삼항연산자는 파이썬 문법에서 흔히 볼 수 있는 연산자, 조건에 대한 참인 경우의 값 그렇지 않은 경우의 값을 뒤에 지정"
      ]
    },
    {
      "cell_type": "code",
      "metadata": {
        "colab": {
          "base_uri": "https://localhost:8080/",
          "height": 34
        },
        "id": "-EYMDWiA_kJE",
        "outputId": "df52810f-f608-4207-e973-02d631361500"
      },
      "source": [
        "age=35\n",
        "\"30세 이상입니다.\" if age>=30 else \"30세 이하입니다.\""
      ],
      "execution_count": 30,
      "outputs": [
        {
          "output_type": "execute_result",
          "data": {
            "application/vnd.google.colaboratory.intrinsic+json": {
              "type": "string"
            },
            "text/plain": [
              "'30세 이상입니다.'"
            ]
          },
          "metadata": {},
          "execution_count": 30
        }
      ]
    },
    {
      "cell_type": "code",
      "metadata": {
        "colab": {
          "base_uri": "https://localhost:8080/",
          "height": 34
        },
        "id": "KVE8KMfM_r1P",
        "outputId": "4ae8552d-91cd-4eb8-ff50-21ba48994cc5"
      },
      "source": [
        "age=20\n",
        "\"30세 이상입니다.\" if age>=30 else \"30세 이하입니다.\""
      ],
      "execution_count": 31,
      "outputs": [
        {
          "output_type": "execute_result",
          "data": {
            "application/vnd.google.colaboratory.intrinsic+json": {
              "type": "string"
            },
            "text/plain": [
              "'30세 이하입니다.'"
            ]
          },
          "metadata": {},
          "execution_count": 31
        }
      ]
    },
    {
      "cell_type": "markdown",
      "metadata": {
        "id": "2jOUdLrE_vHI"
      },
      "source": [
        "##논리연산자"
      ]
    },
    {
      "cell_type": "markdown",
      "metadata": {
        "id": "VjDxhl4__0o-"
      },
      "source": [
        "and, or 조건은 두 가지 이상 조건을 다룰 때 사용"
      ]
    },
    {
      "cell_type": "markdown",
      "metadata": {
        "id": "Ge7AteD5_8y6"
      },
      "source": [
        "###and"
      ]
    },
    {
      "cell_type": "markdown",
      "metadata": {
        "id": "z6lv37sl_99G"
      },
      "source": [
        "- and 조건은 모두 만족할 때 참으로 인식"
      ]
    },
    {
      "cell_type": "code",
      "metadata": {
        "colab": {
          "base_uri": "https://localhost:8080/"
        },
        "id": "pZGwEbCoAA-m",
        "outputId": "9194f5f6-b072-4a51-cf89-03144f59a616"
      },
      "source": [
        "True and True and True"
      ],
      "execution_count": 33,
      "outputs": [
        {
          "output_type": "execute_result",
          "data": {
            "text/plain": [
              "True"
            ]
          },
          "metadata": {},
          "execution_count": 33
        }
      ]
    },
    {
      "cell_type": "code",
      "metadata": {
        "colab": {
          "base_uri": "https://localhost:8080/"
        },
        "id": "z8H3e1omAD54",
        "outputId": "80b0aa62-4fb0-4158-c8d0-4aeb5a91dc55"
      },
      "source": [
        "True and True and False"
      ],
      "execution_count": 34,
      "outputs": [
        {
          "output_type": "execute_result",
          "data": {
            "text/plain": [
              "False"
            ]
          },
          "metadata": {},
          "execution_count": 34
        }
      ]
    },
    {
      "cell_type": "code",
      "metadata": {
        "colab": {
          "base_uri": "https://localhost:8080/"
        },
        "id": "qB7wZ-S2AGWx",
        "outputId": "ee0e3e00-e6bb-4d2e-b9e8-ce2ac6f0ed91"
      },
      "source": [
        "if (0<1) and (0<2):\n",
        "  print('모두 참')\n",
        "else:\n",
        " print('허참')"
      ],
      "execution_count": 35,
      "outputs": [
        {
          "output_type": "stream",
          "text": [
            "모두 참\n"
          ],
          "name": "stdout"
        }
      ]
    },
    {
      "cell_type": "code",
      "metadata": {
        "colab": {
          "base_uri": "https://localhost:8080/"
        },
        "id": "DMjm9O-uAQUv",
        "outputId": "17555a9b-786e-452f-a80c-680b37d713c5"
      },
      "source": [
        "if (0<1) and (0>2):\n",
        "  print('모두 참')\n",
        "else:\n",
        " print('허참')"
      ],
      "execution_count": 36,
      "outputs": [
        {
          "output_type": "stream",
          "text": [
            "허참\n"
          ],
          "name": "stdout"
        }
      ]
    },
    {
      "cell_type": "markdown",
      "metadata": {
        "id": "Txns1CbqASZV"
      },
      "source": [
        "###or"
      ]
    },
    {
      "cell_type": "markdown",
      "metadata": {
        "id": "ZnDy4iTxAUF3"
      },
      "source": [
        "- or 조건은 조건 중 하나라도 만족할 때 참으로 인식"
      ]
    },
    {
      "cell_type": "code",
      "metadata": {
        "colab": {
          "base_uri": "https://localhost:8080/"
        },
        "id": "EBsHiXaIAZwC",
        "outputId": "bde1ef34-d290-4091-a2b4-248549c11ac1"
      },
      "source": [
        "True or False or False"
      ],
      "execution_count": 37,
      "outputs": [
        {
          "output_type": "execute_result",
          "data": {
            "text/plain": [
              "True"
            ]
          },
          "metadata": {},
          "execution_count": 37
        }
      ]
    },
    {
      "cell_type": "code",
      "metadata": {
        "colab": {
          "base_uri": "https://localhost:8080/"
        },
        "id": "vxV8mIXnAe41",
        "outputId": "1c142fbe-b3d4-4edf-bf53-db6dec7137f4"
      },
      "source": [
        "False or False or False"
      ],
      "execution_count": 38,
      "outputs": [
        {
          "output_type": "execute_result",
          "data": {
            "text/plain": [
              "False"
            ]
          },
          "metadata": {},
          "execution_count": 38
        }
      ]
    },
    {
      "cell_type": "code",
      "metadata": {
        "colab": {
          "base_uri": "https://localhost:8080/"
        },
        "id": "bMg_MyBzAhl1",
        "outputId": "a50a53c8-3294-489e-eb46-3c0f7b49847e"
      },
      "source": [
        "if (0<1) or (1<0):\n",
        "  print('하나라도 참')\n",
        "else:\n",
        "  print('거짓')"
      ],
      "execution_count": 39,
      "outputs": [
        {
          "output_type": "stream",
          "text": [
            "하나라도 참\n"
          ],
          "name": "stdout"
        }
      ]
    },
    {
      "cell_type": "code",
      "metadata": {
        "colab": {
          "base_uri": "https://localhost:8080/"
        },
        "id": "Ht8Wr86WAsw3",
        "outputId": "b101e779-a656-42a9-d1e2-54fc40ee45ca"
      },
      "source": [
        "if (10<1) or (1<0):\n",
        "  print('하나라도 참')\n",
        "else:\n",
        "  print('거짓')"
      ],
      "execution_count": 40,
      "outputs": [
        {
          "output_type": "stream",
          "text": [
            "거짓\n"
          ],
          "name": "stdout"
        }
      ]
    },
    {
      "cell_type": "markdown",
      "metadata": {
        "id": "74Z3PjUaAvy-"
      },
      "source": [
        "###not"
      ]
    },
    {
      "cell_type": "markdown",
      "metadata": {
        "id": "52qsfpHtAxu1"
      },
      "source": [
        "- bool 값을 반전"
      ]
    },
    {
      "cell_type": "code",
      "metadata": {
        "id": "0dWu-L-TAzzZ",
        "colab": {
          "base_uri": "https://localhost:8080/"
        },
        "outputId": "ab880744-a105-4fb8-bc3a-c613823a21ea"
      },
      "source": [
        "not True"
      ],
      "execution_count": 41,
      "outputs": [
        {
          "output_type": "execute_result",
          "data": {
            "text/plain": [
              "False"
            ]
          },
          "metadata": {},
          "execution_count": 41
        }
      ]
    },
    {
      "cell_type": "code",
      "metadata": {
        "colab": {
          "base_uri": "https://localhost:8080/"
        },
        "id": "poRssd4bA1tn",
        "outputId": "de228df9-32f7-44e5-bef3-85fe5926383f"
      },
      "source": [
        "not False"
      ],
      "execution_count": 42,
      "outputs": [
        {
          "output_type": "execute_result",
          "data": {
            "text/plain": [
              "True"
            ]
          },
          "metadata": {},
          "execution_count": 42
        }
      ]
    },
    {
      "cell_type": "code",
      "metadata": {
        "id": "1uRWH9bDA3Kx"
      },
      "source": [
        "if not True:\n",
        "  print('not True')"
      ],
      "execution_count": 43,
      "outputs": []
    },
    {
      "cell_type": "code",
      "metadata": {
        "colab": {
          "base_uri": "https://localhost:8080/"
        },
        "id": "g10D9phZA5sO",
        "outputId": "eaa63a91-24e6-40c1-80df-cd59a6d4b0f5"
      },
      "source": [
        "if not False:\n",
        "  print('not False')"
      ],
      "execution_count": 44,
      "outputs": [
        {
          "output_type": "stream",
          "text": [
            "not False\n"
          ],
          "name": "stdout"
        }
      ]
    }
  ]
}
