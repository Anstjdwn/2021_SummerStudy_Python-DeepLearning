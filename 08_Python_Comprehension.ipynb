{
  "nbformat": 4,
  "nbformat_minor": 0,
  "metadata": {
    "colab": {
      "name": "08-Python-Comprehension.ipynb",
      "provenance": [],
      "authorship_tag": "ABX9TyPjH4Ee9VNUuFQ/F1fLKg4w",
      "include_colab_link": true
    },
    "kernelspec": {
      "name": "python3",
      "display_name": "Python 3"
    },
    "language_info": {
      "name": "python"
    }
  },
  "cells": [
    {
      "cell_type": "markdown",
      "metadata": {
        "id": "view-in-github",
        "colab_type": "text"
      },
      "source": [
        "<a href=\"https://colab.research.google.com/github/june050312/2021_SummerStudy_Python-DeepLearning/blob/main/08_Python_Comprehension.ipynb\" target=\"_parent\"><img src=\"https://colab.research.google.com/assets/colab-badge.svg\" alt=\"Open In Colab\"/></a>"
      ]
    },
    {
      "cell_type": "markdown",
      "metadata": {
        "id": "LghtNO6emH-X"
      },
      "source": [
        "#Comprehension 문법"
      ]
    },
    {
      "cell_type": "markdown",
      "metadata": {
        "id": "AGE39utkmaiV"
      },
      "source": [
        "- 파이썬 고유의 아름다운 문법\n",
        "- 반복문(for~in)과 조건문 그리고 변수에 대한 연산까지 모두 갖춘 편리한 문법\n",
        "- comprehension의 종류로는 list, set, dict등이 존재"
      ]
    },
    {
      "cell_type": "markdown",
      "metadata": {
        "id": "MR-ZtN_smmGD"
      },
      "source": [
        "[실제 사례]"
      ]
    },
    {
      "cell_type": "markdown",
      "metadata": {
        "id": "RIi5Wvx9mnSw"
      },
      "source": [
        "mylist=[1, 2, 3, 4, 5, 6, 7, 8, 9, 10]\n",
        "\n",
        "이라는 list를 만들어 주고 이 중 짝수만 출력"
      ]
    },
    {
      "cell_type": "code",
      "metadata": {
        "colab": {
          "base_uri": "https://localhost:8080/"
        },
        "id": "XKXQ9cermvGb",
        "outputId": "5fbe1bab-608e-4ddf-d74b-abdd1f98c1af"
      },
      "source": [
        "mylist = [1, 2, 3, 4, 5, 6, 7, 8, 9, 10]\n",
        "\n",
        "for i in mylist:\n",
        "    # 짝수 출력을 위한 조건문 생성\n",
        "    if i % 2 == 0:\n",
        "        print(i)"
      ],
      "execution_count": 1,
      "outputs": [
        {
          "output_type": "stream",
          "name": "stdout",
          "text": [
            "2\n",
            "4\n",
            "6\n",
            "8\n",
            "10\n"
          ]
        }
      ]
    },
    {
      "cell_type": "markdown",
      "metadata": {
        "id": "hE4T-GiHmw4b"
      },
      "source": [
        "mylist라는 list에서 짝수만 따로 list로 만듬"
      ]
    },
    {
      "cell_type": "code",
      "metadata": {
        "colab": {
          "base_uri": "https://localhost:8080/"
        },
        "id": "da9LyxMCm3XA",
        "outputId": "b3a1d136-b0ca-4d36-d09a-cc03edeb1ac8"
      },
      "source": [
        "mylist = [1, 2, 3, 4, 5, 6, 7, 8, 9, 10]\n",
        "# 짝수를 만들이 위한 빈 리스트 생성\n",
        "even = []\n",
        "\n",
        "for i in mylist:\n",
        "    if i % 2 == 0:\n",
        "        # even 리스트에 값 추가\n",
        "        even.append(i)\n",
        "\n",
        "print(even)"
      ],
      "execution_count": 2,
      "outputs": [
        {
          "output_type": "stream",
          "name": "stdout",
          "text": [
            "[2, 4, 6, 8, 10]\n"
          ]
        }
      ]
    },
    {
      "cell_type": "markdown",
      "metadata": {
        "id": "5xbcN458m7cA"
      },
      "source": [
        "for in 문으로 해결 가능\n",
        "\n",
        "하지만, comprehension 문법을 사용하면 쉽고 간결한 코딩이 가능"
      ]
    },
    {
      "cell_type": "markdown",
      "metadata": {
        "id": "CX55bpGHnEK0"
      },
      "source": [
        "##comprehension 예시"
      ]
    },
    {
      "cell_type": "code",
      "metadata": {
        "id": "SA5yWAm_nIoW"
      },
      "source": [
        "mylist = [1, 2, 3, 4, 5, 6, 7, 8, 9, 10]"
      ],
      "execution_count": 3,
      "outputs": []
    },
    {
      "cell_type": "markdown",
      "metadata": {
        "id": "il7qmVNynKcP"
      },
      "source": [
        "아래 문법이 list comprehension"
      ]
    },
    {
      "cell_type": "code",
      "metadata": {
        "colab": {
          "base_uri": "https://localhost:8080/"
        },
        "id": "DPf80-fvnNfs",
        "outputId": "3703c80d-3415-42de-b340-8e8f72e5848f"
      },
      "source": [
        "even = [i for i in mylist if i % 2 == 0]\n",
        "even"
      ],
      "execution_count": 4,
      "outputs": [
        {
          "output_type": "execute_result",
          "data": {
            "text/plain": [
              "[2, 4, 6, 8, 10]"
            ]
          },
          "metadata": {},
          "execution_count": 4
        }
      ]
    },
    {
      "cell_type": "markdown",
      "metadata": {
        "id": "SgSU1mgNnPBa"
      },
      "source": [
        "##STEP 1. 반복문 생성"
      ]
    },
    {
      "cell_type": "code",
      "metadata": {
        "colab": {
          "base_uri": "https://localhost:8080/",
          "height": 134
        },
        "id": "Iw_nvQGbnTiu",
        "outputId": "d3cd012d-68b8-4566-835d-36eb66c370ec"
      },
      "source": [
        "even=[for i in mylist]"
      ],
      "execution_count": 5,
      "outputs": [
        {
          "output_type": "error",
          "ename": "SyntaxError",
          "evalue": "ignored",
          "traceback": [
            "\u001b[0;36m  File \u001b[0;32m\"<ipython-input-5-dfac9dc8a6b7>\"\u001b[0;36m, line \u001b[0;32m1\u001b[0m\n\u001b[0;31m    even=[for i in mylist]\u001b[0m\n\u001b[0m            ^\u001b[0m\n\u001b[0;31mSyntaxError\u001b[0m\u001b[0;31m:\u001b[0m invalid syntax\n"
          ]
        }
      ]
    },
    {
      "cell_type": "markdown",
      "metadata": {
        "id": "evz6qMQGnX4b"
      },
      "source": [
        "반복문 안에서 변수를 맨 앞에 한 번 더 선언해 주지 않는다면 당연히 에러 발생"
      ]
    },
    {
      "cell_type": "markdown",
      "metadata": {
        "id": "frGrVvsfndZ6"
      },
      "source": [
        "for i in mylist 구문에서 반복문을 돌면서 i 값이 return 된다고 생각하고 그 변수를 다시 list에 넣어주는 원리"
      ]
    },
    {
      "cell_type": "markdown",
      "metadata": {
        "id": "n97KX7r3nj01"
      },
      "source": [
        "즉, i를 for문 맨 앞에 작성"
      ]
    },
    {
      "cell_type": "code",
      "metadata": {
        "colab": {
          "base_uri": "https://localhost:8080/"
        },
        "id": "PA_0gGK2nn6V",
        "outputId": "571c18eb-9d76-4b64-b621-289ff520b254"
      },
      "source": [
        "even=[i for i in mylist]\n",
        "even"
      ],
      "execution_count": 8,
      "outputs": [
        {
          "output_type": "execute_result",
          "data": {
            "text/plain": [
              "[1, 2, 3, 4, 5, 6, 7, 8, 9, 10]"
            ]
          },
          "metadata": {},
          "execution_count": 8
        }
      ]
    },
    {
      "cell_type": "markdown",
      "metadata": {
        "id": "uU5CfVTUnr72"
      },
      "source": [
        "##STEP 2. 조건 필터 추가"
      ]
    },
    {
      "cell_type": "markdown",
      "metadata": {
        "id": "joz1gmQQnzl0"
      },
      "source": [
        "조건문은 for ~ in 구문 맨 뒤에 추가"
      ]
    },
    {
      "cell_type": "markdown",
      "metadata": {
        "id": "xoXJmoJOn27y"
      },
      "source": [
        "[i for i in mylist (조건문 위치)]"
      ]
    },
    {
      "cell_type": "code",
      "metadata": {
        "colab": {
          "base_uri": "https://localhost:8080/"
        },
        "id": "W8AGIUlun5z9",
        "outputId": "ef3f22ba-f295-46c9-8364-5d779cbf85c0"
      },
      "source": [
        "[i for i in mylist if i%2==0]"
      ],
      "execution_count": 9,
      "outputs": [
        {
          "output_type": "execute_result",
          "data": {
            "text/plain": [
              "[2, 4, 6, 8, 10]"
            ]
          },
          "metadata": {},
          "execution_count": 9
        }
      ]
    },
    {
      "cell_type": "markdown",
      "metadata": {
        "id": "fyO_rB-ln-6F"
      },
      "source": [
        "이제 mylist의 요소 중 짝수만 추출하여 리스트(list)로 만들어 주는 list comprehension 완성"
      ]
    },
    {
      "cell_type": "markdown",
      "metadata": {
        "id": "KR11skdBoHPN"
      },
      "source": [
        "##STEP 3. 변수 값에 별도의 연산 추가"
      ]
    },
    {
      "cell_type": "markdown",
      "metadata": {
        "id": "eh_AuNDsoKai"
      },
      "source": [
        "STEP 2 까지 완성된 짝수만 담는 list comprehension을 그대로 가져옴"
      ]
    },
    {
      "cell_type": "code",
      "metadata": {
        "colab": {
          "base_uri": "https://localhost:8080/"
        },
        "id": "DDNCkhUxoPrO",
        "outputId": "c3f2ac1b-6308-4816-f472-f5262059dc7c"
      },
      "source": [
        "even=[i for i in mylist if i%2==0]\n",
        "even"
      ],
      "execution_count": 10,
      "outputs": [
        {
          "output_type": "execute_result",
          "data": {
            "text/plain": [
              "[2, 4, 6, 8, 10]"
            ]
          },
          "metadata": {},
          "execution_count": 10
        }
      ]
    },
    {
      "cell_type": "markdown",
      "metadata": {
        "id": "SlTOZpqXoW3s"
      },
      "source": [
        "even 변수에는 현재 [2,4,6,8,10]의 요소 존재"
      ]
    },
    {
      "cell_type": "markdown",
      "metadata": {
        "id": "c7NVB_rLocpW"
      },
      "source": [
        "모든 값에 제곱"
      ]
    },
    {
      "cell_type": "markdown",
      "metadata": {
        "id": "nQHcYyyIoeIe"
      },
      "source": [
        "- i 변수에 제곱 연산 추가"
      ]
    },
    {
      "cell_type": "code",
      "metadata": {
        "id": "xQ5BT1fNohf5",
        "colab": {
          "base_uri": "https://localhost:8080/"
        },
        "outputId": "0a3d484d-794d-403d-fcbb-9bb8b2cc892c"
      },
      "source": [
        "even=[i**2 for i in mylist if i%2==0]\n",
        "even"
      ],
      "execution_count": 11,
      "outputs": [
        {
          "output_type": "execute_result",
          "data": {
            "text/plain": [
              "[4, 16, 36, 64, 100]"
            ]
          },
          "metadata": {},
          "execution_count": 11
        }
      ]
    },
    {
      "cell_type": "markdown",
      "metadata": {
        "id": "nbBMwciNoqms"
      },
      "source": [
        "##Set Comprehension"
      ]
    },
    {
      "cell_type": "markdown",
      "metadata": {
        "id": "3fjh690CoweN"
      },
      "source": [
        "- set comprehension은 comprehension 문법을 세트(set)로 생성\n",
        "- 괄호를 {}로 생성하면 set comprehension이 완성"
      ]
    },
    {
      "cell_type": "code",
      "metadata": {
        "colab": {
          "base_uri": "https://localhost:8080/"
        },
        "id": "wWCDntoAo7Ko",
        "outputId": "78628534-d0dc-4840-99fd-5162a63d7776"
      },
      "source": [
        "set_even={i**2 for i in mylist if i%2==0}\n",
        "set_even"
      ],
      "execution_count": 13,
      "outputs": [
        {
          "output_type": "execute_result",
          "data": {
            "text/plain": [
              "{4, 16, 36, 64, 100}"
            ]
          },
          "metadata": {},
          "execution_count": 13
        }
      ]
    },
    {
      "cell_type": "markdown",
      "metadata": {
        "id": "pxzVzaPJpBfh"
      },
      "source": [
        "##Dict Comprehension"
      ]
    },
    {
      "cell_type": "markdown",
      "metadata": {
        "id": "R9fkJX1hpFKK"
      },
      "source": [
        "- dict comprehension은 comprehension 문법을 활용하여 딕셔너리(dictionary)를 생성\n",
        "- 괄호는 {}로 생성하고, key:value 형식을 반드시 지정"
      ]
    },
    {
      "cell_type": "code",
      "metadata": {
        "colab": {
          "base_uri": "https://localhost:8080/"
        },
        "id": "SI5Fqq4VpSGw",
        "outputId": "9df7adca-24dd-41a8-a55d-e9e6743dea45"
      },
      "source": [
        "dict_even={i:i**2 for i in mylist if i%2==0}\n",
        "even"
      ],
      "execution_count": 14,
      "outputs": [
        {
          "output_type": "execute_result",
          "data": {
            "text/plain": [
              "[4, 16, 36, 64, 100]"
            ]
          },
          "metadata": {},
          "execution_count": 14
        }
      ]
    }
  ]
}