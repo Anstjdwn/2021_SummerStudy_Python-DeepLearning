{
  "nbformat": 4,
  "nbformat_minor": 0,
  "metadata": {
    "colab": {
      "name": "03-Python-세트/딕셔너리.ipynb",
      "provenance": [],
      "collapsed_sections": [],
      "authorship_tag": "ABX9TyMKw223NRkUsgb3t0sllsj0",
      "include_colab_link": true
    },
    "kernelspec": {
      "name": "python3",
      "display_name": "Python 3"
    },
    "language_info": {
      "name": "python"
    }
  },
  "cells": [
    {
      "cell_type": "markdown",
      "metadata": {
        "id": "view-in-github",
        "colab_type": "text"
      },
      "source": [
        "<a href=\"https://colab.research.google.com/github/june050312/2021_SummerStudy_Python-DeepLearning/blob/main/03_Python_%EC%84%B8%ED%8A%B8_%EB%94%95%EC%85%94%EB%84%88%EB%A6%AC.ipynb\" target=\"_parent\"><img src=\"https://colab.research.google.com/assets/colab-badge.svg\" alt=\"Open In Colab\"/></a>"
      ]
    },
    {
      "cell_type": "markdown",
      "metadata": {
        "id": "-0frcFaUePIP"
      },
      "source": [
        "#시퀀스, 집합형 자료구조"
      ]
    },
    {
      "cell_type": "markdown",
      "metadata": {
        "id": "mL8A7Zp8d8qQ"
      },
      "source": [
        "|분류|타입|특징|예시|\n",
        "|----|----|----|----|\n",
        "|시퀀스(sequence)|리스트(list)|순서가 있고, 가변(mutable)|[1, 2, 3]|\n",
        "|시퀀스(sequence)|튜플(tuple)|순서가 있고, 불변(immutable)|(1, 2, 3)|\n",
        "|세트(set)|세트(set)|순서가 없고, 중복을 허용하지 않음|{1, 2, 3}|\n",
        "|맵(map)|딕셔너리(dictionary)|순서가 없고, key/value 쌍으로 이루어짐|{'a': 1, 'b': 2, 'c': 3}|\n"
      ]
    },
    {
      "cell_type": "markdown",
      "metadata": {
        "id": "hCHA4nQceLZL"
      },
      "source": [
        "##세트(set)"
      ]
    },
    {
      "cell_type": "markdown",
      "metadata": {
        "id": "Vqd4Fy3defB9"
      },
      "source": [
        "- 세트는 순서가 보장 되지 않습니다.\n",
        "- 세트는 요소의 중복을 허용하지 않습니다.\n",
        "- 세트는 {}를 활용하여 생성할 수 있습니다."
      ]
    },
    {
      "cell_type": "markdown",
      "metadata": {
        "id": "qFN8BpVQeo3q"
      },
      "source": [
        "##생성"
      ]
    },
    {
      "cell_type": "code",
      "metadata": {
        "colab": {
          "base_uri": "https://localhost:8080/"
        },
        "id": "vWJZNFiWexmD",
        "outputId": "9ea28cf0-a00a-4100-8d99-57a29a7656b1"
      },
      "source": [
        "myset = set()\n",
        "myset"
      ],
      "execution_count": null,
      "outputs": [
        {
          "output_type": "execute_result",
          "data": {
            "text/plain": [
              "set()"
            ]
          },
          "metadata": {
            "tags": []
          },
          "execution_count": 1
        }
      ]
    },
    {
      "cell_type": "code",
      "metadata": {
        "colab": {
          "base_uri": "https://localhost:8080/"
        },
        "id": "ZNi9i3Uoe1D0",
        "outputId": "cf715d16-3f9d-42f9-cde7-3e7867e0cd9a"
      },
      "source": [
        "myset = set([1, 1, 1, 2, 2, 2, 3, 3, 3])\n",
        "myset"
      ],
      "execution_count": null,
      "outputs": [
        {
          "output_type": "execute_result",
          "data": {
            "text/plain": [
              "{1, 2, 3}"
            ]
          },
          "metadata": {
            "tags": []
          },
          "execution_count": 2
        }
      ]
    },
    {
      "cell_type": "code",
      "metadata": {
        "colab": {
          "base_uri": "https://localhost:8080/"
        },
        "id": "WPFa7fxze7mw",
        "outputId": "beada5fc-1d79-4357-c206-e410e26c0258"
      },
      "source": [
        "myset = set((1, 1, 1, 2, 3, 3, 4, 5, 5, 5))\n",
        "myset"
      ],
      "execution_count": null,
      "outputs": [
        {
          "output_type": "execute_result",
          "data": {
            "text/plain": [
              "{1, 2, 3, 4, 5}"
            ]
          },
          "metadata": {
            "tags": []
          },
          "execution_count": 3
        }
      ]
    },
    {
      "cell_type": "code",
      "metadata": {
        "colab": {
          "base_uri": "https://localhost:8080/"
        },
        "id": "MzR4j7csfCf0",
        "outputId": "047715cc-58cd-4f9f-b339-0ed8220c9a15"
      },
      "source": [
        "myset = {1, 1, 1, 2, 2, 2, 3, 3, 3}\n",
        "myset"
      ],
      "execution_count": null,
      "outputs": [
        {
          "output_type": "execute_result",
          "data": {
            "text/plain": [
              "{1, 2, 3}"
            ]
          },
          "metadata": {
            "tags": []
          },
          "execution_count": 4
        }
      ]
    },
    {
      "cell_type": "markdown",
      "metadata": {
        "id": "wb009qJ2fHV5"
      },
      "source": [
        "##add() : 값 추가"
      ]
    },
    {
      "cell_type": "markdown",
      "metadata": {
        "id": "K04t84spfL2r"
      },
      "source": [
        "- set에 요소를 추가합니다."
      ]
    },
    {
      "cell_type": "markdown",
      "metadata": {
        "id": "9npxPNXTfRPg"
      },
      "source": [
        "빈 set를 생성합니다."
      ]
    },
    {
      "cell_type": "code",
      "metadata": {
        "id": "3gqXmH2MfUZv"
      },
      "source": [
        "myset = set()"
      ],
      "execution_count": null,
      "outputs": []
    },
    {
      "cell_type": "markdown",
      "metadata": {
        "id": "SV-yWU_wfWSt"
      },
      "source": [
        "add() 로 요소를 추가합니다"
      ]
    },
    {
      "cell_type": "code",
      "metadata": {
        "id": "uP066yizfYAF"
      },
      "source": [
        "\n",
        "myset.add(1)\n",
        "myset.add(2)\n",
        "myset.add(3)\n",
        "\n",
        "myset.add(1)\n",
        "myset.add(2)\n",
        "myset.add(3)\n",
        "\n",
        "myset.add(1)\n",
        "myset.add(2)\n",
        "myset.add(3)"
      ],
      "execution_count": null,
      "outputs": []
    },
    {
      "cell_type": "markdown",
      "metadata": {
        "id": "eAgPKKYIfZ4Q"
      },
      "source": [
        "요소를 중복하여 추가하였지만, 중복을 허용하지 않는 set의 특성상 {1, 2, 3} 으로 중복이 제거된 요소만 출력됩니다."
      ]
    },
    {
      "cell_type": "code",
      "metadata": {
        "colab": {
          "base_uri": "https://localhost:8080/"
        },
        "id": "xBpJ5A6vfb0t",
        "outputId": "c2719506-a8d0-4f64-b018-984e33245ad6"
      },
      "source": [
        "myset"
      ],
      "execution_count": null,
      "outputs": [
        {
          "output_type": "execute_result",
          "data": {
            "text/plain": [
              "{1, 2, 3}"
            ]
          },
          "metadata": {
            "tags": []
          },
          "execution_count": 9
        }
      ]
    },
    {
      "cell_type": "markdown",
      "metadata": {
        "id": "yZv7c4mwfdVB"
      },
      "source": [
        "##update() : 여러개 값 추가"
      ]
    },
    {
      "cell_type": "markdown",
      "metadata": {
        "id": "7CXfbw9gfhDK"
      },
      "source": [
        "* 여러개의 값을 한꺼번에 추가하고자 할 때는 update() 메서드를 사용합니다."
      ]
    },
    {
      "cell_type": "code",
      "metadata": {
        "id": "tvD9f43-fkpH"
      },
      "source": [
        "myset = {1, 2, 3}"
      ],
      "execution_count": null,
      "outputs": []
    },
    {
      "cell_type": "markdown",
      "metadata": {
        "id": "Ht32ar6Wfl4r"
      },
      "source": [
        "list의 요소들을 한꺼번에 update"
      ]
    },
    {
      "cell_type": "code",
      "metadata": {
        "colab": {
          "base_uri": "https://localhost:8080/"
        },
        "id": "cDNIkiodfrXd",
        "outputId": "ffa7eacd-16e6-42bc-d63b-724247bf77c9"
      },
      "source": [
        "myset.update([4, 5, 6])\n",
        "myset"
      ],
      "execution_count": null,
      "outputs": [
        {
          "output_type": "execute_result",
          "data": {
            "text/plain": [
              "{1, 2, 3, 4, 5, 6}"
            ]
          },
          "metadata": {
            "tags": []
          },
          "execution_count": 12
        }
      ]
    },
    {
      "cell_type": "markdown",
      "metadata": {
        "id": "hxdjZAUTftBH"
      },
      "source": [
        "tuple의 요소들을 한꺼번에 update"
      ]
    },
    {
      "cell_type": "code",
      "metadata": {
        "colab": {
          "base_uri": "https://localhost:8080/"
        },
        "id": "3ev3uOUhfvmz",
        "outputId": "290beb4b-8360-44c7-de69-d7f49c5edbe0"
      },
      "source": [
        "myset.update((7, 8, 9))\n",
        "myset\n"
      ],
      "execution_count": null,
      "outputs": [
        {
          "output_type": "execute_result",
          "data": {
            "text/plain": [
              "{1, 2, 3, 4, 5, 6, 7, 8, 9, 10, 11, 12}"
            ]
          },
          "metadata": {
            "tags": []
          },
          "execution_count": 18
        }
      ]
    },
    {
      "cell_type": "markdown",
      "metadata": {
        "id": "VOFrENCUf-03"
      },
      "source": [
        "set의 요소들을 한꺼번에 update"
      ]
    },
    {
      "cell_type": "code",
      "metadata": {
        "colab": {
          "base_uri": "https://localhost:8080/"
        },
        "id": "4q-6pBzXfzqU",
        "outputId": "98736383-5157-49e0-bacd-ea1414831ce1"
      },
      "source": [
        "myset.update({10, 11, 12})\n",
        "myset"
      ],
      "execution_count": null,
      "outputs": [
        {
          "output_type": "execute_result",
          "data": {
            "text/plain": [
              "{1, 2, 3, 4, 5, 6, 7, 8, 9, 10, 11, 12}"
            ]
          },
          "metadata": {
            "tags": []
          },
          "execution_count": 19
        }
      ]
    },
    {
      "cell_type": "markdown",
      "metadata": {
        "id": "D5VCSwRtf4T9"
      },
      "source": [
        "##remove() : 값 제거"
      ]
    },
    {
      "cell_type": "markdown",
      "metadata": {
        "id": "YxtvWNUzgCgw"
      },
      "source": [
        "* 단일 요소를 제거합니다."
      ]
    },
    {
      "cell_type": "code",
      "metadata": {
        "id": "tp2llm66gGCe"
      },
      "source": [
        "myset = {1, 2, 3, 4, 5}"
      ],
      "execution_count": null,
      "outputs": []
    },
    {
      "cell_type": "code",
      "metadata": {
        "colab": {
          "base_uri": "https://localhost:8080/"
        },
        "id": "_CS-3gOQgHUR",
        "outputId": "15336996-5d7a-4805-d7d3-e64474d7d8bc"
      },
      "source": [
        "myset.remove(2)\n",
        "myset"
      ],
      "execution_count": null,
      "outputs": [
        {
          "output_type": "execute_result",
          "data": {
            "text/plain": [
              "{1, 3, 4, 5}"
            ]
          },
          "metadata": {
            "tags": []
          },
          "execution_count": 21
        }
      ]
    },
    {
      "cell_type": "markdown",
      "metadata": {
        "id": "vf9DfKEFgIey"
      },
      "source": [
        "##교집합 (intersection)"
      ]
    },
    {
      "cell_type": "markdown",
      "metadata": {
        "id": "kkdboinDgPZ6"
      },
      "source": [
        "* 교집합은 집합 A와 B가 주어졌을 때 공통된 요소를 말합니다.\n",
        "* & 기호나 intersection() 메서드를 활용하여 교집합을 구할 수 있습니다."
      ]
    },
    {
      "cell_type": "code",
      "metadata": {
        "id": "VyzPQ9GugVUS"
      },
      "source": [
        "a = {1, 2, 3, 4, 5}\n",
        "b = {3, 4, 5, 6, 7}"
      ],
      "execution_count": null,
      "outputs": []
    },
    {
      "cell_type": "code",
      "metadata": {
        "colab": {
          "base_uri": "https://localhost:8080/"
        },
        "id": "U3hN4N9QgWrc",
        "outputId": "dcbdf7c3-7e8e-4e57-a453-3a853b978905"
      },
      "source": [
        "a & b"
      ],
      "execution_count": null,
      "outputs": [
        {
          "output_type": "execute_result",
          "data": {
            "text/plain": [
              "{3, 4, 5}"
            ]
          },
          "metadata": {
            "tags": []
          },
          "execution_count": 23
        }
      ]
    },
    {
      "cell_type": "code",
      "metadata": {
        "colab": {
          "base_uri": "https://localhost:8080/"
        },
        "id": "-C23PnuvgaEP",
        "outputId": "f315803a-748e-498c-b7e1-ac1651639b8c"
      },
      "source": [
        "a.intersection(b)"
      ],
      "execution_count": null,
      "outputs": [
        {
          "output_type": "execute_result",
          "data": {
            "text/plain": [
              "{3, 4, 5}"
            ]
          },
          "metadata": {
            "tags": []
          },
          "execution_count": 24
        }
      ]
    },
    {
      "cell_type": "markdown",
      "metadata": {
        "id": "38WPuKOYgbfN"
      },
      "source": [
        "##합집합 (union)"
      ]
    },
    {
      "cell_type": "markdown",
      "metadata": {
        "id": "R11NIzV2gez8"
      },
      "source": [
        "* 합집합은 집합 A와 B가 주어졌을 때 집합 A, B 요소 모두를 포함하는 것을 말합니다.\n",
        "* |기호나 union() 메서드를 활용하여 합집합을 구할 수 있습니다."
      ]
    },
    {
      "cell_type": "code",
      "metadata": {
        "id": "7LO8LSZYgiuS"
      },
      "source": [
        "a = {1, 2, 3, 4, 5}\n",
        "b = {3, 4, 5, 6, 7}"
      ],
      "execution_count": null,
      "outputs": []
    },
    {
      "cell_type": "code",
      "metadata": {
        "colab": {
          "base_uri": "https://localhost:8080/"
        },
        "id": "e7RIHFlUgkxb",
        "outputId": "afcda286-400e-4be8-b585-937364fabfeb"
      },
      "source": [
        "a | b"
      ],
      "execution_count": null,
      "outputs": [
        {
          "output_type": "execute_result",
          "data": {
            "text/plain": [
              "{1, 2, 3, 4, 5, 6, 7}"
            ]
          },
          "metadata": {
            "tags": []
          },
          "execution_count": 26
        }
      ]
    },
    {
      "cell_type": "code",
      "metadata": {
        "colab": {
          "base_uri": "https://localhost:8080/"
        },
        "id": "vS4beUUagmaS",
        "outputId": "694c71c5-75d8-490a-a0fe-ddc4b53f5a1a"
      },
      "source": [
        "a.union(b)"
      ],
      "execution_count": null,
      "outputs": [
        {
          "output_type": "execute_result",
          "data": {
            "text/plain": [
              "{1, 2, 3, 4, 5, 6, 7}"
            ]
          },
          "metadata": {
            "tags": []
          },
          "execution_count": 27
        }
      ]
    },
    {
      "cell_type": "markdown",
      "metadata": {
        "id": "KelLtHPrgnsV"
      },
      "source": [
        "##차집합 (difference)"
      ]
    },
    {
      "cell_type": "markdown",
      "metadata": {
        "id": "0-OtyH2_gs9l"
      },
      "source": [
        "* 두 집합에서, 하나의 집합에 포함되고 다른 집합에는 포함되지 않는 모든 원소의 집합.\n",
        "* -연산자를 활용하거나 difference() 메서드를 활용하여 구할 수 있습니다."
      ]
    },
    {
      "cell_type": "code",
      "metadata": {
        "id": "qgFcc191gxKm"
      },
      "source": [
        "a = {1, 2, 3, 4, 5}\n",
        "b = {3, 4, 5, 6, 7}"
      ],
      "execution_count": null,
      "outputs": []
    },
    {
      "cell_type": "markdown",
      "metadata": {
        "id": "dPewzsgJgykU"
      },
      "source": [
        "a 집합에서 b 집합을 뺀 차집합"
      ]
    },
    {
      "cell_type": "code",
      "metadata": {
        "colab": {
          "base_uri": "https://localhost:8080/"
        },
        "id": "wEoMfezng1us",
        "outputId": "25816047-8a57-4d74-cea8-3e3e7ee226de"
      },
      "source": [
        "a - b"
      ],
      "execution_count": null,
      "outputs": [
        {
          "output_type": "execute_result",
          "data": {
            "text/plain": [
              "{1, 2}"
            ]
          },
          "metadata": {
            "tags": []
          },
          "execution_count": 29
        }
      ]
    },
    {
      "cell_type": "code",
      "metadata": {
        "colab": {
          "base_uri": "https://localhost:8080/"
        },
        "id": "rHLzGn07g4IA",
        "outputId": "01893f4d-78a5-4121-9d92-d83c41430514"
      },
      "source": [
        "a.difference(b)"
      ],
      "execution_count": null,
      "outputs": [
        {
          "output_type": "execute_result",
          "data": {
            "text/plain": [
              "{1, 2}"
            ]
          },
          "metadata": {
            "tags": []
          },
          "execution_count": 30
        }
      ]
    },
    {
      "cell_type": "markdown",
      "metadata": {
        "id": "8APhjfdag5QL"
      },
      "source": [
        "b 집합에서 a 집합을 뺀 차집합"
      ]
    },
    {
      "cell_type": "code",
      "metadata": {
        "colab": {
          "base_uri": "https://localhost:8080/"
        },
        "id": "iSWuB4wZg6tl",
        "outputId": "6f8a849c-c6ac-47f9-86a9-ef95c5b96b5d"
      },
      "source": [
        "b - a"
      ],
      "execution_count": null,
      "outputs": [
        {
          "output_type": "execute_result",
          "data": {
            "text/plain": [
              "{6, 7}"
            ]
          },
          "metadata": {
            "tags": []
          },
          "execution_count": 31
        }
      ]
    },
    {
      "cell_type": "code",
      "metadata": {
        "colab": {
          "base_uri": "https://localhost:8080/"
        },
        "id": "YSPq5Rx2g7rp",
        "outputId": "e71c1413-0749-419b-b661-0fa5885faccb"
      },
      "source": [
        "b.difference(a)"
      ],
      "execution_count": null,
      "outputs": [
        {
          "output_type": "execute_result",
          "data": {
            "text/plain": [
              "{6, 7}"
            ]
          },
          "metadata": {
            "tags": []
          },
          "execution_count": 32
        }
      ]
    },
    {
      "cell_type": "markdown",
      "metadata": {
        "id": "dG3_y65-g828"
      },
      "source": [
        "##집합의 타입 변환"
      ]
    },
    {
      "cell_type": "markdown",
      "metadata": {
        "id": "D3gSbL6QhAT3"
      },
      "source": [
        "###set를 list로 변환"
      ]
    },
    {
      "cell_type": "code",
      "metadata": {
        "id": "cENLnmbihChb"
      },
      "source": [
        "a = {1, 2, 3, 4, 5}"
      ],
      "execution_count": null,
      "outputs": []
    },
    {
      "cell_type": "code",
      "metadata": {
        "colab": {
          "base_uri": "https://localhost:8080/"
        },
        "id": "8eW2NG1phEAe",
        "outputId": "8cd2e793-d0cb-47ef-df2c-d6c17b5605f9"
      },
      "source": [
        "type(a)"
      ],
      "execution_count": null,
      "outputs": [
        {
          "output_type": "execute_result",
          "data": {
            "text/plain": [
              "set"
            ]
          },
          "metadata": {
            "tags": []
          },
          "execution_count": 34
        }
      ]
    },
    {
      "cell_type": "code",
      "metadata": {
        "id": "NuDVsyinhFPd"
      },
      "source": [
        "b = list(a)"
      ],
      "execution_count": null,
      "outputs": []
    },
    {
      "cell_type": "code",
      "metadata": {
        "colab": {
          "base_uri": "https://localhost:8080/"
        },
        "id": "uA7yQY_9hGuc",
        "outputId": "72792bcd-bb33-41db-b65d-6d5bcc51b941"
      },
      "source": [
        "b"
      ],
      "execution_count": null,
      "outputs": [
        {
          "output_type": "execute_result",
          "data": {
            "text/plain": [
              "[1, 2, 3, 4, 5]"
            ]
          },
          "metadata": {
            "tags": []
          },
          "execution_count": 36
        }
      ]
    },
    {
      "cell_type": "code",
      "metadata": {
        "colab": {
          "base_uri": "https://localhost:8080/"
        },
        "id": "-dZbRKqNhH-0",
        "outputId": "523b8de4-7313-4cd7-9013-f454949c52da"
      },
      "source": [
        "type(b)"
      ],
      "execution_count": null,
      "outputs": [
        {
          "output_type": "execute_result",
          "data": {
            "text/plain": [
              "list"
            ]
          },
          "metadata": {
            "tags": []
          },
          "execution_count": 37
        }
      ]
    },
    {
      "cell_type": "markdown",
      "metadata": {
        "id": "lv6qaIE5hJND"
      },
      "source": [
        "###list를 set로 변환"
      ]
    },
    {
      "cell_type": "markdown",
      "metadata": {
        "id": "PAiR3jiYhN_l"
      },
      "source": [
        "* 중복을 제거할 때 많이 활용합니다."
      ]
    },
    {
      "cell_type": "code",
      "metadata": {
        "id": "c9584gIRhS1b"
      },
      "source": [
        "a = [1, 1, 1, 2, 2, 2, 3, 3, 3]"
      ],
      "execution_count": null,
      "outputs": []
    },
    {
      "cell_type": "code",
      "metadata": {
        "colab": {
          "base_uri": "https://localhost:8080/"
        },
        "id": "CqNbXzs6hVV1",
        "outputId": "81e860de-948c-43cc-bd67-10d73c972a91"
      },
      "source": [
        "a\n"
      ],
      "execution_count": null,
      "outputs": [
        {
          "output_type": "execute_result",
          "data": {
            "text/plain": [
              "[1, 1, 1, 2, 2, 2, 3, 3, 3]"
            ]
          },
          "metadata": {
            "tags": []
          },
          "execution_count": 42
        }
      ]
    },
    {
      "cell_type": "code",
      "metadata": {
        "colab": {
          "base_uri": "https://localhost:8080/"
        },
        "id": "FfNbLMv4hVpI",
        "outputId": "ad495223-b6a5-4c95-9988-9810a05ce12c"
      },
      "source": [
        "type(a)"
      ],
      "execution_count": null,
      "outputs": [
        {
          "output_type": "execute_result",
          "data": {
            "text/plain": [
              "list"
            ]
          },
          "metadata": {
            "tags": []
          },
          "execution_count": 43
        }
      ]
    },
    {
      "cell_type": "code",
      "metadata": {
        "id": "vBXAZQ3FhXw0"
      },
      "source": [
        "b = set(a)"
      ],
      "execution_count": null,
      "outputs": []
    },
    {
      "cell_type": "code",
      "metadata": {
        "colab": {
          "base_uri": "https://localhost:8080/"
        },
        "id": "T1IzNeZzhZJw",
        "outputId": "77f624f1-bab1-4be4-f775-fbf4632b3c78"
      },
      "source": [
        "b"
      ],
      "execution_count": null,
      "outputs": [
        {
          "output_type": "execute_result",
          "data": {
            "text/plain": [
              "{1, 2, 3}"
            ]
          },
          "metadata": {
            "tags": []
          },
          "execution_count": 45
        }
      ]
    },
    {
      "cell_type": "code",
      "metadata": {
        "colab": {
          "base_uri": "https://localhost:8080/"
        },
        "id": "WpXumMIphaMP",
        "outputId": "81ef3bb3-9e04-4e22-ccba-28494e62e0f3"
      },
      "source": [
        "type(b)"
      ],
      "execution_count": null,
      "outputs": [
        {
          "output_type": "execute_result",
          "data": {
            "text/plain": [
              "set"
            ]
          },
          "metadata": {
            "tags": []
          },
          "execution_count": 47
        }
      ]
    },
    {
      "cell_type": "markdown",
      "metadata": {
        "id": "ggjkUn-5hbw9"
      },
      "source": [
        "b를 다시 list 자료형으로 변환"
      ]
    },
    {
      "cell_type": "code",
      "metadata": {
        "colab": {
          "base_uri": "https://localhost:8080/"
        },
        "id": "SG6aaC_the3F",
        "outputId": "98e28169-aac8-4f99-fa62-81e47544c349"
      },
      "source": [
        "b = list(b)\n",
        "b"
      ],
      "execution_count": null,
      "outputs": [
        {
          "output_type": "execute_result",
          "data": {
            "text/plain": [
              "[1, 2, 3]"
            ]
          },
          "metadata": {
            "tags": []
          },
          "execution_count": 48
        }
      ]
    },
    {
      "cell_type": "markdown",
      "metadata": {
        "id": "uqWN1KAfhgMk"
      },
      "source": [
        "#딕셔너리(dictionary)"
      ]
    },
    {
      "cell_type": "markdown",
      "metadata": {
        "id": "F9ZQjiRnhkO2"
      },
      "source": [
        "* 순서를 가지지 않습니다.\n",
        "* 키(key)와 값(value)의 쌍으로 이루어져 있습니다.\n",
        "* type은 dict로 표시 됩니다.\n",
        "* key를 사용하여 값을 조회할 수 있습니다.\n",
        "* 딕셔너리는 수정, 삭제, 추가가 가능합니다."
      ]
    },
    {
      "cell_type": "markdown",
      "metadata": {
        "id": "lf8kPN62hqC0"
      },
      "source": [
        "##생성"
      ]
    },
    {
      "cell_type": "code",
      "metadata": {
        "colab": {
          "base_uri": "https://localhost:8080/"
        },
        "id": "K-B8bq6rhs_Y",
        "outputId": "1bc689ab-e544-4de7-fcd1-87630615ca32"
      },
      "source": [
        "mydict = dict()\n",
        "print(type(mydict))\n",
        "mydict"
      ],
      "execution_count": null,
      "outputs": [
        {
          "output_type": "stream",
          "text": [
            "<class 'dict'>\n"
          ],
          "name": "stdout"
        },
        {
          "output_type": "execute_result",
          "data": {
            "text/plain": [
              "{}"
            ]
          },
          "metadata": {
            "tags": []
          },
          "execution_count": 49
        }
      ]
    },
    {
      "cell_type": "code",
      "metadata": {
        "colab": {
          "base_uri": "https://localhost:8080/"
        },
        "id": "49ltW8FchuYg",
        "outputId": "d187abbf-5634-4ef0-8614-b7337fec832a"
      },
      "source": [
        "mydict = {'a': 1, 'b': 2, 'c': 3}\n",
        "print(type(mydict))\n",
        "mydict"
      ],
      "execution_count": null,
      "outputs": [
        {
          "output_type": "stream",
          "text": [
            "<class 'dict'>\n"
          ],
          "name": "stdout"
        },
        {
          "output_type": "execute_result",
          "data": {
            "text/plain": [
              "{'a': 1, 'b': 2, 'c': 3}"
            ]
          },
          "metadata": {
            "tags": []
          },
          "execution_count": 50
        }
      ]
    },
    {
      "cell_type": "markdown",
      "metadata": {
        "id": "_FJZjLxchvvc"
      },
      "source": [
        "딕셔너리는 여러 타입의 key를 가질 수 있습니다."
      ]
    },
    {
      "cell_type": "code",
      "metadata": {
        "colab": {
          "base_uri": "https://localhost:8080/"
        },
        "id": "fSQ2iPfmh2Ul",
        "outputId": "f028bbf7-df85-4f2a-bf72-c26fc1dd685d"
      },
      "source": [
        "mydict = {'a': 1, '가':2, 100: 3, 3.14: 4, True: 5}\n",
        "mydict"
      ],
      "execution_count": null,
      "outputs": [
        {
          "output_type": "execute_result",
          "data": {
            "text/plain": [
              "{100: 3, 3.14: 4, True: 5, 'a': 1, '가': 2}"
            ]
          },
          "metadata": {
            "tags": []
          },
          "execution_count": 51
        }
      ]
    },
    {
      "cell_type": "markdown",
      "metadata": {
        "id": "_w7nSduXh30_"
      },
      "source": [
        "##값 조회"
      ]
    },
    {
      "cell_type": "markdown",
      "metadata": {
        "id": "ddVrSZQbh6My"
      },
      "source": [
        "* key 값으로 값을 조회할 수 있습니다."
      ]
    },
    {
      "cell_type": "code",
      "metadata": {
        "colab": {
          "base_uri": "https://localhost:8080/"
        },
        "id": "nIDxSUyJh8aI",
        "outputId": "c0d01a3e-b336-4324-8b9a-b47e7044546d"
      },
      "source": [
        "mydict = {'a': 1, '가':2, 100: 3, 3.14: 4, True: 5}\n",
        "mydict"
      ],
      "execution_count": null,
      "outputs": [
        {
          "output_type": "execute_result",
          "data": {
            "text/plain": [
              "{100: 3, 3.14: 4, True: 5, 'a': 1, '가': 2}"
            ]
          },
          "metadata": {
            "tags": []
          },
          "execution_count": 52
        }
      ]
    },
    {
      "cell_type": "markdown",
      "metadata": {
        "id": "uQmcyywah_vz"
      },
      "source": [
        "key를 지정하여 값을 조회할 수 있습니다"
      ]
    },
    {
      "cell_type": "code",
      "metadata": {
        "colab": {
          "base_uri": "https://localhost:8080/"
        },
        "id": "4Q01Ah11iB3C",
        "outputId": "38a9220c-7c33-4b1c-c3f2-f400aa8ac92d"
      },
      "source": [
        "mydict['a']"
      ],
      "execution_count": null,
      "outputs": [
        {
          "output_type": "execute_result",
          "data": {
            "text/plain": [
              "1"
            ]
          },
          "metadata": {
            "tags": []
          },
          "execution_count": 53
        }
      ]
    },
    {
      "cell_type": "markdown",
      "metadata": {
        "id": "PAtkc4MYiDQZ"
      },
      "source": [
        "key가 없는 경우 Error가 발생합니다."
      ]
    },
    {
      "cell_type": "code",
      "metadata": {
        "colab": {
          "base_uri": "https://localhost:8080/",
          "height": 170
        },
        "id": "w7-3hx-7iFMC",
        "outputId": "458f0e3a-5d13-40eb-fe55-d95cf52ee730"
      },
      "source": [
        "mydict['b']"
      ],
      "execution_count": null,
      "outputs": [
        {
          "output_type": "error",
          "ename": "KeyError",
          "evalue": "ignored",
          "traceback": [
            "\u001b[0;31m---------------------------------------------------------------------------\u001b[0m",
            "\u001b[0;31mKeyError\u001b[0m                                  Traceback (most recent call last)",
            "\u001b[0;32m<ipython-input-54-a8dfdc4bddd9>\u001b[0m in \u001b[0;36m<module>\u001b[0;34m()\u001b[0m\n\u001b[0;32m----> 1\u001b[0;31m \u001b[0mmydict\u001b[0m\u001b[0;34m[\u001b[0m\u001b[0;34m'b'\u001b[0m\u001b[0;34m]\u001b[0m\u001b[0;34m\u001b[0m\u001b[0;34m\u001b[0m\u001b[0m\n\u001b[0m",
            "\u001b[0;31mKeyError\u001b[0m: 'b'"
          ]
        }
      ]
    },
    {
      "cell_type": "markdown",
      "metadata": {
        "id": "Us_YwlJFiISx"
      },
      "source": [
        "get() 메서드를 활용하여 값을 조회할 수 있습니다."
      ]
    },
    {
      "cell_type": "code",
      "metadata": {
        "colab": {
          "base_uri": "https://localhost:8080/"
        },
        "id": "nDi-dXibiKx0",
        "outputId": "51440ad1-ce32-4cfa-ec56-1dae8af8e3b9"
      },
      "source": [
        "mydict.get('a')"
      ],
      "execution_count": null,
      "outputs": [
        {
          "output_type": "execute_result",
          "data": {
            "text/plain": [
              "1"
            ]
          },
          "metadata": {
            "tags": []
          },
          "execution_count": 55
        }
      ]
    },
    {
      "cell_type": "markdown",
      "metadata": {
        "id": "wTMCtIfdiMFu"
      },
      "source": [
        "get()을 사용하면 key가 없는 경우라도 Error가 발생하지 않습니다. 단지 None이 반환됩니다."
      ]
    },
    {
      "cell_type": "code",
      "metadata": {
        "id": "v1eocQofiODy"
      },
      "source": [
        "mydict.get('b')"
      ],
      "execution_count": null,
      "outputs": []
    },
    {
      "cell_type": "markdown",
      "metadata": {
        "id": "8uvS4UrDiPoL"
      },
      "source": [
        "##keys() : 모든 key 조회"
      ]
    },
    {
      "cell_type": "code",
      "metadata": {
        "colab": {
          "base_uri": "https://localhost:8080/"
        },
        "id": "C0dR_U5RiSpH",
        "outputId": "7bc64b18-a943-4578-958c-10400da07547"
      },
      "source": [
        "mydict = {'a': 100, 'b': 200, 'c': 300, 'd': 400, 'e': 500}\n",
        "mydict"
      ],
      "execution_count": null,
      "outputs": [
        {
          "output_type": "execute_result",
          "data": {
            "text/plain": [
              "{'a': 100, 'b': 200, 'c': 300, 'd': 400, 'e': 500}"
            ]
          },
          "metadata": {
            "tags": []
          },
          "execution_count": 57
        }
      ]
    },
    {
      "cell_type": "code",
      "metadata": {
        "colab": {
          "base_uri": "https://localhost:8080/"
        },
        "id": "zpjrm3cNiTvO",
        "outputId": "be95352b-05af-42ca-c009-e0ccbeca48de"
      },
      "source": [
        "mydict.keys()"
      ],
      "execution_count": null,
      "outputs": [
        {
          "output_type": "execute_result",
          "data": {
            "text/plain": [
              "dict_keys(['a', 'b', 'c', 'd', 'e'])"
            ]
          },
          "metadata": {
            "tags": []
          },
          "execution_count": 58
        }
      ]
    },
    {
      "cell_type": "markdown",
      "metadata": {
        "id": "hHjckJNMiU76"
      },
      "source": [
        "[참고] dict_keys"
      ]
    },
    {
      "cell_type": "markdown",
      "metadata": {
        "id": "Rul_wpXhiY0Y"
      },
      "source": [
        "- dict_keys는 리스트(list)가 아닙니다.\n",
        "- 객체(object)로 생성되는데, 이를 list로 변경하기 위해서는 list()로 타입 변환을 하면 됩니다."
      ]
    },
    {
      "cell_type": "code",
      "metadata": {
        "colab": {
          "base_uri": "https://localhost:8080/"
        },
        "id": "gNqEEFmKibi8",
        "outputId": "41852dfd-b37c-40a2-8f08-b60366725120"
      },
      "source": [
        "list(mydict.keys())"
      ],
      "execution_count": null,
      "outputs": [
        {
          "output_type": "execute_result",
          "data": {
            "text/plain": [
              "['a', 'b', 'c', 'd', 'e']"
            ]
          },
          "metadata": {
            "tags": []
          },
          "execution_count": 60
        }
      ]
    },
    {
      "cell_type": "markdown",
      "metadata": {
        "id": "zwpmNAaYiiza"
      },
      "source": [
        "##values() : 모든 value 조회"
      ]
    },
    {
      "cell_type": "code",
      "metadata": {
        "colab": {
          "base_uri": "https://localhost:8080/"
        },
        "id": "kMga1dpiimpI",
        "outputId": "c9543fd2-77c7-46e6-bad7-7bfcbf0b8b29"
      },
      "source": [
        "mydict.values()"
      ],
      "execution_count": null,
      "outputs": [
        {
          "output_type": "execute_result",
          "data": {
            "text/plain": [
              "dict_values([100, 200, 300, 400, 500])"
            ]
          },
          "metadata": {
            "tags": []
          },
          "execution_count": 61
        }
      ]
    },
    {
      "cell_type": "markdown",
      "metadata": {
        "id": "EEVHwMO6in46"
      },
      "source": [
        "##items() : 모든 key, value 조회"
      ]
    },
    {
      "cell_type": "markdown",
      "metadata": {
        "id": "kOpQ2egRipq2"
      },
      "source": [
        "- key, value가 튜플로 묶여서 조회됩니다."
      ]
    },
    {
      "cell_type": "code",
      "metadata": {
        "id": "uYK1odzaisRm"
      },
      "source": [
        "mydict.items()"
      ],
      "execution_count": null,
      "outputs": []
    },
    {
      "cell_type": "code",
      "metadata": {
        "id": "DkRJoTJhivs7"
      },
      "source": [
        "list(mydict.items())"
      ],
      "execution_count": null,
      "outputs": []
    },
    {
      "cell_type": "markdown",
      "metadata": {
        "id": "Wm-NViWYi0g9"
      },
      "source": [
        "##key 값의 존재 유무 확인"
      ]
    },
    {
      "cell_type": "code",
      "metadata": {
        "colab": {
          "base_uri": "https://localhost:8080/"
        },
        "id": "NJW3gLClpb46",
        "outputId": "df6201d4-cf5d-48a5-8a0c-acd1a0eafffa"
      },
      "source": [
        "'a' in mydict"
      ],
      "execution_count": null,
      "outputs": [
        {
          "output_type": "execute_result",
          "data": {
            "text/plain": [
              "True"
            ]
          },
          "metadata": {
            "tags": []
          },
          "execution_count": 66
        }
      ]
    },
    {
      "cell_type": "code",
      "metadata": {
        "colab": {
          "base_uri": "https://localhost:8080/"
        },
        "id": "KhTgPV_6pe3X",
        "outputId": "24bc7037-ba15-4198-d1e5-ab177f34e372"
      },
      "source": [
        "'f' in mydict"
      ],
      "execution_count": null,
      "outputs": [
        {
          "output_type": "execute_result",
          "data": {
            "text/plain": [
              "False"
            ]
          },
          "metadata": {
            "tags": []
          },
          "execution_count": 67
        }
      ]
    },
    {
      "cell_type": "markdown",
      "metadata": {
        "id": "bbQM5OOOpgSr"
      },
      "source": [
        "##값을 추가하기"
      ]
    },
    {
      "cell_type": "markdown",
      "metadata": {
        "id": "T1cKKj7apiYt"
      },
      "source": [
        "* 새로운 key에 값을 대입하여 추가"
      ]
    },
    {
      "cell_type": "code",
      "metadata": {
        "colab": {
          "base_uri": "https://localhost:8080/"
        },
        "id": "BizN4tVnplg2",
        "outputId": "dd41ae0d-e8b8-474d-b8e6-d5e07c56375e"
      },
      "source": [
        "mydict = dict()\n",
        "mydict"
      ],
      "execution_count": null,
      "outputs": [
        {
          "output_type": "execute_result",
          "data": {
            "text/plain": [
              "{}"
            ]
          },
          "metadata": {
            "tags": []
          },
          "execution_count": 68
        }
      ]
    },
    {
      "cell_type": "code",
      "metadata": {
        "colab": {
          "base_uri": "https://localhost:8080/"
        },
        "id": "luzeCEDIpmuw",
        "outputId": "d581bc14-830f-4517-f9c7-09d37c0e27aa"
      },
      "source": [
        "mydict['apple'] = 123\n",
        "mydict['apple']"
      ],
      "execution_count": null,
      "outputs": [
        {
          "output_type": "execute_result",
          "data": {
            "text/plain": [
              "123"
            ]
          },
          "metadata": {
            "tags": []
          },
          "execution_count": 69
        }
      ]
    },
    {
      "cell_type": "code",
      "metadata": {
        "colab": {
          "base_uri": "https://localhost:8080/"
        },
        "id": "1rCsQfd-poBF",
        "outputId": "9e566d1f-92a1-4e6f-ffd4-50415358c98e"
      },
      "source": [
        "mydict[0] = 2\n",
        "mydict[0]"
      ],
      "execution_count": null,
      "outputs": [
        {
          "output_type": "execute_result",
          "data": {
            "text/plain": [
              "2"
            ]
          },
          "metadata": {
            "tags": []
          },
          "execution_count": 70
        }
      ]
    },
    {
      "cell_type": "markdown",
      "metadata": {
        "id": "Cs2S6jdmpxnu"
      },
      "source": [
        "##update() : 다중 업데이트"
      ]
    },
    {
      "cell_type": "markdown",
      "metadata": {
        "id": "6SzfgXRVp14S"
      },
      "source": [
        "* 값을 한꺼번에 업데이트 합니다."
      ]
    },
    {
      "cell_type": "code",
      "metadata": {
        "colab": {
          "base_uri": "https://localhost:8080/"
        },
        "id": "A017rD9up4C8",
        "outputId": "5f069dbb-fd06-4229-ccab-56c14775ffad"
      },
      "source": [
        "mydict = {'파인애플': 1500, '망고': 3500, '배': 1000}\n",
        "mydict"
      ],
      "execution_count": null,
      "outputs": [
        {
          "output_type": "execute_result",
          "data": {
            "text/plain": [
              "{'망고': 3500, '배': 1000, '파인애플': 1500}"
            ]
          },
          "metadata": {
            "tags": []
          },
          "execution_count": 72
        }
      ]
    },
    {
      "cell_type": "code",
      "metadata": {
        "id": "oE1r06idp5EE"
      },
      "source": [
        "fruit = {\n",
        "    '사과': 2000, \n",
        "    '딸기': 3000, \n",
        "    '수박': 5000, \n",
        "}"
      ],
      "execution_count": null,
      "outputs": []
    },
    {
      "cell_type": "code",
      "metadata": {
        "colab": {
          "base_uri": "https://localhost:8080/"
        },
        "id": "If_yHEz7p60D",
        "outputId": "dc2c7e63-51b5-4fd3-b27f-dbf4e2d68583"
      },
      "source": [
        "mydict.update(fruit)\n",
        "mydict"
      ],
      "execution_count": null,
      "outputs": [
        {
          "output_type": "execute_result",
          "data": {
            "text/plain": [
              "{'딸기': 3000, '망고': 3500, '배': 1000, '사과': 2000, '수박': 5000, '파인애플': 1500}"
            ]
          },
          "metadata": {
            "tags": []
          },
          "execution_count": 74
        }
      ]
    },
    {
      "cell_type": "markdown",
      "metadata": {
        "id": "y_PfajN2p8ME"
      },
      "source": [
        "##값 변경"
      ]
    },
    {
      "cell_type": "markdown",
      "metadata": {
        "id": "rLxtroadp_Yb"
      },
      "source": [
        "* key 값에 새로운 값(value)를 대입하여 값을 변경할 수 있습니다."
      ]
    },
    {
      "cell_type": "code",
      "metadata": {
        "colab": {
          "base_uri": "https://localhost:8080/"
        },
        "id": "WUktRL3GqBgf",
        "outputId": "08e4ca8f-f8f0-4015-d057-169a99458710"
      },
      "source": [
        "mydict = {'a': 100, 'b': 200, 'c': 300, 'd': 400, 'e': 500}\n",
        "mydict"
      ],
      "execution_count": null,
      "outputs": [
        {
          "output_type": "execute_result",
          "data": {
            "text/plain": [
              "{'a': 100, 'b': 200, 'c': 300, 'd': 400, 'e': 500}"
            ]
          },
          "metadata": {
            "tags": []
          },
          "execution_count": 75
        }
      ]
    },
    {
      "cell_type": "code",
      "metadata": {
        "id": "IkQok5rMqDR2"
      },
      "source": [
        "mydict['a'] = 900"
      ],
      "execution_count": null,
      "outputs": []
    },
    {
      "cell_type": "code",
      "metadata": {
        "colab": {
          "base_uri": "https://localhost:8080/"
        },
        "id": "UA-uculOqEtv",
        "outputId": "a015efe0-a055-4503-c5c9-90e43482f67e"
      },
      "source": [
        "mydict"
      ],
      "execution_count": null,
      "outputs": [
        {
          "output_type": "execute_result",
          "data": {
            "text/plain": [
              "{'a': 900, 'b': 200, 'c': 300, 'd': 400, 'e': 500}"
            ]
          },
          "metadata": {
            "tags": []
          },
          "execution_count": 77
        }
      ]
    },
    {
      "cell_type": "markdown",
      "metadata": {
        "id": "n7UlqLyiqGCw"
      },
      "source": [
        "##제거하기 / key 제거"
      ]
    },
    {
      "cell_type": "code",
      "metadata": {
        "colab": {
          "base_uri": "https://localhost:8080/"
        },
        "id": "IH7jVmhWqITQ",
        "outputId": "9077178b-beb1-49f3-d127-8ea17ae0102f"
      },
      "source": [
        "mydict = {'a': 100, 'b': 200, 'c': 300, 'd': 400, 'e': 500}\n",
        "mydict"
      ],
      "execution_count": null,
      "outputs": [
        {
          "output_type": "execute_result",
          "data": {
            "text/plain": [
              "{'a': 100, 'b': 200, 'c': 300, 'd': 400, 'e': 500}"
            ]
          },
          "metadata": {
            "tags": []
          },
          "execution_count": 78
        }
      ]
    },
    {
      "cell_type": "markdown",
      "metadata": {
        "id": "goqcwKwMqJdb"
      },
      "source": [
        "del 값을 제거할 수 있습니다."
      ]
    },
    {
      "cell_type": "markdown",
      "metadata": {
        "id": "52HFLFM9qL44"
      },
      "source": [
        "del에 딕셔너리 key를 지정합니다."
      ]
    },
    {
      "cell_type": "code",
      "metadata": {
        "id": "TxO2sehdqNmE"
      },
      "source": [
        "del mydict['a']"
      ],
      "execution_count": null,
      "outputs": []
    },
    {
      "cell_type": "code",
      "metadata": {
        "colab": {
          "base_uri": "https://localhost:8080/"
        },
        "id": "nOoKFDmZqPYL",
        "outputId": "30491484-f530-4cb6-b5d3-c3982f712b0d"
      },
      "source": [
        "mydict"
      ],
      "execution_count": null,
      "outputs": [
        {
          "output_type": "execute_result",
          "data": {
            "text/plain": [
              "{'b': 200, 'c': 300, 'd': 400, 'e': 500}"
            ]
          },
          "metadata": {
            "tags": []
          },
          "execution_count": 80
        }
      ]
    },
    {
      "cell_type": "markdown",
      "metadata": {
        "id": "vY3HAaUlqQqw"
      },
      "source": [
        "pop() 에 key를 지정하여 값을 제거할 수 있습니다."
      ]
    },
    {
      "cell_type": "markdown",
      "metadata": {
        "id": "WRgLEuFtqSPW"
      },
      "source": [
        "제거되는 값의 value를 반환합니다."
      ]
    },
    {
      "cell_type": "code",
      "metadata": {
        "colab": {
          "base_uri": "https://localhost:8080/"
        },
        "id": "c1pw0sqzqT0d",
        "outputId": "e5d3dfc1-9639-40da-b492-4c90710c2025"
      },
      "source": [
        "mydict.pop('b')"
      ],
      "execution_count": null,
      "outputs": [
        {
          "output_type": "execute_result",
          "data": {
            "text/plain": [
              "200"
            ]
          },
          "metadata": {
            "tags": []
          },
          "execution_count": 81
        }
      ]
    },
    {
      "cell_type": "code",
      "metadata": {
        "colab": {
          "base_uri": "https://localhost:8080/"
        },
        "id": "w9w4HhOmqU8p",
        "outputId": "d259782c-7276-4289-a421-4be243523ad6"
      },
      "source": [
        "mydict"
      ],
      "execution_count": null,
      "outputs": [
        {
          "output_type": "execute_result",
          "data": {
            "text/plain": [
              "{'c': 300, 'd': 400, 'e': 500}"
            ]
          },
          "metadata": {
            "tags": []
          },
          "execution_count": 82
        }
      ]
    },
    {
      "cell_type": "markdown",
      "metadata": {
        "id": "IZ9z_-DaqWbT"
      },
      "source": [
        "##len() : 요소의 개수 파악"
      ]
    },
    {
      "cell_type": "code",
      "metadata": {
        "colab": {
          "base_uri": "https://localhost:8080/"
        },
        "id": "HkpiP15WqY_U",
        "outputId": "db75ee53-80c5-42b9-a7b3-2a093ded2629"
      },
      "source": [
        "len(mydict)"
      ],
      "execution_count": null,
      "outputs": [
        {
          "output_type": "execute_result",
          "data": {
            "text/plain": [
              "3"
            ]
          },
          "metadata": {
            "tags": []
          },
          "execution_count": 83
        }
      ]
    },
    {
      "cell_type": "markdown",
      "metadata": {
        "id": "PmZHxE1mqaDH"
      },
      "source": [
        "##clear():전부 삭제"
      ]
    },
    {
      "cell_type": "code",
      "metadata": {
        "colab": {
          "base_uri": "https://localhost:8080/"
        },
        "id": "Nk0zuu8mqfPQ",
        "outputId": "5b706b4b-4380-42aa-a91d-2c6d0d50366b"
      },
      "source": [
        "\n",
        "mydict = {'a': 100, 'b': 200, 'c': 300, 'd': 400, 'e': 500}\n",
        "mydict"
      ],
      "execution_count": null,
      "outputs": [
        {
          "output_type": "execute_result",
          "data": {
            "text/plain": [
              "{'a': 100, 'b': 200, 'c': 300, 'd': 400, 'e': 500}"
            ]
          },
          "metadata": {
            "tags": []
          },
          "execution_count": 84
        }
      ]
    },
    {
      "cell_type": "code",
      "metadata": {
        "id": "VTypuduYqgZo"
      },
      "source": [
        "mydict.clear()"
      ],
      "execution_count": null,
      "outputs": []
    },
    {
      "cell_type": "code",
      "metadata": {
        "colab": {
          "base_uri": "https://localhost:8080/"
        },
        "id": "WmXEQSnsqhj1",
        "outputId": "3e9c48e1-b8ac-4e9b-de1e-a50e5d9f1bd5"
      },
      "source": [
        "mydict"
      ],
      "execution_count": null,
      "outputs": [
        {
          "output_type": "execute_result",
          "data": {
            "text/plain": [
              "{}"
            ]
          },
          "metadata": {
            "tags": []
          },
          "execution_count": 86
        }
      ]
    },
    {
      "cell_type": "code",
      "metadata": {
        "id": "bLiiH1p5qikG"
      },
      "source": [
        ""
      ],
      "execution_count": null,
      "outputs": []
    }
  ]
}